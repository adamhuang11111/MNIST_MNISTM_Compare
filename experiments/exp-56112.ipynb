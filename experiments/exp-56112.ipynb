{
 "cells": [
  {
   "cell_type": "markdown",
   "metadata": {},
   "source": [
    "The alternative explanation is this: when the same digits is paired (10% of the times), DANN is basically just doing supervised training."
   ]
  },
  {
   "cell_type": "markdown",
   "metadata": {},
   "source": [
    "## Settings"
   ]
  },
  {
   "cell_type": "code",
   "execution_count": 28,
   "metadata": {
    "ExecuteTime": {
     "end_time": "2019-08-08T20:22:07.752452Z",
     "start_time": "2019-08-08T20:22:07.695236Z"
    }
   },
   "outputs": [],
   "source": [
    "python_modules_path = python_modules_path = '/Users/adamhuang/Desktop/Summer_Research/network_generalizability/dann_experiments/python_modules'\n",
    "notebook_name = 'exp-56112.ipynb'\n",
    "model_name = '56112'\n",
    "\n",
    "# settings\n",
    "sv_save_path = '/Users/adamhuang/Desktop/Summer_Research/network_generalizability/dann_experiments/dann/training_csvs/new_training_scheme'\n",
    "pth_save_path = '/Users/adamhuang/Desktop/Summer_Research/network_generalizability/dann_experiments/dann/trained_models/new_training_scheme'"
   ]
  },
  {
   "cell_type": "markdown",
   "metadata": {},
   "source": [
    "## Imports"
   ]
  },
  {
   "cell_type": "code",
   "execution_count": 2,
   "metadata": {
    "ExecuteTime": {
     "end_time": "2019-08-08T20:18:06.156691Z",
     "start_time": "2019-08-08T20:18:05.487847Z"
    }
   },
   "outputs": [],
   "source": [
    "%reload_ext autoreload\n",
    "%autoreload 2\n",
    "%matplotlib inline"
   ]
  },
  {
   "cell_type": "code",
   "execution_count": 3,
   "metadata": {
    "ExecuteTime": {
     "end_time": "2019-08-08T20:18:06.185631Z",
     "start_time": "2019-08-08T20:18:06.158529Z"
    }
   },
   "outputs": [
    {
     "name": "stdout",
     "output_type": "stream",
     "text": [
      "Message: /Users/yangzhihan/Desktop/projects/domain_transfer/dann/experiments/../model_defs added to sys.path\n",
      "Contains: ['exp1.py', 'exp3.py']\n",
      "Message: /Users/yangzhihan/Desktop/projects/domain_transfer/dann/experiments/../scripts added to sys.path\n",
      "Contains: ['create_mnistm.py', 'utils.py', 'default_path.py', 'load_data.py', 'flip_gradient.py']\n"
     ]
    }
   ],
   "source": [
    "import sys\n",
    "sys.path.insert(0, python_modules_path)\n",
    "from path_magic import path_magic\n",
    "\n",
    "import os\n",
    "path_magic.make_dir_importable_relative(current_fname=os.path.realpath(notebook_name), \n",
    "                                        nup=1,\n",
    "                                        target_dir_name='model_defs',\n",
    "                                        show=True,\n",
    "                                        show_with_suffix='py')\n",
    "path_magic.make_dir_importable_relative(current_fname=os.path.realpath(notebook_name), \n",
    "                                        nup=1,\n",
    "                                        target_dir_name='scripts',\n",
    "                                        show=True,\n",
    "                                        show_with_suffix='py')"
   ]
  },
  {
   "cell_type": "code",
   "execution_count": 4,
   "metadata": {
    "ExecuteTime": {
     "end_time": "2019-08-08T20:18:20.075038Z",
     "start_time": "2019-08-08T20:18:06.190019Z"
    }
   },
   "outputs": [],
   "source": [
    "import numpy as np\n",
    "import pandas as pd\n",
    "from matplotlib import pyplot as plt\n",
    "\n",
    "# standard imports for pytorch\n",
    "import torch\n",
    "from torch import nn, optim\n",
    "from torch.utils.data import TensorDataset, DataLoader\n",
    "import torch.nn.functional as F\n",
    "\n",
    "from exp3 import FeatureExtractor, LabelClassifier, Dis  # import model classes\n",
    "from load_data import load_data_org, edge_detect  # import functions for getting and preprocessing data\n",
    "from ndarray_info.ndarray_info import get_info"
   ]
  },
  {
   "cell_type": "markdown",
   "metadata": {},
   "source": [
    "## Define model"
   ]
  },
  {
   "cell_type": "code",
   "execution_count": 5,
   "metadata": {
    "ExecuteTime": {
     "end_time": "2019-08-08T20:18:20.144164Z",
     "start_time": "2019-08-08T20:18:20.077790Z"
    }
   },
   "outputs": [
    {
     "name": "stdout",
     "output_type": "stream",
     "text": [
      "========== Model Summary ==========\n",
      "* Input shape: (3, 28, 28) -> Conv2d -> Output shape:  (32, 26, 26)\n",
      "* Input shape: (32, 26, 26) -> MaxPool2d -> Output shape:  (32, 13, 13)\n",
      "* Input shape: (32, 13, 13) -> Conv2d -> Output shape:  (64, 11, 11)\n",
      "* Input shape: (64, 11, 11) -> MaxPool2d -> Output shape:  (64, 5, 5)\n",
      "* Input shape: (64, 5, 5) -> Conv2d -> Output shape:  (64, 3, 3)\n"
     ]
    }
   ],
   "source": [
    "feature_extractor = FeatureExtractor()"
   ]
  },
  {
   "cell_type": "code",
   "execution_count": 6,
   "metadata": {
    "ExecuteTime": {
     "end_time": "2019-08-08T20:18:20.208829Z",
     "start_time": "2019-08-08T20:18:20.147356Z"
    }
   },
   "outputs": [
    {
     "name": "stdout",
     "output_type": "stream",
     "text": [
      "========== Model Summary ==========\n",
      "* Input shape: 576 -> Linear -> Output shape: 64\n",
      "* Input shape: 64 -> Linear -> Output shape: 10\n"
     ]
    }
   ],
   "source": [
    "label_classifier = LabelClassifier()"
   ]
  },
  {
   "cell_type": "code",
   "execution_count": 7,
   "metadata": {
    "ExecuteTime": {
     "end_time": "2019-08-08T20:18:20.285743Z",
     "start_time": "2019-08-08T20:18:20.215007Z"
    }
   },
   "outputs": [],
   "source": [
    "def get_models(lr=0.01):\n",
    "    \"\"\"Return models and their corresponding optimizers.\"\"\"\n",
    "    \n",
    "    fe = FeatureExtractor().double()\n",
    "    fe_opt = optim.SGD(fe.parameters(), lr=lr, momentum=0.9)\n",
    "    \n",
    "    lc = LabelClassifier().double()\n",
    "    lc_opt = optim.SGD(lc.parameters(), lr=lr, momentum=0.9)\n",
    "    \n",
    "    dis = Dis().double()\n",
    "    dis_opt = optim.SGD(dis.parameters(), lr=lr, momentum=0.9)\n",
    "    \n",
    "    return (fe, fe_opt), (lc, lc_opt), (dis, dis_opt)"
   ]
  },
  {
   "cell_type": "markdown",
   "metadata": {},
   "source": [
    "\n",
    "## Load data"
   ]
  },
  {
   "cell_type": "code",
   "execution_count": 8,
   "metadata": {
    "ExecuteTime": {
     "end_time": "2019-08-08T20:18:20.351998Z",
     "start_time": "2019-08-08T20:18:20.288473Z"
    }
   },
   "outputs": [],
   "source": [
    "mnist_path = '../data/MNIST_data'\n",
    "mnistm_path = '../data/mnistm_data.pkl'"
   ]
  },
  {
   "cell_type": "code",
   "execution_count": 9,
   "metadata": {
    "ExecuteTime": {
     "end_time": "2019-08-08T20:18:34.668996Z",
     "start_time": "2019-08-08T20:18:20.358086Z"
    }
   },
   "outputs": [
    {
     "name": "stdout",
     "output_type": "stream",
     "text": [
      "WARNING:tensorflow:From /Users/yangzhihan/Desktop/projects/domain_transfer/dann/experiments/../scripts/load_data.py:28: read_data_sets (from tensorflow.contrib.learn.python.learn.datasets.mnist) is deprecated and will be removed in a future version.\n",
      "Instructions for updating:\n",
      "Please use alternatives such as official/mnist/dataset.py from tensorflow/models.\n",
      "WARNING:tensorflow:From /Users/yangzhihan/anaconda/envs/deeplearning_googlecloud/lib/python3.6/site-packages/tensorflow/contrib/learn/python/learn/datasets/mnist.py:260: maybe_download (from tensorflow.contrib.learn.python.learn.datasets.base) is deprecated and will be removed in a future version.\n",
      "Instructions for updating:\n",
      "Please write your own downloading logic.\n",
      "WARNING:tensorflow:From /Users/yangzhihan/anaconda/envs/deeplearning_googlecloud/lib/python3.6/site-packages/tensorflow/contrib/learn/python/learn/datasets/mnist.py:262: extract_images (from tensorflow.contrib.learn.python.learn.datasets.mnist) is deprecated and will be removed in a future version.\n",
      "Instructions for updating:\n",
      "Please use tf.data to implement this functionality.\n",
      "Extracting ../data/MNIST_data/train-images-idx3-ubyte.gz\n",
      "WARNING:tensorflow:From /Users/yangzhihan/anaconda/envs/deeplearning_googlecloud/lib/python3.6/site-packages/tensorflow/contrib/learn/python/learn/datasets/mnist.py:267: extract_labels (from tensorflow.contrib.learn.python.learn.datasets.mnist) is deprecated and will be removed in a future version.\n",
      "Instructions for updating:\n",
      "Please use tf.data to implement this functionality.\n",
      "Extracting ../data/MNIST_data/train-labels-idx1-ubyte.gz\n",
      "WARNING:tensorflow:From /Users/yangzhihan/anaconda/envs/deeplearning_googlecloud/lib/python3.6/site-packages/tensorflow/contrib/learn/python/learn/datasets/mnist.py:110: dense_to_one_hot (from tensorflow.contrib.learn.python.learn.datasets.mnist) is deprecated and will be removed in a future version.\n",
      "Instructions for updating:\n",
      "Please use tf.one_hot on tensors.\n",
      "Extracting ../data/MNIST_data/t10k-images-idx3-ubyte.gz\n",
      "Extracting ../data/MNIST_data/t10k-labels-idx1-ubyte.gz\n",
      "WARNING:tensorflow:From /Users/yangzhihan/anaconda/envs/deeplearning_googlecloud/lib/python3.6/site-packages/tensorflow/contrib/learn/python/learn/datasets/mnist.py:290: DataSet.__init__ (from tensorflow.contrib.learn.python.learn.datasets.mnist) is deprecated and will be removed in a future version.\n",
      "Instructions for updating:\n",
      "Please use alternatives such as official/mnist/dataset.py from tensorflow/models.\n"
     ]
    }
   ],
   "source": [
    "(mnist_train, mnist_train_labels), (mnist_test, mnist_test_labels), (mnistm_train, mnistm_test), (combined_test_imgs, combined_test_labels, combined_test_domain) = load_data_org(mnist_path, mnistm_path)"
   ]
  },
  {
   "cell_type": "code",
   "execution_count": 10,
   "metadata": {
    "ExecuteTime": {
     "end_time": "2019-08-08T20:18:34.879638Z",
     "start_time": "2019-08-08T20:18:34.681816Z"
    }
   },
   "outputs": [],
   "source": [
    "info = get_info(shape=True, dtype=True, mean=True, min=True, max=True)"
   ]
  },
  {
   "cell_type": "code",
   "execution_count": 11,
   "metadata": {
    "ExecuteTime": {
     "end_time": "2019-08-08T20:18:36.442780Z",
     "start_time": "2019-08-08T20:18:34.883829Z"
    }
   },
   "outputs": [
    {
     "name": "stdout",
     "output_type": "stream",
     "text": [
      "Array Summary:\n",
      "* Shape: (55000, 3, 28, 28)\n",
      "* dtype: float64\n",
      "* Mean: -0.12921006657207923\n",
      "* Max: 0.6947281977791117\n",
      "* Min: -0.328982357306559\n",
      "Array Summary:\n",
      "* Shape: (55000,)\n",
      "* dtype: int64\n",
      "* Mean: 4.452745454545455\n",
      "* Max: 9\n",
      "* Min: 0\n",
      "Array Summary:\n",
      "* Shape: (55000, 3, 28, 28)\n",
      "* dtype: float64\n",
      "* Mean: 0.1292100665720834\n",
      "* Max: 0.6947281977791117\n",
      "* Min: -0.328982357306559\n",
      "Array Summary:\n",
      "* Shape: (10000, 3, 28, 28)\n",
      "* dtype: float64\n",
      "* Mean: -0.1276862377223613\n",
      "* Max: 0.6947281977791117\n",
      "* Min: -0.328982357306559\n",
      "Array Summary:\n",
      "* Shape: (10000,)\n",
      "* dtype: int64\n",
      "* Mean: 4.4434\n",
      "* Max: 9\n",
      "* Min: 0\n",
      "Array Summary:\n",
      "* Shape: (10000, 3, 28, 28)\n",
      "* dtype: float64\n",
      "* Mean: 0.1308327517067431\n",
      "* Max: 0.6947281977791117\n",
      "* Min: -0.328982357306559\n",
      "Array Summary:\n",
      "* Shape: (1000, 3, 28, 28)\n",
      "* dtype: float64\n",
      "* Mean: -0.008705471249105723\n",
      "* Max: 0.6947281977791117\n",
      "* Min: -0.328982357306559\n",
      "Array Summary:\n",
      "* Shape: (1000,)\n",
      "* dtype: int64\n",
      "* Mean: 4.378\n",
      "* Max: 9\n",
      "* Min: 0\n",
      "Array Summary:\n",
      "* Shape: (1000,)\n",
      "* dtype: int64\n",
      "* Mean: 0.5\n",
      "* Max: 1\n",
      "* Min: 0\n"
     ]
    }
   ],
   "source": [
    "for array in [mnist_train, \n",
    "              mnist_train_labels, \n",
    "              mnistm_train,\n",
    "              mnist_test, \n",
    "              mnist_test_labels,\n",
    "              mnistm_test, \n",
    "              combined_test_imgs,\n",
    "              combined_test_labels, \n",
    "              combined_test_domain]:\n",
    "    info(array)"
   ]
  },
  {
   "cell_type": "markdown",
   "metadata": {},
   "source": [
    "## Define training loop function"
   ]
  },
  {
   "cell_type": "markdown",
   "metadata": {},
   "source": [
    "### Metrics"
   ]
  },
  {
   "cell_type": "code",
   "execution_count": 12,
   "metadata": {
    "ExecuteTime": {
     "end_time": "2019-08-08T20:18:36.504713Z",
     "start_time": "2019-08-08T20:18:36.446712Z"
    }
   },
   "outputs": [],
   "source": [
    "loss_func = F.cross_entropy"
   ]
  },
  {
   "cell_type": "code",
   "execution_count": 13,
   "metadata": {
    "ExecuteTime": {
     "end_time": "2019-08-08T20:18:36.596556Z",
     "start_time": "2019-08-08T20:18:36.507350Z"
    }
   },
   "outputs": [],
   "source": [
    "def accuracy(logits : torch.DoubleTensor, truth : torch.LongTensor):\n",
    "    preds = torch.argmax(logits, dim=1)\n",
    "    return (preds == truth).float().mean()"
   ]
  },
  {
   "cell_type": "markdown",
   "metadata": {},
   "source": [
    "### Class for accummulating metric values"
   ]
  },
  {
   "cell_type": "code",
   "execution_count": 14,
   "metadata": {
    "ExecuteTime": {
     "end_time": "2019-08-08T20:18:36.670738Z",
     "start_time": "2019-08-08T20:18:36.600407Z"
    }
   },
   "outputs": [],
   "source": [
    "class MetricAccumulator:\n",
    "    \n",
    "    def __init__(self, nmetric=1):\n",
    "        self.metrics = [[] for i in range(nmetric)]\n",
    "        \n",
    "    def accumulate(self, values):\n",
    "        for i, value in enumerate(values):\n",
    "            self.metrics[i].append(value)\n",
    "            \n",
    "    def output(self):\n",
    "        return self.metrics"
   ]
  },
  {
   "cell_type": "markdown",
   "metadata": {},
   "source": [
    "### Functions for saving metric values as csvs and models as pths"
   ]
  },
  {
   "cell_type": "code",
   "execution_count": 15,
   "metadata": {
    "ExecuteTime": {
     "end_time": "2019-08-08T20:18:36.736719Z",
     "start_time": "2019-08-08T20:18:36.674340Z"
    }
   },
   "outputs": [],
   "source": [
    "def save_metrics_as_csv(metrics, metric_names, save_path, save_name):\n",
    "    \"\"\"\n",
    "    Save a list of list of metric values (recorded during training) as one csv file.\n",
    "    \n",
    "    metrics: a list of list of metric values, e.g. [[1, 2, 3], [7.8, 5.6, 3.4], [50.0, 71.7, 99.9]]\n",
    "    metric_names: corresponding names of metrics, e.g. ['epoch', 'loss', 'acc']\n",
    "    param: save_path: e.g. \"/Users/username/project_name/training_csvs\"\n",
    "    param: save_name: e.g. \"vgg16_training.csv\"\n",
    "    \"\"\"\n",
    "    loss_df = pd.DataFrame(np.array(list(zip(*metrics))))\n",
    "    loss_df.columns = metric_names\n",
    "    loss_df.to_csv(os.path.join(save_path, save_name))\n",
    "    print('{} is saved at {}.'.format(save_name, save_path))"
   ]
  },
  {
   "cell_type": "code",
   "execution_count": 16,
   "metadata": {
    "ExecuteTime": {
     "end_time": "2019-08-08T20:18:36.798092Z",
     "start_time": "2019-08-08T20:18:36.738677Z"
    }
   },
   "outputs": [],
   "source": [
    "def save_model_as_pth(model, save_path, save_name):\n",
    "    \"\"\"\n",
    "    Save weights of a PyTorch model as a pth file.\n",
    "    \n",
    "    param: model: e.g. a convolutional neural network\n",
    "    param: save_path: e.g. \"/Users/username/project_name/trained_models\"\n",
    "    param: save_name: e.g. \"vgg16.pth\"\n",
    "    \"\"\"\n",
    "    torch.save(model.state_dict(), os.path.join(save_path, save_name))\n",
    "    print('{} is saved at {}.'.format(save_name, save_path))"
   ]
  },
  {
   "cell_type": "markdown",
   "metadata": {},
   "source": [
    "### Sampling function"
   ]
  },
  {
   "cell_type": "code",
   "execution_count": 17,
   "metadata": {
    "ExecuteTime": {
     "end_time": "2019-08-08T20:18:36.846512Z",
     "start_time": "2019-08-08T20:18:36.800372Z"
    }
   },
   "outputs": [],
   "source": [
    "def random_sample(data, labels, batch_size, return_type):\n",
    "    \"\"\"\n",
    "    Randomly sample a fixed number of data and labels.\n",
    "    \n",
    "    param: data: e.g. images\n",
    "    param: labels: e.g. image classes\n",
    "    param: batch_size\n",
    "    param: return_numpy: whether to return \n",
    "        (data_batch, label_batch), (data_tensor, label_tensor) or\n",
    "        (data_tensor, label_tensor)\n",
    "    \"\"\"\n",
    "    indices = np.random.randint(data.shape[0], size=batch_size)  # generate random indices\n",
    "    data_batch, label_batch = data[indices], labels[indices]\n",
    "    data_tensor, label_tensor = torch.from_numpy(data_batch).double(), torch.from_numpy(label_batch).long()\n",
    "    \n",
    "    if return_type == 'both':\n",
    "        return (data_batch, label_batch), (data_tensor, label_tensor)\n",
    "    elif return_type == 'tensor':\n",
    "        return (data_tensor, label_tensor)\n",
    "    elif return_type == 'array':\n",
    "        return (data_batch, label_batch)"
   ]
  },
  {
   "cell_type": "markdown",
   "metadata": {},
   "source": [
    "### Function for getting different data with the same label or different labels"
   ]
  },
  {
   "cell_type": "code",
   "execution_count": 18,
   "metadata": {
    "ExecuteTime": {
     "end_time": "2019-08-08T20:18:36.892199Z",
     "start_time": "2019-08-08T20:18:36.848950Z"
    }
   },
   "outputs": [],
   "source": [
    "def get_data_same_labels(label_batch, all_labels, all_data):\n",
    "    new_data = []\n",
    "    for label in label_batch:\n",
    "        indices_of_same_label = np.where(all_labels == label)[0]\n",
    "        index_of_same_label = np.random.choice(indices_of_same_label)\n",
    "        new_data.append(all_data[index_of_same_label])\n",
    "    new_data = np.array(new_data)\n",
    "    new_data = torch.from_numpy(new_data)\n",
    "    return new_data"
   ]
  },
  {
   "cell_type": "code",
   "execution_count": 35,
   "metadata": {
    "ExecuteTime": {
     "end_time": "2019-08-08T20:23:44.114713Z",
     "start_time": "2019-08-08T20:23:44.058701Z"
    }
   },
   "outputs": [],
   "source": [
    "def get_data_different_labels(label_batch:torch.Tensor, all_labels:np.array, all_data:np.array):\n",
    "    \n",
    "    label_batch = label_batch.numpy()\n",
    "    \n",
    "    new_data = []\n",
    "    new_labels = []\n",
    "    for label in label_batch:\n",
    "        indices_of_different_label = np.where(all_labels != label)[0]\n",
    "        index_of_different_label = np.random.choice(indices_of_different_label)\n",
    "        new_data.append(all_data[index_of_different_label])\n",
    "        new_labels.append(all_labels[index_of_different_label])\n",
    "    \n",
    "    new_data = np.array(new_data)\n",
    "    new_data = torch.from_numpy(new_data)\n",
    "    new_labels = np.array(new_labels)\n",
    "    new_labels = torch.from_numpy(new_labels)\n",
    "    \n",
    "    return new_data, new_labels"
   ]
  },
  {
   "cell_type": "code",
   "execution_count": 20,
   "metadata": {
    "ExecuteTime": {
     "end_time": "2019-08-08T20:18:36.991621Z",
     "start_time": "2019-08-08T20:18:36.939720Z"
    }
   },
   "outputs": [],
   "source": [
    "def get_dataloader(data, labels, bs=64, shuffle=False):\n",
    "    data, labels = map(torch.from_numpy, [data, labels])\n",
    "    ds = TensorDataset(data, labels)\n",
    "    dl = DataLoader(ds, batch_size=bs, shuffle=shuffle)\n",
    "    return dl"
   ]
  },
  {
   "cell_type": "markdown",
   "metadata": {},
   "source": [
    "### Dynamic learning rate"
   ]
  },
  {
   "cell_type": "code",
   "execution_count": 21,
   "metadata": {
    "ExecuteTime": {
     "end_time": "2019-08-08T20:18:37.036276Z",
     "start_time": "2019-08-08T20:18:36.993453Z"
    }
   },
   "outputs": [],
   "source": [
    "def get_p(step, nstep):\n",
    "    return float(step) / nstep"
   ]
  },
  {
   "cell_type": "code",
   "execution_count": 22,
   "metadata": {
    "ExecuteTime": {
     "end_time": "2019-08-08T20:18:37.089132Z",
     "start_time": "2019-08-08T20:18:37.038321Z"
    }
   },
   "outputs": [],
   "source": [
    "def get_lrs(step, nstep):\n",
    "    p = get_p(step, nstep)\n",
    "    lr = 0.01 / (1. + 10 * p)**0.75\n",
    "    dis_grad_multiplier = 2. / (1. + np.exp(-10. * p)) - 1\n",
    "    return (lr, dis_grad_multiplier)"
   ]
  },
  {
   "cell_type": "code",
   "execution_count": 23,
   "metadata": {
    "ExecuteTime": {
     "end_time": "2019-08-08T20:18:37.155661Z",
     "start_time": "2019-08-08T20:18:37.090781Z"
    }
   },
   "outputs": [],
   "source": [
    "def update_lr(optimizer, lr):\n",
    "    for param_group in optimizer.param_groups:\n",
    "        param_group['lr'] = lr"
   ]
  },
  {
   "cell_type": "markdown",
   "metadata": {},
   "source": [
    "### Training loop"
   ]
  },
  {
   "cell_type": "code",
   "execution_count": 36,
   "metadata": {
    "ExecuteTime": {
     "end_time": "2019-08-08T20:23:45.651353Z",
     "start_time": "2019-08-08T20:23:45.562959Z"
    }
   },
   "outputs": [],
   "source": [
    "def train(mode):\n",
    "    \n",
    "    if mode == model_name:\n",
    "    \n",
    "        nepoch = 10\n",
    "        steps_per_epoch = 860\n",
    "        bs = 64\n",
    "        \n",
    "        (fe, fe_opt), (lc, lc_opt), (dis, dis_opt) = get_models(lr=0.01)\n",
    "        accum_train = MetricAccumulator(nmetric=4)  # step, loss, mnist-acc, mnistm-acc\n",
    "        accum_valid = MetricAccumulator(nmetric=4)\n",
    "        \n",
    "        domain_labels = np.concatenate([[0 for i in range(32)], [1 for i in range(32)]])\n",
    "        domain_labels = torch.LongTensor(domain_labels)\n",
    "\n",
    "        print('========== Training ========')\n",
    "        \n",
    "        for i in range(nepoch):\n",
    "        \n",
    "            fe.train(); lc.train()  # training mode\n",
    "            for j in range(steps_per_epoch):\n",
    "                \n",
    "                # update learning rates\n",
    "#                 lr, fe_grad_multiplier = get_lrs(i*steps_per_epoch+j, nepoch*steps_per_epoch)\n",
    "                lr, fe_grad_multiplier = 0.01, 0.1\n",
    "\n",
    "                for param_group in fe_opt.param_groups:\n",
    "                    param_group['lr'] = lr\n",
    "                for param_group in lc_opt.param_groups:\n",
    "                    param_group['lr'] = lr\n",
    "                for param_group in dis_opt.param_groups:\n",
    "                    param_group['lr'] = lr\n",
    "            \n",
    "                ##### train feature extractor + label classifier\n",
    "\n",
    "                # feed-forward\n",
    "                mnist_tensor, mnist_labels = random_sample(mnist_train, mnist_train_labels, int(bs/2), return_type='tensor')\n",
    "                mnistm_tensor, mnistm_labels = get_data_different_labels(mnist_labels, mnist_train_labels, mnistm_train)\n",
    "        \n",
    "                both_data = torch.cat([mnist_tensor, mnistm_tensor])\n",
    "                \n",
    "                both_feats = fe(both_data)\n",
    "                mnist_feats = both_feats[:int(bs/2)]  # only mnist features are passed into label classifier\n",
    "                mnist_preds = lc(mnist_feats)\n",
    "                mnist_label_loss = loss_func(mnist_preds, mnist_labels)\n",
    "                \n",
    "                # gradient descent and clear gradients\n",
    "                mnist_label_loss.backward(retain_graph=True)\n",
    "                fe_opt.step(); fe_opt.zero_grad()  \n",
    "                lc_opt.step(); lc_opt.zero_grad()\n",
    "                \n",
    "                ##### train feature extractor (adversarial) + domain classifier\n",
    "            \n",
    "                both_domains = dis(both_feats)\n",
    "                both_domain_loss = loss_func(both_domains, domain_labels)\n",
    "                \n",
    "                # gradient descent and clear gradients\n",
    "                both_domain_loss.backward()\n",
    "                dis_opt.step(); dis_opt.zero_grad()\n",
    "                with torch.no_grad():\n",
    "                    for p in fe.parameters(): p.grad = (-1) *  p.grad * fe_grad_multiplier\n",
    "                fe_opt.step(); fe_opt.zero_grad()\n",
    "                \n",
    "                # evaluate metrics\n",
    "                if j % 10 == 0: \n",
    "                    \n",
    "                    # compute metric\n",
    "                    mnist_label_acc = accuracy(mnist_preds, mnist_labels)\n",
    "                    mnistm_preds = lc(fe(mnistm_tensor))\n",
    "                    mnistm_label_acc = accuracy(mnistm_preds, mnistm_labels)\n",
    "                    both_domain_acc = accuracy(both_domains, domain_labels)\n",
    "        \n",
    "                    # accumulate metric values\n",
    "                    accum_train.accumulate([i * steps_per_epoch + j, \n",
    "                                            mnist_label_acc.detach().item(), \n",
    "                                            mnistm_label_acc.detach().item(),\n",
    "                                            both_domain_acc.detach().item()])\n",
    "                    \n",
    "                    print('epoch {0:2}/10 {1:3} | mnist-acc {2:6.3f} mnistm-acc {3:6.3f} | domain-acc {4:6.3f} | lr {5:5.5f} l {6:5.5f}'.format(i, j, mnist_label_acc, mnistm_label_acc, both_domain_acc, lr, fe_grad_multiplier))\n",
    "                    \n",
    "            ##########\n",
    "                    \n",
    "            # TODO: add validation for MNIST-M here\n",
    "                \n",
    "            fe.eval(); lc.eval()  # validation mode\n",
    "                \n",
    "            mnist_test_dl = get_dataloader(mnist_test, mnist_test_labels)\n",
    "            mnistm_test_dl = get_dataloader(mnistm_test, mnist_test_labels)\n",
    "\n",
    "            # feed-forward\n",
    "            domain_accs = []\n",
    "            \n",
    "            mnist_test_accs = []\n",
    "            for xb, yb in mnist_test_dl:\n",
    "                feats = fe(xb)\n",
    "                preds = lc(feats)\n",
    "                acc = accuracy(preds, yb.long())\n",
    "                mnist_test_accs.append(acc.detach().item())\n",
    "                \n",
    "                domains = dis(feats)\n",
    "                acc = accuracy(domains, torch.zeros(domains.size(0)).long())\n",
    "                domain_accs.append(acc.detach().item())\n",
    "            mnist_test_acc = np.mean(mnist_test_accs)\n",
    "            \n",
    "            mnistm_test_accs = []\n",
    "            for xb, yb in mnistm_test_dl:\n",
    "                feats = fe(xb)\n",
    "                preds = lc(feats)\n",
    "                acc = accuracy(preds, yb.long())\n",
    "                mnistm_test_accs.append(acc.detach().item())\n",
    "                \n",
    "                domains = dis(feats)\n",
    "                acc = accuracy(domains, torch.ones(domains.size(0)).long())\n",
    "                domain_accs.append(acc.detach().item())\n",
    "            mnistm_test_acc = np.mean(mnistm_test_accs)\n",
    "            \n",
    "            domain_acc = np.mean(domain_accs)\n",
    "\n",
    "            # accumulate metric values\n",
    "            accum_valid.accumulate([(i + 1) * steps_per_epoch, \n",
    "                                    mnist_test_acc, \n",
    "                                    mnistm_test_acc,\n",
    "                                    domain_acc])\n",
    "            \n",
    "            print('[Validation] mnist acc: {0:5.3f} | mnistm acc: {1:5.3f} | domain acc {2:5.3f}'.format(mnist_test_acc, mnistm_test_acc, domain_acc))\n",
    "                   \n",
    "            ##########\n",
    "\n",
    "        save_metrics_as_csv(accum_train.output(), ['step', 'mnist-acc', 'mnistm-acc', 'domain-acc'], csv_save_path, f'{mode}_train.csv')\n",
    "        save_metrics_as_csv(accum_valid.output(), ['step', 'mnist-acc', 'mnistm-acc', 'domain-acc'], csv_save_path, f'{mode}_valid.csv')\n",
    " \n",
    "        save_model_as_pth(fe, pth_save_path, f'{mode}_fe.pth')\n",
    "        save_model_as_pth(lc, pth_save_path, f'{mode}_lc.pth')"
   ]
  },
  {
   "cell_type": "code",
   "execution_count": 37,
   "metadata": {
    "ExecuteTime": {
     "end_time": "2019-08-08T20:51:38.600126Z",
     "start_time": "2019-08-08T20:23:45.934629Z"
    }
   },
   "outputs": [
    {
     "name": "stdout",
     "output_type": "stream",
     "text": [
      "========== Model Summary ==========\n",
      "* Input shape: (3, 28, 28) -> Conv2d -> Output shape:  (32, 26, 26)\n",
      "* Input shape: (32, 26, 26) -> MaxPool2d -> Output shape:  (32, 13, 13)\n",
      "* Input shape: (32, 13, 13) -> Conv2d -> Output shape:  (64, 11, 11)\n",
      "* Input shape: (64, 11, 11) -> MaxPool2d -> Output shape:  (64, 5, 5)\n",
      "* Input shape: (64, 5, 5) -> Conv2d -> Output shape:  (64, 3, 3)\n",
      "========== Model Summary ==========\n",
      "* Input shape: 576 -> Linear -> Output shape: 64\n",
      "* Input shape: 64 -> Linear -> Output shape: 10\n",
      "========== Model Summary ==========\n",
      "* Input shape: 576 -> Linear -> Output shape: 64\n",
      "* Input shape: 64 -> Linear -> Output shape: 2\n",
      "========== Training ========\n",
      "epoch  0/10   0 | mnist-acc  0.125 mnistm-acc  0.000 | domain-acc  0.484 | lr 0.01000 l 0.10000\n",
      "epoch  0/10  10 | mnist-acc  0.094 mnistm-acc  0.188 | domain-acc  0.500 | lr 0.01000 l 0.10000\n",
      "epoch  0/10  20 | mnist-acc  0.062 mnistm-acc  0.031 | domain-acc  0.500 | lr 0.01000 l 0.10000\n",
      "epoch  0/10  30 | mnist-acc  0.094 mnistm-acc  0.125 | domain-acc  0.500 | lr 0.01000 l 0.10000\n",
      "epoch  0/10  40 | mnist-acc  0.094 mnistm-acc  0.188 | domain-acc  0.656 | lr 0.01000 l 0.10000\n",
      "epoch  0/10  50 | mnist-acc  0.094 mnistm-acc  0.031 | domain-acc  0.719 | lr 0.01000 l 0.10000\n",
      "epoch  0/10  60 | mnist-acc  0.312 mnistm-acc  0.094 | domain-acc  0.562 | lr 0.01000 l 0.10000\n",
      "epoch  0/10  70 | mnist-acc  0.500 mnistm-acc  0.125 | domain-acc  0.516 | lr 0.01000 l 0.10000\n",
      "epoch  0/10  80 | mnist-acc  0.469 mnistm-acc  0.406 | domain-acc  0.625 | lr 0.01000 l 0.10000\n",
      "epoch  0/10  90 | mnist-acc  0.344 mnistm-acc  0.062 | domain-acc  0.859 | lr 0.01000 l 0.10000\n",
      "epoch  0/10 100 | mnist-acc  0.438 mnistm-acc  0.156 | domain-acc  0.766 | lr 0.01000 l 0.10000\n",
      "epoch  0/10 110 | mnist-acc  0.469 mnistm-acc  0.219 | domain-acc  0.766 | lr 0.01000 l 0.10000\n",
      "epoch  0/10 120 | mnist-acc  0.531 mnistm-acc  0.375 | domain-acc  0.781 | lr 0.01000 l 0.10000\n",
      "epoch  0/10 130 | mnist-acc  0.844 mnistm-acc  0.375 | domain-acc  0.594 | lr 0.01000 l 0.10000\n",
      "epoch  0/10 140 | mnist-acc  0.844 mnistm-acc  0.406 | domain-acc  0.875 | lr 0.01000 l 0.10000\n",
      "epoch  0/10 150 | mnist-acc  0.781 mnistm-acc  0.312 | domain-acc  0.734 | lr 0.01000 l 0.10000\n",
      "epoch  0/10 160 | mnist-acc  0.719 mnistm-acc  0.438 | domain-acc  0.781 | lr 0.01000 l 0.10000\n",
      "epoch  0/10 170 | mnist-acc  0.938 mnistm-acc  0.344 | domain-acc  0.875 | lr 0.01000 l 0.10000\n",
      "epoch  0/10 180 | mnist-acc  0.875 mnistm-acc  0.281 | domain-acc  0.844 | lr 0.01000 l 0.10000\n",
      "epoch  0/10 190 | mnist-acc  0.875 mnistm-acc  0.594 | domain-acc  0.766 | lr 0.01000 l 0.10000\n",
      "epoch  0/10 200 | mnist-acc  0.969 mnistm-acc  0.625 | domain-acc  0.516 | lr 0.01000 l 0.10000\n",
      "epoch  0/10 210 | mnist-acc  0.844 mnistm-acc  0.688 | domain-acc  0.719 | lr 0.01000 l 0.10000\n",
      "epoch  0/10 220 | mnist-acc  0.781 mnistm-acc  0.500 | domain-acc  0.766 | lr 0.01000 l 0.10000\n",
      "epoch  0/10 230 | mnist-acc  0.844 mnistm-acc  0.469 | domain-acc  0.719 | lr 0.01000 l 0.10000\n",
      "epoch  0/10 240 | mnist-acc  0.906 mnistm-acc  0.469 | domain-acc  0.812 | lr 0.01000 l 0.10000\n",
      "epoch  0/10 250 | mnist-acc  0.906 mnistm-acc  0.531 | domain-acc  0.781 | lr 0.01000 l 0.10000\n",
      "epoch  0/10 260 | mnist-acc  0.812 mnistm-acc  0.531 | domain-acc  0.859 | lr 0.01000 l 0.10000\n",
      "epoch  0/10 270 | mnist-acc  0.969 mnistm-acc  0.500 | domain-acc  0.844 | lr 0.01000 l 0.10000\n",
      "epoch  0/10 280 | mnist-acc  0.875 mnistm-acc  0.500 | domain-acc  0.844 | lr 0.01000 l 0.10000\n",
      "epoch  0/10 290 | mnist-acc  0.875 mnistm-acc  0.594 | domain-acc  0.781 | lr 0.01000 l 0.10000\n",
      "epoch  0/10 300 | mnist-acc  0.750 mnistm-acc  0.469 | domain-acc  0.828 | lr 0.01000 l 0.10000\n",
      "epoch  0/10 310 | mnist-acc  0.969 mnistm-acc  0.562 | domain-acc  0.797 | lr 0.01000 l 0.10000\n",
      "epoch  0/10 320 | mnist-acc  0.938 mnistm-acc  0.625 | domain-acc  0.719 | lr 0.01000 l 0.10000\n",
      "epoch  0/10 330 | mnist-acc  0.938 mnistm-acc  0.500 | domain-acc  0.750 | lr 0.01000 l 0.10000\n",
      "epoch  0/10 340 | mnist-acc  0.969 mnistm-acc  0.469 | domain-acc  0.906 | lr 0.01000 l 0.10000\n",
      "epoch  0/10 350 | mnist-acc  0.969 mnistm-acc  0.406 | domain-acc  0.875 | lr 0.01000 l 0.10000\n",
      "epoch  0/10 360 | mnist-acc  0.844 mnistm-acc  0.656 | domain-acc  0.766 | lr 0.01000 l 0.10000\n",
      "epoch  0/10 370 | mnist-acc  0.875 mnistm-acc  0.625 | domain-acc  0.891 | lr 0.01000 l 0.10000\n",
      "epoch  0/10 380 | mnist-acc  0.844 mnistm-acc  0.500 | domain-acc  0.922 | lr 0.01000 l 0.10000\n",
      "epoch  0/10 390 | mnist-acc  0.969 mnistm-acc  0.656 | domain-acc  0.922 | lr 0.01000 l 0.10000\n",
      "epoch  0/10 400 | mnist-acc  0.938 mnistm-acc  0.469 | domain-acc  0.969 | lr 0.01000 l 0.10000\n",
      "epoch  0/10 410 | mnist-acc  0.875 mnistm-acc  0.500 | domain-acc  0.922 | lr 0.01000 l 0.10000\n",
      "epoch  0/10 420 | mnist-acc  0.969 mnistm-acc  0.531 | domain-acc  0.984 | lr 0.01000 l 0.10000\n",
      "epoch  0/10 430 | mnist-acc  0.969 mnistm-acc  0.438 | domain-acc  0.922 | lr 0.01000 l 0.10000\n",
      "epoch  0/10 440 | mnist-acc  0.906 mnistm-acc  0.656 | domain-acc  0.938 | lr 0.01000 l 0.10000\n",
      "epoch  0/10 450 | mnist-acc  0.906 mnistm-acc  0.469 | domain-acc  0.969 | lr 0.01000 l 0.10000\n",
      "epoch  0/10 460 | mnist-acc  0.969 mnistm-acc  0.594 | domain-acc  0.938 | lr 0.01000 l 0.10000\n",
      "epoch  0/10 470 | mnist-acc  1.000 mnistm-acc  0.750 | domain-acc  0.953 | lr 0.01000 l 0.10000\n",
      "epoch  0/10 480 | mnist-acc  0.969 mnistm-acc  0.500 | domain-acc  0.922 | lr 0.01000 l 0.10000\n",
      "epoch  0/10 490 | mnist-acc  0.969 mnistm-acc  0.500 | domain-acc  0.922 | lr 0.01000 l 0.10000\n",
      "epoch  0/10 500 | mnist-acc  1.000 mnistm-acc  0.531 | domain-acc  0.906 | lr 0.01000 l 0.10000\n",
      "epoch  0/10 510 | mnist-acc  0.969 mnistm-acc  0.594 | domain-acc  0.969 | lr 0.01000 l 0.10000\n",
      "epoch  0/10 520 | mnist-acc  0.969 mnistm-acc  0.719 | domain-acc  0.953 | lr 0.01000 l 0.10000\n",
      "epoch  0/10 530 | mnist-acc  0.875 mnistm-acc  0.688 | domain-acc  0.906 | lr 0.01000 l 0.10000\n",
      "epoch  0/10 540 | mnist-acc  0.875 mnistm-acc  0.500 | domain-acc  0.922 | lr 0.01000 l 0.10000\n",
      "epoch  0/10 550 | mnist-acc  0.969 mnistm-acc  0.531 | domain-acc  0.969 | lr 0.01000 l 0.10000\n",
      "epoch  0/10 560 | mnist-acc  0.875 mnistm-acc  0.594 | domain-acc  0.875 | lr 0.01000 l 0.10000\n",
      "epoch  0/10 570 | mnist-acc  0.969 mnistm-acc  0.656 | domain-acc  0.922 | lr 0.01000 l 0.10000\n",
      "epoch  0/10 580 | mnist-acc  0.906 mnistm-acc  0.656 | domain-acc  0.922 | lr 0.01000 l 0.10000\n",
      "epoch  0/10 590 | mnist-acc  0.969 mnistm-acc  0.562 | domain-acc  0.891 | lr 0.01000 l 0.10000\n",
      "epoch  0/10 600 | mnist-acc  0.969 mnistm-acc  0.594 | domain-acc  0.938 | lr 0.01000 l 0.10000\n",
      "epoch  0/10 610 | mnist-acc  1.000 mnistm-acc  0.625 | domain-acc  0.922 | lr 0.01000 l 0.10000\n",
      "epoch  0/10 620 | mnist-acc  0.969 mnistm-acc  0.531 | domain-acc  0.953 | lr 0.01000 l 0.10000\n",
      "epoch  0/10 630 | mnist-acc  0.906 mnistm-acc  0.594 | domain-acc  0.922 | lr 0.01000 l 0.10000\n",
      "epoch  0/10 640 | mnist-acc  1.000 mnistm-acc  0.500 | domain-acc  0.984 | lr 0.01000 l 0.10000\n",
      "epoch  0/10 650 | mnist-acc  0.938 mnistm-acc  0.531 | domain-acc  0.953 | lr 0.01000 l 0.10000\n",
      "epoch  0/10 660 | mnist-acc  1.000 mnistm-acc  0.562 | domain-acc  1.000 | lr 0.01000 l 0.10000\n",
      "epoch  0/10 670 | mnist-acc  0.938 mnistm-acc  0.562 | domain-acc  0.906 | lr 0.01000 l 0.10000\n",
      "epoch  0/10 680 | mnist-acc  0.906 mnistm-acc  0.500 | domain-acc  0.969 | lr 0.01000 l 0.10000\n",
      "epoch  0/10 690 | mnist-acc  0.938 mnistm-acc  0.625 | domain-acc  0.891 | lr 0.01000 l 0.10000\n",
      "epoch  0/10 700 | mnist-acc  0.906 mnistm-acc  0.656 | domain-acc  0.906 | lr 0.01000 l 0.10000\n",
      "epoch  0/10 710 | mnist-acc  0.969 mnistm-acc  0.625 | domain-acc  0.875 | lr 0.01000 l 0.10000\n",
      "epoch  0/10 720 | mnist-acc  0.938 mnistm-acc  0.625 | domain-acc  0.938 | lr 0.01000 l 0.10000\n",
      "epoch  0/10 730 | mnist-acc  1.000 mnistm-acc  0.594 | domain-acc  0.984 | lr 0.01000 l 0.10000\n",
      "epoch  0/10 740 | mnist-acc  1.000 mnistm-acc  0.531 | domain-acc  0.859 | lr 0.01000 l 0.10000\n",
      "epoch  0/10 750 | mnist-acc  0.969 mnistm-acc  0.625 | domain-acc  0.844 | lr 0.01000 l 0.10000\n",
      "epoch  0/10 760 | mnist-acc  1.000 mnistm-acc  0.719 | domain-acc  0.906 | lr 0.01000 l 0.10000\n",
      "epoch  0/10 770 | mnist-acc  0.969 mnistm-acc  0.625 | domain-acc  0.938 | lr 0.01000 l 0.10000\n",
      "epoch  0/10 780 | mnist-acc  1.000 mnistm-acc  0.656 | domain-acc  0.922 | lr 0.01000 l 0.10000\n"
     ]
    },
    {
     "name": "stdout",
     "output_type": "stream",
     "text": [
      "epoch  0/10 790 | mnist-acc  0.938 mnistm-acc  0.375 | domain-acc  0.875 | lr 0.01000 l 0.10000\n",
      "epoch  0/10 800 | mnist-acc  0.969 mnistm-acc  0.531 | domain-acc  0.719 | lr 0.01000 l 0.10000\n",
      "epoch  0/10 810 | mnist-acc  1.000 mnistm-acc  0.625 | domain-acc  0.891 | lr 0.01000 l 0.10000\n",
      "epoch  0/10 820 | mnist-acc  0.969 mnistm-acc  0.500 | domain-acc  0.828 | lr 0.01000 l 0.10000\n",
      "epoch  0/10 830 | mnist-acc  1.000 mnistm-acc  0.781 | domain-acc  0.625 | lr 0.01000 l 0.10000\n",
      "epoch  0/10 840 | mnist-acc  0.906 mnistm-acc  0.406 | domain-acc  0.844 | lr 0.01000 l 0.10000\n",
      "epoch  0/10 850 | mnist-acc  1.000 mnistm-acc  0.531 | domain-acc  0.734 | lr 0.01000 l 0.10000\n",
      "[Validation] mnist acc: 0.946 | mnistm acc: 0.524 | domain acc 0.848\n",
      "epoch  1/10   0 | mnist-acc  0.969 mnistm-acc  0.656 | domain-acc  0.859 | lr 0.01000 l 0.10000\n",
      "epoch  1/10  10 | mnist-acc  0.906 mnistm-acc  0.500 | domain-acc  0.625 | lr 0.01000 l 0.10000\n",
      "epoch  1/10  20 | mnist-acc  0.969 mnistm-acc  0.719 | domain-acc  0.688 | lr 0.01000 l 0.10000\n",
      "epoch  1/10  30 | mnist-acc  0.906 mnistm-acc  0.531 | domain-acc  0.750 | lr 0.01000 l 0.10000\n",
      "epoch  1/10  40 | mnist-acc  0.906 mnistm-acc  0.531 | domain-acc  0.547 | lr 0.01000 l 0.10000\n",
      "epoch  1/10  50 | mnist-acc  0.250 mnistm-acc  0.375 | domain-acc  0.500 | lr 0.01000 l 0.10000\n",
      "epoch  1/10  60 | mnist-acc  0.812 mnistm-acc  0.438 | domain-acc  0.609 | lr 0.01000 l 0.10000\n",
      "epoch  1/10  70 | mnist-acc  0.844 mnistm-acc  0.562 | domain-acc  0.734 | lr 0.01000 l 0.10000\n",
      "epoch  1/10  80 | mnist-acc  0.875 mnistm-acc  0.625 | domain-acc  0.859 | lr 0.01000 l 0.10000\n",
      "epoch  1/10  90 | mnist-acc  0.938 mnistm-acc  0.531 | domain-acc  0.750 | lr 0.01000 l 0.10000\n",
      "epoch  1/10 100 | mnist-acc  0.906 mnistm-acc  0.469 | domain-acc  0.750 | lr 0.01000 l 0.10000\n",
      "epoch  1/10 110 | mnist-acc  0.938 mnistm-acc  0.656 | domain-acc  0.891 | lr 0.01000 l 0.10000\n",
      "epoch  1/10 120 | mnist-acc  0.875 mnistm-acc  0.656 | domain-acc  0.891 | lr 0.01000 l 0.10000\n",
      "epoch  1/10 130 | mnist-acc  0.906 mnistm-acc  0.500 | domain-acc  0.938 | lr 0.01000 l 0.10000\n",
      "epoch  1/10 140 | mnist-acc  1.000 mnistm-acc  0.531 | domain-acc  0.906 | lr 0.01000 l 0.10000\n",
      "epoch  1/10 150 | mnist-acc  0.969 mnistm-acc  0.656 | domain-acc  0.891 | lr 0.01000 l 0.10000\n",
      "epoch  1/10 160 | mnist-acc  0.812 mnistm-acc  0.719 | domain-acc  0.938 | lr 0.01000 l 0.10000\n",
      "epoch  1/10 170 | mnist-acc  0.969 mnistm-acc  0.625 | domain-acc  0.969 | lr 0.01000 l 0.10000\n",
      "epoch  1/10 180 | mnist-acc  0.969 mnistm-acc  0.406 | domain-acc  0.953 | lr 0.01000 l 0.10000\n",
      "epoch  1/10 190 | mnist-acc  0.938 mnistm-acc  0.531 | domain-acc  0.953 | lr 0.01000 l 0.10000\n",
      "epoch  1/10 200 | mnist-acc  0.812 mnistm-acc  0.500 | domain-acc  0.953 | lr 0.01000 l 0.10000\n",
      "epoch  1/10 210 | mnist-acc  0.938 mnistm-acc  0.469 | domain-acc  0.938 | lr 0.01000 l 0.10000\n",
      "epoch  1/10 220 | mnist-acc  0.938 mnistm-acc  0.562 | domain-acc  0.938 | lr 0.01000 l 0.10000\n",
      "epoch  1/10 230 | mnist-acc  0.938 mnistm-acc  0.438 | domain-acc  0.953 | lr 0.01000 l 0.10000\n",
      "epoch  1/10 240 | mnist-acc  1.000 mnistm-acc  0.406 | domain-acc  0.891 | lr 0.01000 l 0.10000\n",
      "epoch  1/10 250 | mnist-acc  0.969 mnistm-acc  0.688 | domain-acc  0.938 | lr 0.01000 l 0.10000\n",
      "epoch  1/10 260 | mnist-acc  0.969 mnistm-acc  0.656 | domain-acc  0.938 | lr 0.01000 l 0.10000\n",
      "epoch  1/10 270 | mnist-acc  0.969 mnistm-acc  0.594 | domain-acc  0.938 | lr 0.01000 l 0.10000\n",
      "epoch  1/10 280 | mnist-acc  0.969 mnistm-acc  0.562 | domain-acc  0.906 | lr 0.01000 l 0.10000\n",
      "epoch  1/10 290 | mnist-acc  0.938 mnistm-acc  0.781 | domain-acc  0.922 | lr 0.01000 l 0.10000\n",
      "epoch  1/10 300 | mnist-acc  0.969 mnistm-acc  0.625 | domain-acc  0.906 | lr 0.01000 l 0.10000\n",
      "epoch  1/10 310 | mnist-acc  1.000 mnistm-acc  0.500 | domain-acc  0.938 | lr 0.01000 l 0.10000\n",
      "epoch  1/10 320 | mnist-acc  0.969 mnistm-acc  0.688 | domain-acc  0.953 | lr 0.01000 l 0.10000\n",
      "epoch  1/10 330 | mnist-acc  1.000 mnistm-acc  0.594 | domain-acc  0.938 | lr 0.01000 l 0.10000\n",
      "epoch  1/10 340 | mnist-acc  0.906 mnistm-acc  0.562 | domain-acc  0.953 | lr 0.01000 l 0.10000\n",
      "epoch  1/10 350 | mnist-acc  0.938 mnistm-acc  0.656 | domain-acc  0.891 | lr 0.01000 l 0.10000\n",
      "epoch  1/10 360 | mnist-acc  1.000 mnistm-acc  0.625 | domain-acc  0.922 | lr 0.01000 l 0.10000\n",
      "epoch  1/10 370 | mnist-acc  0.938 mnistm-acc  0.469 | domain-acc  0.984 | lr 0.01000 l 0.10000\n",
      "epoch  1/10 380 | mnist-acc  0.938 mnistm-acc  0.688 | domain-acc  0.984 | lr 0.01000 l 0.10000\n",
      "epoch  1/10 390 | mnist-acc  0.969 mnistm-acc  0.469 | domain-acc  0.906 | lr 0.01000 l 0.10000\n",
      "epoch  1/10 400 | mnist-acc  0.938 mnistm-acc  0.594 | domain-acc  0.984 | lr 0.01000 l 0.10000\n",
      "epoch  1/10 410 | mnist-acc  0.969 mnistm-acc  0.500 | domain-acc  0.953 | lr 0.01000 l 0.10000\n",
      "epoch  1/10 420 | mnist-acc  0.969 mnistm-acc  0.656 | domain-acc  0.953 | lr 0.01000 l 0.10000\n",
      "epoch  1/10 430 | mnist-acc  0.938 mnistm-acc  0.500 | domain-acc  0.953 | lr 0.01000 l 0.10000\n",
      "epoch  1/10 440 | mnist-acc  0.906 mnistm-acc  0.562 | domain-acc  0.891 | lr 0.01000 l 0.10000\n",
      "epoch  1/10 450 | mnist-acc  0.969 mnistm-acc  0.406 | domain-acc  0.922 | lr 0.01000 l 0.10000\n",
      "epoch  1/10 460 | mnist-acc  0.969 mnistm-acc  0.625 | domain-acc  0.875 | lr 0.01000 l 0.10000\n",
      "epoch  1/10 470 | mnist-acc  0.938 mnistm-acc  0.500 | domain-acc  0.922 | lr 0.01000 l 0.10000\n",
      "epoch  1/10 480 | mnist-acc  0.969 mnistm-acc  0.688 | domain-acc  0.922 | lr 0.01000 l 0.10000\n",
      "epoch  1/10 490 | mnist-acc  0.938 mnistm-acc  0.438 | domain-acc  0.781 | lr 0.01000 l 0.10000\n",
      "epoch  1/10 500 | mnist-acc  0.156 mnistm-acc  0.062 | domain-acc  0.500 | lr 0.01000 l 0.10000\n",
      "epoch  1/10 510 | mnist-acc  0.094 mnistm-acc  0.125 | domain-acc  0.500 | lr 0.01000 l 0.10000\n",
      "epoch  1/10 520 | mnist-acc  0.156 mnistm-acc  0.094 | domain-acc  0.500 | lr 0.01000 l 0.10000\n",
      "epoch  1/10 530 | mnist-acc  0.156 mnistm-acc  0.125 | domain-acc  0.500 | lr 0.01000 l 0.10000\n",
      "epoch  1/10 540 | mnist-acc  0.062 mnistm-acc  0.156 | domain-acc  0.500 | lr 0.01000 l 0.10000\n",
      "epoch  1/10 550 | mnist-acc  0.094 mnistm-acc  0.094 | domain-acc  0.500 | lr 0.01000 l 0.10000\n",
      "epoch  1/10 560 | mnist-acc  0.344 mnistm-acc  0.031 | domain-acc  0.500 | lr 0.01000 l 0.10000\n",
      "epoch  1/10 570 | mnist-acc  0.312 mnistm-acc  0.094 | domain-acc  0.344 | lr 0.01000 l 0.10000\n",
      "epoch  1/10 580 | mnist-acc  0.562 mnistm-acc  0.156 | domain-acc  0.438 | lr 0.01000 l 0.10000\n",
      "epoch  1/10 590 | mnist-acc  0.531 mnistm-acc  0.188 | domain-acc  0.500 | lr 0.01000 l 0.10000\n",
      "epoch  1/10 600 | mnist-acc  0.406 mnistm-acc  0.156 | domain-acc  0.750 | lr 0.01000 l 0.10000\n",
      "epoch  1/10 610 | mnist-acc  0.500 mnistm-acc  0.188 | domain-acc  0.812 | lr 0.01000 l 0.10000\n",
      "epoch  1/10 620 | mnist-acc  0.562 mnistm-acc  0.094 | domain-acc  0.859 | lr 0.01000 l 0.10000\n",
      "epoch  1/10 630 | mnist-acc  0.594 mnistm-acc  0.188 | domain-acc  0.859 | lr 0.01000 l 0.10000\n",
      "epoch  1/10 640 | mnist-acc  0.500 mnistm-acc  0.125 | domain-acc  0.859 | lr 0.01000 l 0.10000\n",
      "epoch  1/10 650 | mnist-acc  0.594 mnistm-acc  0.156 | domain-acc  0.859 | lr 0.01000 l 0.10000\n",
      "epoch  1/10 660 | mnist-acc  0.781 mnistm-acc  0.125 | domain-acc  0.922 | lr 0.01000 l 0.10000\n",
      "epoch  1/10 670 | mnist-acc  0.688 mnistm-acc  0.156 | domain-acc  0.953 | lr 0.01000 l 0.10000\n",
      "epoch  1/10 680 | mnist-acc  0.844 mnistm-acc  0.250 | domain-acc  0.938 | lr 0.01000 l 0.10000\n",
      "epoch  1/10 690 | mnist-acc  0.719 mnistm-acc  0.250 | domain-acc  0.875 | lr 0.01000 l 0.10000\n",
      "epoch  1/10 700 | mnist-acc  0.781 mnistm-acc  0.188 | domain-acc  0.969 | lr 0.01000 l 0.10000\n",
      "epoch  1/10 710 | mnist-acc  0.781 mnistm-acc  0.250 | domain-acc  0.969 | lr 0.01000 l 0.10000\n",
      "epoch  1/10 720 | mnist-acc  0.781 mnistm-acc  0.188 | domain-acc  0.906 | lr 0.01000 l 0.10000\n",
      "epoch  1/10 730 | mnist-acc  0.875 mnistm-acc  0.250 | domain-acc  0.922 | lr 0.01000 l 0.10000\n",
      "epoch  1/10 740 | mnist-acc  0.719 mnistm-acc  0.312 | domain-acc  0.859 | lr 0.01000 l 0.10000\n",
      "epoch  1/10 750 | mnist-acc  0.688 mnistm-acc  0.219 | domain-acc  0.891 | lr 0.01000 l 0.10000\n",
      "epoch  1/10 760 | mnist-acc  0.688 mnistm-acc  0.281 | domain-acc  0.953 | lr 0.01000 l 0.10000\n",
      "epoch  1/10 770 | mnist-acc  0.906 mnistm-acc  0.344 | domain-acc  0.906 | lr 0.01000 l 0.10000\n"
     ]
    },
    {
     "name": "stdout",
     "output_type": "stream",
     "text": [
      "epoch  1/10 780 | mnist-acc  0.844 mnistm-acc  0.281 | domain-acc  0.953 | lr 0.01000 l 0.10000\n",
      "epoch  1/10 790 | mnist-acc  0.844 mnistm-acc  0.250 | domain-acc  0.938 | lr 0.01000 l 0.10000\n",
      "epoch  1/10 800 | mnist-acc  0.969 mnistm-acc  0.250 | domain-acc  0.969 | lr 0.01000 l 0.10000\n",
      "epoch  1/10 810 | mnist-acc  0.875 mnistm-acc  0.344 | domain-acc  0.953 | lr 0.01000 l 0.10000\n",
      "epoch  1/10 820 | mnist-acc  0.844 mnistm-acc  0.125 | domain-acc  1.000 | lr 0.01000 l 0.10000\n",
      "epoch  1/10 830 | mnist-acc  0.875 mnistm-acc  0.250 | domain-acc  0.953 | lr 0.01000 l 0.10000\n",
      "epoch  1/10 840 | mnist-acc  0.875 mnistm-acc  0.312 | domain-acc  0.969 | lr 0.01000 l 0.10000\n",
      "epoch  1/10 850 | mnist-acc  0.938 mnistm-acc  0.250 | domain-acc  0.922 | lr 0.01000 l 0.10000\n",
      "[Validation] mnist acc: 0.904 | mnistm acc: 0.258 | domain acc 0.958\n",
      "epoch  2/10   0 | mnist-acc  0.875 mnistm-acc  0.188 | domain-acc  0.969 | lr 0.01000 l 0.10000\n",
      "epoch  2/10  10 | mnist-acc  0.969 mnistm-acc  0.438 | domain-acc  0.953 | lr 0.01000 l 0.10000\n",
      "epoch  2/10  20 | mnist-acc  0.875 mnistm-acc  0.219 | domain-acc  0.984 | lr 0.01000 l 0.10000\n",
      "epoch  2/10  30 | mnist-acc  0.844 mnistm-acc  0.344 | domain-acc  0.938 | lr 0.01000 l 0.10000\n",
      "epoch  2/10  40 | mnist-acc  0.875 mnistm-acc  0.250 | domain-acc  0.969 | lr 0.01000 l 0.10000\n",
      "epoch  2/10  50 | mnist-acc  0.906 mnistm-acc  0.281 | domain-acc  0.938 | lr 0.01000 l 0.10000\n",
      "epoch  2/10  60 | mnist-acc  0.906 mnistm-acc  0.156 | domain-acc  0.984 | lr 0.01000 l 0.10000\n",
      "epoch  2/10  70 | mnist-acc  0.938 mnistm-acc  0.312 | domain-acc  0.969 | lr 0.01000 l 0.10000\n",
      "epoch  2/10  80 | mnist-acc  0.906 mnistm-acc  0.406 | domain-acc  0.953 | lr 0.01000 l 0.10000\n",
      "epoch  2/10  90 | mnist-acc  0.875 mnistm-acc  0.406 | domain-acc  0.969 | lr 0.01000 l 0.10000\n",
      "epoch  2/10 100 | mnist-acc  0.875 mnistm-acc  0.156 | domain-acc  1.000 | lr 0.01000 l 0.10000\n",
      "epoch  2/10 110 | mnist-acc  0.938 mnistm-acc  0.250 | domain-acc  0.953 | lr 0.01000 l 0.10000\n",
      "epoch  2/10 120 | mnist-acc  0.938 mnistm-acc  0.531 | domain-acc  1.000 | lr 0.01000 l 0.10000\n",
      "epoch  2/10 130 | mnist-acc  0.938 mnistm-acc  0.188 | domain-acc  0.969 | lr 0.01000 l 0.10000\n",
      "epoch  2/10 140 | mnist-acc  0.906 mnistm-acc  0.250 | domain-acc  0.984 | lr 0.01000 l 0.10000\n",
      "epoch  2/10 150 | mnist-acc  0.906 mnistm-acc  0.281 | domain-acc  0.953 | lr 0.01000 l 0.10000\n",
      "epoch  2/10 160 | mnist-acc  0.875 mnistm-acc  0.281 | domain-acc  0.922 | lr 0.01000 l 0.10000\n",
      "epoch  2/10 170 | mnist-acc  0.906 mnistm-acc  0.281 | domain-acc  0.969 | lr 0.01000 l 0.10000\n",
      "epoch  2/10 180 | mnist-acc  0.844 mnistm-acc  0.219 | domain-acc  0.953 | lr 0.01000 l 0.10000\n",
      "epoch  2/10 190 | mnist-acc  0.938 mnistm-acc  0.344 | domain-acc  0.953 | lr 0.01000 l 0.10000\n",
      "epoch  2/10 200 | mnist-acc  0.875 mnistm-acc  0.312 | domain-acc  0.969 | lr 0.01000 l 0.10000\n",
      "epoch  2/10 210 | mnist-acc  0.875 mnistm-acc  0.219 | domain-acc  0.969 | lr 0.01000 l 0.10000\n",
      "epoch  2/10 220 | mnist-acc  0.875 mnistm-acc  0.312 | domain-acc  0.984 | lr 0.01000 l 0.10000\n",
      "epoch  2/10 230 | mnist-acc  0.938 mnistm-acc  0.281 | domain-acc  0.938 | lr 0.01000 l 0.10000\n",
      "epoch  2/10 240 | mnist-acc  1.000 mnistm-acc  0.438 | domain-acc  0.969 | lr 0.01000 l 0.10000\n",
      "epoch  2/10 250 | mnist-acc  0.906 mnistm-acc  0.156 | domain-acc  0.906 | lr 0.01000 l 0.10000\n",
      "epoch  2/10 260 | mnist-acc  0.812 mnistm-acc  0.250 | domain-acc  0.953 | lr 0.01000 l 0.10000\n",
      "epoch  2/10 270 | mnist-acc  0.938 mnistm-acc  0.344 | domain-acc  0.922 | lr 0.01000 l 0.10000\n",
      "epoch  2/10 280 | mnist-acc  0.875 mnistm-acc  0.312 | domain-acc  0.953 | lr 0.01000 l 0.10000\n",
      "epoch  2/10 290 | mnist-acc  0.875 mnistm-acc  0.375 | domain-acc  0.953 | lr 0.01000 l 0.10000\n",
      "epoch  2/10 300 | mnist-acc  0.906 mnistm-acc  0.312 | domain-acc  0.938 | lr 0.01000 l 0.10000\n",
      "epoch  2/10 310 | mnist-acc  0.969 mnistm-acc  0.375 | domain-acc  0.953 | lr 0.01000 l 0.10000\n",
      "epoch  2/10 320 | mnist-acc  0.906 mnistm-acc  0.438 | domain-acc  0.953 | lr 0.01000 l 0.10000\n",
      "epoch  2/10 330 | mnist-acc  0.938 mnistm-acc  0.344 | domain-acc  0.969 | lr 0.01000 l 0.10000\n",
      "epoch  2/10 340 | mnist-acc  0.938 mnistm-acc  0.344 | domain-acc  0.984 | lr 0.01000 l 0.10000\n",
      "epoch  2/10 350 | mnist-acc  0.969 mnistm-acc  0.312 | domain-acc  0.969 | lr 0.01000 l 0.10000\n",
      "epoch  2/10 360 | mnist-acc  0.938 mnistm-acc  0.312 | domain-acc  0.984 | lr 0.01000 l 0.10000\n",
      "epoch  2/10 370 | mnist-acc  0.844 mnistm-acc  0.438 | domain-acc  1.000 | lr 0.01000 l 0.10000\n",
      "epoch  2/10 380 | mnist-acc  0.906 mnistm-acc  0.312 | domain-acc  0.969 | lr 0.01000 l 0.10000\n",
      "epoch  2/10 390 | mnist-acc  1.000 mnistm-acc  0.531 | domain-acc  0.953 | lr 0.01000 l 0.10000\n",
      "epoch  2/10 400 | mnist-acc  0.938 mnistm-acc  0.250 | domain-acc  0.953 | lr 0.01000 l 0.10000\n",
      "epoch  2/10 410 | mnist-acc  0.906 mnistm-acc  0.281 | domain-acc  0.969 | lr 0.01000 l 0.10000\n",
      "epoch  2/10 420 | mnist-acc  0.938 mnistm-acc  0.406 | domain-acc  0.984 | lr 0.01000 l 0.10000\n",
      "epoch  2/10 430 | mnist-acc  1.000 mnistm-acc  0.312 | domain-acc  0.984 | lr 0.01000 l 0.10000\n",
      "epoch  2/10 440 | mnist-acc  0.844 mnistm-acc  0.344 | domain-acc  0.984 | lr 0.01000 l 0.10000\n",
      "epoch  2/10 450 | mnist-acc  0.938 mnistm-acc  0.469 | domain-acc  0.922 | lr 0.01000 l 0.10000\n",
      "epoch  2/10 460 | mnist-acc  0.938 mnistm-acc  0.312 | domain-acc  0.938 | lr 0.01000 l 0.10000\n",
      "epoch  2/10 470 | mnist-acc  0.844 mnistm-acc  0.156 | domain-acc  1.000 | lr 0.01000 l 0.10000\n",
      "epoch  2/10 480 | mnist-acc  0.969 mnistm-acc  0.438 | domain-acc  0.938 | lr 0.01000 l 0.10000\n",
      "epoch  2/10 490 | mnist-acc  0.969 mnistm-acc  0.438 | domain-acc  1.000 | lr 0.01000 l 0.10000\n",
      "epoch  2/10 500 | mnist-acc  0.781 mnistm-acc  0.469 | domain-acc  0.953 | lr 0.01000 l 0.10000\n",
      "epoch  2/10 510 | mnist-acc  0.906 mnistm-acc  0.438 | domain-acc  0.938 | lr 0.01000 l 0.10000\n",
      "epoch  2/10 520 | mnist-acc  0.875 mnistm-acc  0.312 | domain-acc  0.969 | lr 0.01000 l 0.10000\n",
      "epoch  2/10 530 | mnist-acc  1.000 mnistm-acc  0.344 | domain-acc  0.938 | lr 0.01000 l 0.10000\n",
      "epoch  2/10 540 | mnist-acc  0.969 mnistm-acc  0.438 | domain-acc  0.969 | lr 0.01000 l 0.10000\n",
      "epoch  2/10 550 | mnist-acc  0.938 mnistm-acc  0.406 | domain-acc  0.984 | lr 0.01000 l 0.10000\n",
      "epoch  2/10 560 | mnist-acc  0.969 mnistm-acc  0.281 | domain-acc  0.969 | lr 0.01000 l 0.10000\n",
      "epoch  2/10 570 | mnist-acc  0.969 mnistm-acc  0.500 | domain-acc  0.938 | lr 0.01000 l 0.10000\n",
      "epoch  2/10 580 | mnist-acc  0.938 mnistm-acc  0.438 | domain-acc  0.969 | lr 0.01000 l 0.10000\n",
      "epoch  2/10 590 | mnist-acc  0.875 mnistm-acc  0.375 | domain-acc  0.953 | lr 0.01000 l 0.10000\n",
      "epoch  2/10 600 | mnist-acc  0.969 mnistm-acc  0.375 | domain-acc  0.969 | lr 0.01000 l 0.10000\n",
      "epoch  2/10 610 | mnist-acc  1.000 mnistm-acc  0.469 | domain-acc  0.969 | lr 0.01000 l 0.10000\n",
      "epoch  2/10 620 | mnist-acc  1.000 mnistm-acc  0.344 | domain-acc  1.000 | lr 0.01000 l 0.10000\n",
      "epoch  2/10 630 | mnist-acc  0.938 mnistm-acc  0.375 | domain-acc  0.984 | lr 0.01000 l 0.10000\n",
      "epoch  2/10 640 | mnist-acc  0.969 mnistm-acc  0.406 | domain-acc  0.984 | lr 0.01000 l 0.10000\n",
      "epoch  2/10 650 | mnist-acc  1.000 mnistm-acc  0.312 | domain-acc  0.938 | lr 0.01000 l 0.10000\n",
      "epoch  2/10 660 | mnist-acc  1.000 mnistm-acc  0.406 | domain-acc  0.984 | lr 0.01000 l 0.10000\n",
      "epoch  2/10 670 | mnist-acc  0.875 mnistm-acc  0.469 | domain-acc  0.938 | lr 0.01000 l 0.10000\n",
      "epoch  2/10 680 | mnist-acc  0.969 mnistm-acc  0.562 | domain-acc  0.984 | lr 0.01000 l 0.10000\n",
      "epoch  2/10 690 | mnist-acc  0.906 mnistm-acc  0.469 | domain-acc  0.969 | lr 0.01000 l 0.10000\n",
      "epoch  2/10 700 | mnist-acc  0.906 mnistm-acc  0.312 | domain-acc  0.969 | lr 0.01000 l 0.10000\n",
      "epoch  2/10 710 | mnist-acc  0.969 mnistm-acc  0.500 | domain-acc  0.938 | lr 0.01000 l 0.10000\n",
      "epoch  2/10 720 | mnist-acc  0.969 mnistm-acc  0.406 | domain-acc  1.000 | lr 0.01000 l 0.10000\n",
      "epoch  2/10 730 | mnist-acc  0.969 mnistm-acc  0.469 | domain-acc  0.953 | lr 0.01000 l 0.10000\n",
      "epoch  2/10 740 | mnist-acc  0.938 mnistm-acc  0.312 | domain-acc  1.000 | lr 0.01000 l 0.10000\n",
      "epoch  2/10 750 | mnist-acc  1.000 mnistm-acc  0.500 | domain-acc  0.969 | lr 0.01000 l 0.10000\n",
      "epoch  2/10 760 | mnist-acc  1.000 mnistm-acc  0.250 | domain-acc  1.000 | lr 0.01000 l 0.10000\n"
     ]
    },
    {
     "name": "stdout",
     "output_type": "stream",
     "text": [
      "epoch  2/10 770 | mnist-acc  1.000 mnistm-acc  0.469 | domain-acc  0.984 | lr 0.01000 l 0.10000\n",
      "epoch  2/10 780 | mnist-acc  0.906 mnistm-acc  0.531 | domain-acc  0.922 | lr 0.01000 l 0.10000\n",
      "epoch  2/10 790 | mnist-acc  0.969 mnistm-acc  0.469 | domain-acc  0.969 | lr 0.01000 l 0.10000\n",
      "epoch  2/10 800 | mnist-acc  0.906 mnistm-acc  0.312 | domain-acc  1.000 | lr 0.01000 l 0.10000\n",
      "epoch  2/10 810 | mnist-acc  0.906 mnistm-acc  0.438 | domain-acc  0.984 | lr 0.01000 l 0.10000\n",
      "epoch  2/10 820 | mnist-acc  0.969 mnistm-acc  0.469 | domain-acc  0.953 | lr 0.01000 l 0.10000\n",
      "epoch  2/10 830 | mnist-acc  0.969 mnistm-acc  0.438 | domain-acc  0.953 | lr 0.01000 l 0.10000\n",
      "epoch  2/10 840 | mnist-acc  0.875 mnistm-acc  0.438 | domain-acc  0.984 | lr 0.01000 l 0.10000\n",
      "epoch  2/10 850 | mnist-acc  0.938 mnistm-acc  0.531 | domain-acc  0.953 | lr 0.01000 l 0.10000\n",
      "[Validation] mnist acc: 0.956 | mnistm acc: 0.437 | domain acc 0.946\n",
      "epoch  3/10   0 | mnist-acc  1.000 mnistm-acc  0.438 | domain-acc  0.953 | lr 0.01000 l 0.10000\n",
      "epoch  3/10  10 | mnist-acc  0.938 mnistm-acc  0.406 | domain-acc  0.938 | lr 0.01000 l 0.10000\n",
      "epoch  3/10  20 | mnist-acc  0.906 mnistm-acc  0.438 | domain-acc  0.984 | lr 0.01000 l 0.10000\n",
      "epoch  3/10  30 | mnist-acc  0.938 mnistm-acc  0.562 | domain-acc  0.969 | lr 0.01000 l 0.10000\n",
      "epoch  3/10  40 | mnist-acc  1.000 mnistm-acc  0.500 | domain-acc  0.938 | lr 0.01000 l 0.10000\n",
      "epoch  3/10  50 | mnist-acc  0.969 mnistm-acc  0.312 | domain-acc  0.969 | lr 0.01000 l 0.10000\n",
      "epoch  3/10  60 | mnist-acc  0.969 mnistm-acc  0.438 | domain-acc  1.000 | lr 0.01000 l 0.10000\n",
      "epoch  3/10  70 | mnist-acc  0.938 mnistm-acc  0.500 | domain-acc  1.000 | lr 0.01000 l 0.10000\n",
      "epoch  3/10  80 | mnist-acc  0.969 mnistm-acc  0.344 | domain-acc  0.969 | lr 0.01000 l 0.10000\n",
      "epoch  3/10  90 | mnist-acc  0.906 mnistm-acc  0.531 | domain-acc  0.969 | lr 0.01000 l 0.10000\n",
      "epoch  3/10 100 | mnist-acc  0.906 mnistm-acc  0.531 | domain-acc  0.938 | lr 0.01000 l 0.10000\n",
      "epoch  3/10 110 | mnist-acc  0.969 mnistm-acc  0.469 | domain-acc  0.891 | lr 0.01000 l 0.10000\n",
      "epoch  3/10 120 | mnist-acc  0.969 mnistm-acc  0.562 | domain-acc  0.969 | lr 0.01000 l 0.10000\n",
      "epoch  3/10 130 | mnist-acc  0.969 mnistm-acc  0.531 | domain-acc  0.938 | lr 0.01000 l 0.10000\n",
      "epoch  3/10 140 | mnist-acc  0.906 mnistm-acc  0.500 | domain-acc  0.953 | lr 0.01000 l 0.10000\n",
      "epoch  3/10 150 | mnist-acc  0.938 mnistm-acc  0.531 | domain-acc  0.984 | lr 0.01000 l 0.10000\n",
      "epoch  3/10 160 | mnist-acc  0.938 mnistm-acc  0.562 | domain-acc  1.000 | lr 0.01000 l 0.10000\n",
      "epoch  3/10 170 | mnist-acc  0.969 mnistm-acc  0.406 | domain-acc  0.953 | lr 0.01000 l 0.10000\n",
      "epoch  3/10 180 | mnist-acc  0.906 mnistm-acc  0.438 | domain-acc  0.953 | lr 0.01000 l 0.10000\n",
      "epoch  3/10 190 | mnist-acc  0.969 mnistm-acc  0.438 | domain-acc  0.969 | lr 0.01000 l 0.10000\n",
      "epoch  3/10 200 | mnist-acc  0.969 mnistm-acc  0.469 | domain-acc  0.984 | lr 0.01000 l 0.10000\n",
      "epoch  3/10 210 | mnist-acc  0.938 mnistm-acc  0.500 | domain-acc  0.984 | lr 0.01000 l 0.10000\n",
      "epoch  3/10 220 | mnist-acc  0.938 mnistm-acc  0.375 | domain-acc  0.984 | lr 0.01000 l 0.10000\n",
      "epoch  3/10 230 | mnist-acc  0.938 mnistm-acc  0.438 | domain-acc  0.906 | lr 0.01000 l 0.10000\n",
      "epoch  3/10 240 | mnist-acc  0.938 mnistm-acc  0.438 | domain-acc  0.969 | lr 0.01000 l 0.10000\n",
      "epoch  3/10 250 | mnist-acc  0.938 mnistm-acc  0.406 | domain-acc  1.000 | lr 0.01000 l 0.10000\n",
      "epoch  3/10 260 | mnist-acc  0.969 mnistm-acc  0.594 | domain-acc  1.000 | lr 0.01000 l 0.10000\n",
      "epoch  3/10 270 | mnist-acc  0.969 mnistm-acc  0.469 | domain-acc  0.984 | lr 0.01000 l 0.10000\n",
      "epoch  3/10 280 | mnist-acc  1.000 mnistm-acc  0.469 | domain-acc  0.969 | lr 0.01000 l 0.10000\n",
      "epoch  3/10 290 | mnist-acc  0.969 mnistm-acc  0.500 | domain-acc  1.000 | lr 0.01000 l 0.10000\n",
      "epoch  3/10 300 | mnist-acc  0.906 mnistm-acc  0.562 | domain-acc  0.938 | lr 0.01000 l 0.10000\n",
      "epoch  3/10 310 | mnist-acc  0.906 mnistm-acc  0.500 | domain-acc  0.984 | lr 0.01000 l 0.10000\n",
      "epoch  3/10 320 | mnist-acc  0.969 mnistm-acc  0.469 | domain-acc  0.969 | lr 0.01000 l 0.10000\n",
      "epoch  3/10 330 | mnist-acc  0.969 mnistm-acc  0.438 | domain-acc  0.969 | lr 0.01000 l 0.10000\n",
      "epoch  3/10 340 | mnist-acc  0.938 mnistm-acc  0.531 | domain-acc  0.984 | lr 0.01000 l 0.10000\n",
      "epoch  3/10 350 | mnist-acc  1.000 mnistm-acc  0.438 | domain-acc  0.984 | lr 0.01000 l 0.10000\n",
      "epoch  3/10 360 | mnist-acc  0.938 mnistm-acc  0.656 | domain-acc  0.938 | lr 0.01000 l 0.10000\n",
      "epoch  3/10 370 | mnist-acc  1.000 mnistm-acc  0.500 | domain-acc  0.953 | lr 0.01000 l 0.10000\n",
      "epoch  3/10 380 | mnist-acc  0.938 mnistm-acc  0.500 | domain-acc  0.938 | lr 0.01000 l 0.10000\n",
      "epoch  3/10 390 | mnist-acc  0.969 mnistm-acc  0.406 | domain-acc  0.953 | lr 0.01000 l 0.10000\n",
      "epoch  3/10 400 | mnist-acc  0.969 mnistm-acc  0.406 | domain-acc  0.953 | lr 0.01000 l 0.10000\n",
      "epoch  3/10 410 | mnist-acc  1.000 mnistm-acc  0.562 | domain-acc  0.969 | lr 0.01000 l 0.10000\n",
      "epoch  3/10 420 | mnist-acc  0.875 mnistm-acc  0.500 | domain-acc  0.953 | lr 0.01000 l 0.10000\n",
      "epoch  3/10 430 | mnist-acc  0.969 mnistm-acc  0.281 | domain-acc  0.969 | lr 0.01000 l 0.10000\n",
      "epoch  3/10 440 | mnist-acc  0.969 mnistm-acc  0.500 | domain-acc  0.984 | lr 0.01000 l 0.10000\n",
      "epoch  3/10 450 | mnist-acc  0.969 mnistm-acc  0.469 | domain-acc  0.953 | lr 0.01000 l 0.10000\n",
      "epoch  3/10 460 | mnist-acc  1.000 mnistm-acc  0.562 | domain-acc  0.984 | lr 0.01000 l 0.10000\n",
      "epoch  3/10 470 | mnist-acc  0.844 mnistm-acc  0.375 | domain-acc  0.953 | lr 0.01000 l 0.10000\n",
      "epoch  3/10 480 | mnist-acc  0.938 mnistm-acc  0.531 | domain-acc  0.938 | lr 0.01000 l 0.10000\n",
      "epoch  3/10 490 | mnist-acc  1.000 mnistm-acc  0.312 | domain-acc  0.984 | lr 0.01000 l 0.10000\n",
      "epoch  3/10 500 | mnist-acc  1.000 mnistm-acc  0.531 | domain-acc  0.953 | lr 0.01000 l 0.10000\n",
      "epoch  3/10 510 | mnist-acc  0.969 mnistm-acc  0.562 | domain-acc  0.953 | lr 0.01000 l 0.10000\n",
      "epoch  3/10 520 | mnist-acc  0.969 mnistm-acc  0.438 | domain-acc  0.984 | lr 0.01000 l 0.10000\n",
      "epoch  3/10 530 | mnist-acc  0.969 mnistm-acc  0.438 | domain-acc  0.984 | lr 0.01000 l 0.10000\n",
      "epoch  3/10 540 | mnist-acc  1.000 mnistm-acc  0.500 | domain-acc  0.922 | lr 0.01000 l 0.10000\n",
      "epoch  3/10 550 | mnist-acc  0.969 mnistm-acc  0.406 | domain-acc  1.000 | lr 0.01000 l 0.10000\n",
      "epoch  3/10 560 | mnist-acc  0.969 mnistm-acc  0.469 | domain-acc  0.969 | lr 0.01000 l 0.10000\n",
      "epoch  3/10 570 | mnist-acc  0.969 mnistm-acc  0.438 | domain-acc  0.969 | lr 0.01000 l 0.10000\n",
      "epoch  3/10 580 | mnist-acc  0.906 mnistm-acc  0.656 | domain-acc  0.984 | lr 0.01000 l 0.10000\n",
      "epoch  3/10 590 | mnist-acc  0.906 mnistm-acc  0.500 | domain-acc  0.969 | lr 0.01000 l 0.10000\n",
      "epoch  3/10 600 | mnist-acc  1.000 mnistm-acc  0.438 | domain-acc  0.984 | lr 0.01000 l 0.10000\n",
      "epoch  3/10 610 | mnist-acc  0.969 mnistm-acc  0.438 | domain-acc  0.938 | lr 0.01000 l 0.10000\n",
      "epoch  3/10 620 | mnist-acc  1.000 mnistm-acc  0.375 | domain-acc  0.953 | lr 0.01000 l 0.10000\n",
      "epoch  3/10 630 | mnist-acc  0.969 mnistm-acc  0.531 | domain-acc  0.969 | lr 0.01000 l 0.10000\n",
      "epoch  3/10 640 | mnist-acc  1.000 mnistm-acc  0.500 | domain-acc  0.984 | lr 0.01000 l 0.10000\n",
      "epoch  3/10 650 | mnist-acc  0.938 mnistm-acc  0.688 | domain-acc  0.922 | lr 0.01000 l 0.10000\n",
      "epoch  3/10 660 | mnist-acc  0.969 mnistm-acc  0.594 | domain-acc  0.969 | lr 0.01000 l 0.10000\n",
      "epoch  3/10 670 | mnist-acc  0.938 mnistm-acc  0.500 | domain-acc  1.000 | lr 0.01000 l 0.10000\n",
      "epoch  3/10 680 | mnist-acc  0.938 mnistm-acc  0.406 | domain-acc  0.891 | lr 0.01000 l 0.10000\n",
      "epoch  3/10 690 | mnist-acc  1.000 mnistm-acc  0.406 | domain-acc  0.969 | lr 0.01000 l 0.10000\n",
      "epoch  3/10 700 | mnist-acc  0.969 mnistm-acc  0.531 | domain-acc  0.953 | lr 0.01000 l 0.10000\n",
      "epoch  3/10 710 | mnist-acc  0.938 mnistm-acc  0.500 | domain-acc  0.938 | lr 0.01000 l 0.10000\n",
      "epoch  3/10 720 | mnist-acc  0.969 mnistm-acc  0.438 | domain-acc  0.922 | lr 0.01000 l 0.10000\n",
      "epoch  3/10 730 | mnist-acc  1.000 mnistm-acc  0.406 | domain-acc  0.938 | lr 0.01000 l 0.10000\n",
      "epoch  3/10 740 | mnist-acc  0.938 mnistm-acc  0.531 | domain-acc  0.906 | lr 0.01000 l 0.10000\n",
      "epoch  3/10 750 | mnist-acc  1.000 mnistm-acc  0.562 | domain-acc  0.891 | lr 0.01000 l 0.10000\n"
     ]
    },
    {
     "name": "stdout",
     "output_type": "stream",
     "text": [
      "epoch  3/10 760 | mnist-acc  0.906 mnistm-acc  0.406 | domain-acc  0.953 | lr 0.01000 l 0.10000\n",
      "epoch  3/10 770 | mnist-acc  1.000 mnistm-acc  0.438 | domain-acc  0.906 | lr 0.01000 l 0.10000\n",
      "epoch  3/10 780 | mnist-acc  0.938 mnistm-acc  0.375 | domain-acc  1.000 | lr 0.01000 l 0.10000\n",
      "epoch  3/10 790 | mnist-acc  0.938 mnistm-acc  0.562 | domain-acc  0.969 | lr 0.01000 l 0.10000\n",
      "epoch  3/10 800 | mnist-acc  1.000 mnistm-acc  0.438 | domain-acc  0.969 | lr 0.01000 l 0.10000\n",
      "epoch  3/10 810 | mnist-acc  0.969 mnistm-acc  0.469 | domain-acc  0.969 | lr 0.01000 l 0.10000\n",
      "epoch  3/10 820 | mnist-acc  0.938 mnistm-acc  0.281 | domain-acc  0.984 | lr 0.01000 l 0.10000\n",
      "epoch  3/10 830 | mnist-acc  1.000 mnistm-acc  0.531 | domain-acc  0.969 | lr 0.01000 l 0.10000\n",
      "epoch  3/10 840 | mnist-acc  0.969 mnistm-acc  0.438 | domain-acc  0.938 | lr 0.01000 l 0.10000\n",
      "epoch  3/10 850 | mnist-acc  1.000 mnistm-acc  0.562 | domain-acc  0.953 | lr 0.01000 l 0.10000\n",
      "[Validation] mnist acc: 0.973 | mnistm acc: 0.539 | domain acc 0.931\n",
      "epoch  4/10   0 | mnist-acc  0.969 mnistm-acc  0.531 | domain-acc  0.984 | lr 0.01000 l 0.10000\n",
      "epoch  4/10  10 | mnist-acc  0.969 mnistm-acc  0.406 | domain-acc  0.969 | lr 0.01000 l 0.10000\n",
      "epoch  4/10  20 | mnist-acc  0.906 mnistm-acc  0.531 | domain-acc  0.953 | lr 0.01000 l 0.10000\n",
      "epoch  4/10  30 | mnist-acc  0.938 mnistm-acc  0.531 | domain-acc  0.891 | lr 0.01000 l 0.10000\n",
      "epoch  4/10  40 | mnist-acc  1.000 mnistm-acc  0.500 | domain-acc  0.922 | lr 0.01000 l 0.10000\n",
      "epoch  4/10  50 | mnist-acc  0.969 mnistm-acc  0.594 | domain-acc  0.938 | lr 0.01000 l 0.10000\n",
      "epoch  4/10  60 | mnist-acc  1.000 mnistm-acc  0.531 | domain-acc  0.953 | lr 0.01000 l 0.10000\n",
      "epoch  4/10  70 | mnist-acc  1.000 mnistm-acc  0.594 | domain-acc  0.906 | lr 0.01000 l 0.10000\n",
      "epoch  4/10  80 | mnist-acc  0.906 mnistm-acc  0.531 | domain-acc  0.906 | lr 0.01000 l 0.10000\n",
      "epoch  4/10  90 | mnist-acc  0.969 mnistm-acc  0.625 | domain-acc  0.938 | lr 0.01000 l 0.10000\n",
      "epoch  4/10 100 | mnist-acc  1.000 mnistm-acc  0.531 | domain-acc  0.953 | lr 0.01000 l 0.10000\n",
      "epoch  4/10 110 | mnist-acc  0.969 mnistm-acc  0.344 | domain-acc  0.969 | lr 0.01000 l 0.10000\n",
      "epoch  4/10 120 | mnist-acc  1.000 mnistm-acc  0.438 | domain-acc  0.891 | lr 0.01000 l 0.10000\n",
      "epoch  4/10 130 | mnist-acc  0.969 mnistm-acc  0.406 | domain-acc  0.938 | lr 0.01000 l 0.10000\n",
      "epoch  4/10 140 | mnist-acc  0.969 mnistm-acc  0.438 | domain-acc  0.953 | lr 0.01000 l 0.10000\n",
      "epoch  4/10 150 | mnist-acc  0.969 mnistm-acc  0.562 | domain-acc  0.938 | lr 0.01000 l 0.10000\n",
      "epoch  4/10 160 | mnist-acc  0.938 mnistm-acc  0.438 | domain-acc  0.969 | lr 0.01000 l 0.10000\n",
      "epoch  4/10 170 | mnist-acc  0.906 mnistm-acc  0.500 | domain-acc  0.922 | lr 0.01000 l 0.10000\n",
      "epoch  4/10 180 | mnist-acc  1.000 mnistm-acc  0.344 | domain-acc  0.891 | lr 0.01000 l 0.10000\n",
      "epoch  4/10 190 | mnist-acc  0.969 mnistm-acc  0.594 | domain-acc  0.906 | lr 0.01000 l 0.10000\n",
      "epoch  4/10 200 | mnist-acc  1.000 mnistm-acc  0.531 | domain-acc  0.938 | lr 0.01000 l 0.10000\n",
      "epoch  4/10 210 | mnist-acc  0.938 mnistm-acc  0.469 | domain-acc  0.953 | lr 0.01000 l 0.10000\n",
      "epoch  4/10 220 | mnist-acc  1.000 mnistm-acc  0.469 | domain-acc  0.984 | lr 0.01000 l 0.10000\n",
      "epoch  4/10 230 | mnist-acc  1.000 mnistm-acc  0.500 | domain-acc  0.906 | lr 0.01000 l 0.10000\n",
      "epoch  4/10 240 | mnist-acc  1.000 mnistm-acc  0.344 | domain-acc  0.938 | lr 0.01000 l 0.10000\n",
      "epoch  4/10 250 | mnist-acc  0.938 mnistm-acc  0.469 | domain-acc  0.875 | lr 0.01000 l 0.10000\n",
      "epoch  4/10 260 | mnist-acc  1.000 mnistm-acc  0.594 | domain-acc  0.969 | lr 0.01000 l 0.10000\n",
      "epoch  4/10 270 | mnist-acc  0.969 mnistm-acc  0.531 | domain-acc  0.969 | lr 0.01000 l 0.10000\n",
      "epoch  4/10 280 | mnist-acc  1.000 mnistm-acc  0.344 | domain-acc  0.906 | lr 0.01000 l 0.10000\n",
      "epoch  4/10 290 | mnist-acc  0.969 mnistm-acc  0.531 | domain-acc  0.906 | lr 0.01000 l 0.10000\n",
      "epoch  4/10 300 | mnist-acc  0.938 mnistm-acc  0.469 | domain-acc  0.891 | lr 0.01000 l 0.10000\n",
      "epoch  4/10 310 | mnist-acc  0.969 mnistm-acc  0.594 | domain-acc  0.906 | lr 0.01000 l 0.10000\n",
      "epoch  4/10 320 | mnist-acc  1.000 mnistm-acc  0.594 | domain-acc  0.891 | lr 0.01000 l 0.10000\n",
      "epoch  4/10 330 | mnist-acc  1.000 mnistm-acc  0.531 | domain-acc  0.922 | lr 0.01000 l 0.10000\n",
      "epoch  4/10 340 | mnist-acc  1.000 mnistm-acc  0.531 | domain-acc  0.891 | lr 0.01000 l 0.10000\n",
      "epoch  4/10 350 | mnist-acc  0.969 mnistm-acc  0.406 | domain-acc  0.922 | lr 0.01000 l 0.10000\n",
      "epoch  4/10 360 | mnist-acc  0.969 mnistm-acc  0.594 | domain-acc  0.859 | lr 0.01000 l 0.10000\n",
      "epoch  4/10 370 | mnist-acc  1.000 mnistm-acc  0.312 | domain-acc  0.938 | lr 0.01000 l 0.10000\n",
      "epoch  4/10 380 | mnist-acc  0.938 mnistm-acc  0.531 | domain-acc  0.938 | lr 0.01000 l 0.10000\n",
      "epoch  4/10 390 | mnist-acc  0.938 mnistm-acc  0.500 | domain-acc  0.844 | lr 0.01000 l 0.10000\n",
      "epoch  4/10 400 | mnist-acc  1.000 mnistm-acc  0.469 | domain-acc  0.875 | lr 0.01000 l 0.10000\n",
      "epoch  4/10 410 | mnist-acc  1.000 mnistm-acc  0.625 | domain-acc  0.828 | lr 0.01000 l 0.10000\n",
      "epoch  4/10 420 | mnist-acc  0.906 mnistm-acc  0.656 | domain-acc  0.828 | lr 0.01000 l 0.10000\n",
      "epoch  4/10 430 | mnist-acc  1.000 mnistm-acc  0.562 | domain-acc  0.938 | lr 0.01000 l 0.10000\n",
      "epoch  4/10 440 | mnist-acc  0.906 mnistm-acc  0.531 | domain-acc  0.859 | lr 0.01000 l 0.10000\n",
      "epoch  4/10 450 | mnist-acc  1.000 mnistm-acc  0.406 | domain-acc  0.844 | lr 0.01000 l 0.10000\n",
      "epoch  4/10 460 | mnist-acc  0.969 mnistm-acc  0.469 | domain-acc  0.938 | lr 0.01000 l 0.10000\n",
      "epoch  4/10 470 | mnist-acc  0.969 mnistm-acc  0.688 | domain-acc  0.844 | lr 0.01000 l 0.10000\n",
      "epoch  4/10 480 | mnist-acc  0.938 mnistm-acc  0.438 | domain-acc  0.844 | lr 0.01000 l 0.10000\n",
      "epoch  4/10 490 | mnist-acc  0.969 mnistm-acc  0.469 | domain-acc  0.953 | lr 0.01000 l 0.10000\n",
      "epoch  4/10 500 | mnist-acc  0.969 mnistm-acc  0.688 | domain-acc  0.891 | lr 0.01000 l 0.10000\n",
      "epoch  4/10 510 | mnist-acc  1.000 mnistm-acc  0.406 | domain-acc  0.938 | lr 0.01000 l 0.10000\n",
      "epoch  4/10 520 | mnist-acc  1.000 mnistm-acc  0.531 | domain-acc  0.859 | lr 0.01000 l 0.10000\n",
      "epoch  4/10 530 | mnist-acc  0.938 mnistm-acc  0.469 | domain-acc  0.938 | lr 0.01000 l 0.10000\n",
      "epoch  4/10 540 | mnist-acc  0.938 mnistm-acc  0.594 | domain-acc  0.891 | lr 0.01000 l 0.10000\n",
      "epoch  4/10 550 | mnist-acc  1.000 mnistm-acc  0.562 | domain-acc  0.844 | lr 0.01000 l 0.10000\n",
      "epoch  4/10 560 | mnist-acc  1.000 mnistm-acc  0.656 | domain-acc  0.906 | lr 0.01000 l 0.10000\n",
      "epoch  4/10 570 | mnist-acc  0.906 mnistm-acc  0.719 | domain-acc  0.781 | lr 0.01000 l 0.10000\n",
      "epoch  4/10 580 | mnist-acc  1.000 mnistm-acc  0.406 | domain-acc  0.922 | lr 0.01000 l 0.10000\n",
      "epoch  4/10 590 | mnist-acc  1.000 mnistm-acc  0.594 | domain-acc  0.906 | lr 0.01000 l 0.10000\n",
      "epoch  4/10 600 | mnist-acc  1.000 mnistm-acc  0.594 | domain-acc  0.891 | lr 0.01000 l 0.10000\n",
      "epoch  4/10 610 | mnist-acc  0.969 mnistm-acc  0.750 | domain-acc  0.875 | lr 0.01000 l 0.10000\n",
      "epoch  4/10 620 | mnist-acc  0.938 mnistm-acc  0.750 | domain-acc  0.859 | lr 0.01000 l 0.10000\n",
      "epoch  4/10 630 | mnist-acc  1.000 mnistm-acc  0.562 | domain-acc  0.844 | lr 0.01000 l 0.10000\n",
      "epoch  4/10 640 | mnist-acc  1.000 mnistm-acc  0.469 | domain-acc  0.891 | lr 0.01000 l 0.10000\n",
      "epoch  4/10 650 | mnist-acc  0.969 mnistm-acc  0.625 | domain-acc  0.797 | lr 0.01000 l 0.10000\n",
      "epoch  4/10 660 | mnist-acc  1.000 mnistm-acc  0.281 | domain-acc  0.922 | lr 0.01000 l 0.10000\n",
      "epoch  4/10 670 | mnist-acc  1.000 mnistm-acc  0.500 | domain-acc  0.859 | lr 0.01000 l 0.10000\n",
      "epoch  4/10 680 | mnist-acc  0.969 mnistm-acc  0.625 | domain-acc  0.797 | lr 0.01000 l 0.10000\n",
      "epoch  4/10 690 | mnist-acc  1.000 mnistm-acc  0.594 | domain-acc  0.766 | lr 0.01000 l 0.10000\n",
      "epoch  4/10 700 | mnist-acc  0.938 mnistm-acc  0.500 | domain-acc  0.828 | lr 0.01000 l 0.10000\n",
      "epoch  4/10 710 | mnist-acc  1.000 mnistm-acc  0.438 | domain-acc  0.828 | lr 0.01000 l 0.10000\n",
      "epoch  4/10 720 | mnist-acc  1.000 mnistm-acc  0.562 | domain-acc  0.781 | lr 0.01000 l 0.10000\n",
      "epoch  4/10 730 | mnist-acc  0.938 mnistm-acc  0.438 | domain-acc  0.734 | lr 0.01000 l 0.10000\n",
      "epoch  4/10 740 | mnist-acc  0.969 mnistm-acc  0.562 | domain-acc  0.828 | lr 0.01000 l 0.10000\n"
     ]
    },
    {
     "name": "stdout",
     "output_type": "stream",
     "text": [
      "epoch  4/10 750 | mnist-acc  1.000 mnistm-acc  0.375 | domain-acc  0.781 | lr 0.01000 l 0.10000\n",
      "epoch  4/10 760 | mnist-acc  0.969 mnistm-acc  0.656 | domain-acc  0.828 | lr 0.01000 l 0.10000\n",
      "epoch  4/10 770 | mnist-acc  0.875 mnistm-acc  0.656 | domain-acc  0.859 | lr 0.01000 l 0.10000\n",
      "epoch  4/10 780 | mnist-acc  0.906 mnistm-acc  0.594 | domain-acc  0.906 | lr 0.01000 l 0.10000\n",
      "epoch  4/10 790 | mnist-acc  1.000 mnistm-acc  0.562 | domain-acc  0.828 | lr 0.01000 l 0.10000\n",
      "epoch  4/10 800 | mnist-acc  0.938 mnistm-acc  0.594 | domain-acc  0.859 | lr 0.01000 l 0.10000\n",
      "epoch  4/10 810 | mnist-acc  1.000 mnistm-acc  0.500 | domain-acc  0.906 | lr 0.01000 l 0.10000\n",
      "epoch  4/10 820 | mnist-acc  0.969 mnistm-acc  0.562 | domain-acc  0.859 | lr 0.01000 l 0.10000\n",
      "epoch  4/10 830 | mnist-acc  1.000 mnistm-acc  0.625 | domain-acc  0.844 | lr 0.01000 l 0.10000\n",
      "epoch  4/10 840 | mnist-acc  0.938 mnistm-acc  0.531 | domain-acc  0.938 | lr 0.01000 l 0.10000\n",
      "epoch  4/10 850 | mnist-acc  0.938 mnistm-acc  0.656 | domain-acc  0.797 | lr 0.01000 l 0.10000\n",
      "[Validation] mnist acc: 0.971 | mnistm acc: 0.570 | domain acc 0.869\n",
      "epoch  5/10   0 | mnist-acc  0.938 mnistm-acc  0.656 | domain-acc  0.859 | lr 0.01000 l 0.10000\n",
      "epoch  5/10  10 | mnist-acc  1.000 mnistm-acc  0.562 | domain-acc  0.906 | lr 0.01000 l 0.10000\n",
      "epoch  5/10  20 | mnist-acc  0.938 mnistm-acc  0.531 | domain-acc  0.797 | lr 0.01000 l 0.10000\n",
      "epoch  5/10  30 | mnist-acc  0.969 mnistm-acc  0.562 | domain-acc  0.906 | lr 0.01000 l 0.10000\n",
      "epoch  5/10  40 | mnist-acc  1.000 mnistm-acc  0.625 | domain-acc  0.922 | lr 0.01000 l 0.10000\n",
      "epoch  5/10  50 | mnist-acc  1.000 mnistm-acc  0.625 | domain-acc  0.969 | lr 0.01000 l 0.10000\n",
      "epoch  5/10  60 | mnist-acc  0.969 mnistm-acc  0.500 | domain-acc  0.797 | lr 0.01000 l 0.10000\n",
      "epoch  5/10  70 | mnist-acc  0.969 mnistm-acc  0.625 | domain-acc  0.875 | lr 0.01000 l 0.10000\n",
      "epoch  5/10  80 | mnist-acc  0.969 mnistm-acc  0.656 | domain-acc  0.875 | lr 0.01000 l 0.10000\n",
      "epoch  5/10  90 | mnist-acc  0.969 mnistm-acc  0.562 | domain-acc  0.922 | lr 0.01000 l 0.10000\n",
      "epoch  5/10 100 | mnist-acc  1.000 mnistm-acc  0.656 | domain-acc  0.828 | lr 0.01000 l 0.10000\n",
      "epoch  5/10 110 | mnist-acc  1.000 mnistm-acc  0.625 | domain-acc  0.828 | lr 0.01000 l 0.10000\n",
      "epoch  5/10 120 | mnist-acc  0.969 mnistm-acc  0.656 | domain-acc  0.812 | lr 0.01000 l 0.10000\n",
      "epoch  5/10 130 | mnist-acc  1.000 mnistm-acc  0.656 | domain-acc  0.906 | lr 0.01000 l 0.10000\n",
      "epoch  5/10 140 | mnist-acc  1.000 mnistm-acc  0.500 | domain-acc  0.812 | lr 0.01000 l 0.10000\n",
      "epoch  5/10 150 | mnist-acc  0.938 mnistm-acc  0.469 | domain-acc  0.859 | lr 0.01000 l 0.10000\n",
      "epoch  5/10 160 | mnist-acc  0.906 mnistm-acc  0.469 | domain-acc  0.953 | lr 0.01000 l 0.10000\n",
      "epoch  5/10 170 | mnist-acc  0.969 mnistm-acc  0.656 | domain-acc  0.906 | lr 0.01000 l 0.10000\n",
      "epoch  5/10 180 | mnist-acc  1.000 mnistm-acc  0.562 | domain-acc  0.891 | lr 0.01000 l 0.10000\n",
      "epoch  5/10 190 | mnist-acc  1.000 mnistm-acc  0.500 | domain-acc  0.953 | lr 0.01000 l 0.10000\n",
      "epoch  5/10 200 | mnist-acc  0.938 mnistm-acc  0.625 | domain-acc  0.844 | lr 0.01000 l 0.10000\n",
      "epoch  5/10 210 | mnist-acc  0.969 mnistm-acc  0.625 | domain-acc  0.891 | lr 0.01000 l 0.10000\n",
      "epoch  5/10 220 | mnist-acc  0.938 mnistm-acc  0.500 | domain-acc  0.875 | lr 0.01000 l 0.10000\n",
      "epoch  5/10 230 | mnist-acc  0.969 mnistm-acc  0.469 | domain-acc  0.859 | lr 0.01000 l 0.10000\n",
      "epoch  5/10 240 | mnist-acc  1.000 mnistm-acc  0.719 | domain-acc  0.938 | lr 0.01000 l 0.10000\n",
      "epoch  5/10 250 | mnist-acc  1.000 mnistm-acc  0.656 | domain-acc  0.891 | lr 0.01000 l 0.10000\n",
      "epoch  5/10 260 | mnist-acc  0.938 mnistm-acc  0.625 | domain-acc  0.844 | lr 0.01000 l 0.10000\n",
      "epoch  5/10 270 | mnist-acc  1.000 mnistm-acc  0.625 | domain-acc  0.875 | lr 0.01000 l 0.10000\n",
      "epoch  5/10 280 | mnist-acc  1.000 mnistm-acc  0.562 | domain-acc  0.906 | lr 0.01000 l 0.10000\n",
      "epoch  5/10 290 | mnist-acc  1.000 mnistm-acc  0.500 | domain-acc  0.859 | lr 0.01000 l 0.10000\n",
      "epoch  5/10 300 | mnist-acc  1.000 mnistm-acc  0.625 | domain-acc  0.938 | lr 0.01000 l 0.10000\n",
      "epoch  5/10 310 | mnist-acc  1.000 mnistm-acc  0.594 | domain-acc  0.859 | lr 0.01000 l 0.10000\n",
      "epoch  5/10 320 | mnist-acc  0.969 mnistm-acc  0.594 | domain-acc  0.891 | lr 0.01000 l 0.10000\n",
      "epoch  5/10 330 | mnist-acc  0.938 mnistm-acc  0.531 | domain-acc  0.891 | lr 0.01000 l 0.10000\n",
      "epoch  5/10 340 | mnist-acc  0.969 mnistm-acc  0.594 | domain-acc  0.859 | lr 0.01000 l 0.10000\n",
      "epoch  5/10 350 | mnist-acc  1.000 mnistm-acc  0.688 | domain-acc  0.828 | lr 0.01000 l 0.10000\n",
      "epoch  5/10 360 | mnist-acc  0.906 mnistm-acc  0.562 | domain-acc  0.844 | lr 0.01000 l 0.10000\n",
      "epoch  5/10 370 | mnist-acc  0.969 mnistm-acc  0.406 | domain-acc  0.859 | lr 0.01000 l 0.10000\n",
      "epoch  5/10 380 | mnist-acc  0.969 mnistm-acc  0.656 | domain-acc  0.844 | lr 0.01000 l 0.10000\n",
      "epoch  5/10 390 | mnist-acc  0.969 mnistm-acc  0.625 | domain-acc  0.812 | lr 0.01000 l 0.10000\n",
      "epoch  5/10 400 | mnist-acc  1.000 mnistm-acc  0.594 | domain-acc  0.969 | lr 0.01000 l 0.10000\n",
      "epoch  5/10 410 | mnist-acc  0.969 mnistm-acc  0.438 | domain-acc  0.844 | lr 0.01000 l 0.10000\n",
      "epoch  5/10 420 | mnist-acc  0.938 mnistm-acc  0.625 | domain-acc  0.844 | lr 0.01000 l 0.10000\n",
      "epoch  5/10 430 | mnist-acc  0.875 mnistm-acc  0.531 | domain-acc  0.906 | lr 0.01000 l 0.10000\n",
      "epoch  5/10 440 | mnist-acc  0.969 mnistm-acc  0.688 | domain-acc  0.875 | lr 0.01000 l 0.10000\n",
      "epoch  5/10 450 | mnist-acc  0.969 mnistm-acc  0.656 | domain-acc  0.906 | lr 0.01000 l 0.10000\n",
      "epoch  5/10 460 | mnist-acc  1.000 mnistm-acc  0.656 | domain-acc  0.953 | lr 0.01000 l 0.10000\n",
      "epoch  5/10 470 | mnist-acc  0.938 mnistm-acc  0.500 | domain-acc  0.891 | lr 0.01000 l 0.10000\n",
      "epoch  5/10 480 | mnist-acc  1.000 mnistm-acc  0.594 | domain-acc  0.922 | lr 0.01000 l 0.10000\n",
      "epoch  5/10 490 | mnist-acc  0.938 mnistm-acc  0.594 | domain-acc  0.922 | lr 0.01000 l 0.10000\n",
      "epoch  5/10 500 | mnist-acc  1.000 mnistm-acc  0.562 | domain-acc  0.922 | lr 0.01000 l 0.10000\n",
      "epoch  5/10 510 | mnist-acc  0.938 mnistm-acc  0.656 | domain-acc  0.875 | lr 0.01000 l 0.10000\n",
      "epoch  5/10 520 | mnist-acc  0.969 mnistm-acc  0.469 | domain-acc  0.922 | lr 0.01000 l 0.10000\n",
      "epoch  5/10 530 | mnist-acc  0.969 mnistm-acc  0.562 | domain-acc  0.812 | lr 0.01000 l 0.10000\n",
      "epoch  5/10 540 | mnist-acc  0.969 mnistm-acc  0.562 | domain-acc  0.906 | lr 0.01000 l 0.10000\n",
      "epoch  5/10 550 | mnist-acc  1.000 mnistm-acc  0.469 | domain-acc  0.938 | lr 0.01000 l 0.10000\n",
      "epoch  5/10 560 | mnist-acc  0.969 mnistm-acc  0.469 | domain-acc  0.891 | lr 0.01000 l 0.10000\n",
      "epoch  5/10 570 | mnist-acc  1.000 mnistm-acc  0.656 | domain-acc  0.891 | lr 0.01000 l 0.10000\n",
      "epoch  5/10 580 | mnist-acc  0.969 mnistm-acc  0.656 | domain-acc  0.938 | lr 0.01000 l 0.10000\n",
      "epoch  5/10 590 | mnist-acc  0.969 mnistm-acc  0.531 | domain-acc  0.891 | lr 0.01000 l 0.10000\n",
      "epoch  5/10 600 | mnist-acc  0.969 mnistm-acc  0.781 | domain-acc  0.812 | lr 0.01000 l 0.10000\n",
      "epoch  5/10 610 | mnist-acc  1.000 mnistm-acc  0.344 | domain-acc  0.906 | lr 0.01000 l 0.10000\n",
      "epoch  5/10 620 | mnist-acc  0.969 mnistm-acc  0.562 | domain-acc  0.875 | lr 0.01000 l 0.10000\n",
      "epoch  5/10 630 | mnist-acc  0.906 mnistm-acc  0.688 | domain-acc  0.891 | lr 0.01000 l 0.10000\n",
      "epoch  5/10 640 | mnist-acc  0.938 mnistm-acc  0.594 | domain-acc  0.875 | lr 0.01000 l 0.10000\n",
      "epoch  5/10 650 | mnist-acc  0.938 mnistm-acc  0.531 | domain-acc  0.922 | lr 0.01000 l 0.10000\n",
      "epoch  5/10 660 | mnist-acc  0.969 mnistm-acc  0.594 | domain-acc  0.859 | lr 0.01000 l 0.10000\n",
      "epoch  5/10 670 | mnist-acc  0.969 mnistm-acc  0.531 | domain-acc  0.984 | lr 0.01000 l 0.10000\n",
      "epoch  5/10 680 | mnist-acc  0.938 mnistm-acc  0.469 | domain-acc  0.828 | lr 0.01000 l 0.10000\n",
      "epoch  5/10 690 | mnist-acc  1.000 mnistm-acc  0.531 | domain-acc  0.828 | lr 0.01000 l 0.10000\n",
      "epoch  5/10 700 | mnist-acc  1.000 mnistm-acc  0.625 | domain-acc  0.859 | lr 0.01000 l 0.10000\n",
      "epoch  5/10 710 | mnist-acc  1.000 mnistm-acc  0.562 | domain-acc  0.922 | lr 0.01000 l 0.10000\n",
      "epoch  5/10 720 | mnist-acc  0.969 mnistm-acc  0.719 | domain-acc  0.844 | lr 0.01000 l 0.10000\n",
      "epoch  5/10 730 | mnist-acc  1.000 mnistm-acc  0.594 | domain-acc  0.922 | lr 0.01000 l 0.10000\n"
     ]
    },
    {
     "name": "stdout",
     "output_type": "stream",
     "text": [
      "epoch  5/10 740 | mnist-acc  0.969 mnistm-acc  0.438 | domain-acc  0.938 | lr 0.01000 l 0.10000\n",
      "epoch  5/10 750 | mnist-acc  1.000 mnistm-acc  0.625 | domain-acc  0.828 | lr 0.01000 l 0.10000\n",
      "epoch  5/10 760 | mnist-acc  0.938 mnistm-acc  0.688 | domain-acc  0.891 | lr 0.01000 l 0.10000\n",
      "epoch  5/10 770 | mnist-acc  1.000 mnistm-acc  0.594 | domain-acc  0.891 | lr 0.01000 l 0.10000\n",
      "epoch  5/10 780 | mnist-acc  1.000 mnistm-acc  0.531 | domain-acc  0.859 | lr 0.01000 l 0.10000\n",
      "epoch  5/10 790 | mnist-acc  0.938 mnistm-acc  0.469 | domain-acc  0.844 | lr 0.01000 l 0.10000\n",
      "epoch  5/10 800 | mnist-acc  1.000 mnistm-acc  0.531 | domain-acc  0.891 | lr 0.01000 l 0.10000\n",
      "epoch  5/10 810 | mnist-acc  0.969 mnistm-acc  0.531 | domain-acc  0.875 | lr 0.01000 l 0.10000\n",
      "epoch  5/10 820 | mnist-acc  1.000 mnistm-acc  0.469 | domain-acc  0.891 | lr 0.01000 l 0.10000\n",
      "epoch  5/10 830 | mnist-acc  1.000 mnistm-acc  0.625 | domain-acc  0.875 | lr 0.01000 l 0.10000\n",
      "epoch  5/10 840 | mnist-acc  0.969 mnistm-acc  0.531 | domain-acc  0.922 | lr 0.01000 l 0.10000\n",
      "epoch  5/10 850 | mnist-acc  0.969 mnistm-acc  0.562 | domain-acc  0.891 | lr 0.01000 l 0.10000\n",
      "[Validation] mnist acc: 0.974 | mnistm acc: 0.586 | domain acc 0.882\n",
      "epoch  6/10   0 | mnist-acc  1.000 mnistm-acc  0.531 | domain-acc  0.922 | lr 0.01000 l 0.10000\n",
      "epoch  6/10  10 | mnist-acc  1.000 mnistm-acc  0.688 | domain-acc  0.938 | lr 0.01000 l 0.10000\n",
      "epoch  6/10  20 | mnist-acc  0.969 mnistm-acc  0.625 | domain-acc  0.906 | lr 0.01000 l 0.10000\n",
      "epoch  6/10  30 | mnist-acc  0.875 mnistm-acc  0.531 | domain-acc  0.906 | lr 0.01000 l 0.10000\n",
      "epoch  6/10  40 | mnist-acc  1.000 mnistm-acc  0.719 | domain-acc  0.875 | lr 0.01000 l 0.10000\n",
      "epoch  6/10  50 | mnist-acc  1.000 mnistm-acc  0.625 | domain-acc  0.922 | lr 0.01000 l 0.10000\n",
      "epoch  6/10  60 | mnist-acc  0.938 mnistm-acc  0.562 | domain-acc  0.859 | lr 0.01000 l 0.10000\n",
      "epoch  6/10  70 | mnist-acc  1.000 mnistm-acc  0.531 | domain-acc  0.891 | lr 0.01000 l 0.10000\n",
      "epoch  6/10  80 | mnist-acc  0.938 mnistm-acc  0.688 | domain-acc  0.891 | lr 0.01000 l 0.10000\n",
      "epoch  6/10  90 | mnist-acc  1.000 mnistm-acc  0.562 | domain-acc  0.906 | lr 0.01000 l 0.10000\n",
      "epoch  6/10 100 | mnist-acc  0.969 mnistm-acc  0.625 | domain-acc  0.891 | lr 0.01000 l 0.10000\n",
      "epoch  6/10 110 | mnist-acc  1.000 mnistm-acc  0.469 | domain-acc  0.859 | lr 0.01000 l 0.10000\n",
      "epoch  6/10 120 | mnist-acc  0.969 mnistm-acc  0.625 | domain-acc  0.875 | lr 0.01000 l 0.10000\n",
      "epoch  6/10 130 | mnist-acc  1.000 mnistm-acc  0.688 | domain-acc  0.875 | lr 0.01000 l 0.10000\n",
      "epoch  6/10 140 | mnist-acc  0.969 mnistm-acc  0.438 | domain-acc  0.922 | lr 0.01000 l 0.10000\n",
      "epoch  6/10 150 | mnist-acc  0.969 mnistm-acc  0.594 | domain-acc  0.828 | lr 0.01000 l 0.10000\n",
      "epoch  6/10 160 | mnist-acc  0.938 mnistm-acc  0.656 | domain-acc  0.859 | lr 0.01000 l 0.10000\n",
      "epoch  6/10 170 | mnist-acc  0.969 mnistm-acc  0.719 | domain-acc  0.859 | lr 0.01000 l 0.10000\n",
      "epoch  6/10 180 | mnist-acc  0.969 mnistm-acc  0.688 | domain-acc  0.844 | lr 0.01000 l 0.10000\n",
      "epoch  6/10 190 | mnist-acc  1.000 mnistm-acc  0.781 | domain-acc  0.875 | lr 0.01000 l 0.10000\n",
      "epoch  6/10 200 | mnist-acc  0.969 mnistm-acc  0.438 | domain-acc  0.906 | lr 0.01000 l 0.10000\n",
      "epoch  6/10 210 | mnist-acc  0.938 mnistm-acc  0.438 | domain-acc  0.875 | lr 0.01000 l 0.10000\n",
      "epoch  6/10 220 | mnist-acc  1.000 mnistm-acc  0.594 | domain-acc  0.938 | lr 0.01000 l 0.10000\n",
      "epoch  6/10 230 | mnist-acc  1.000 mnistm-acc  0.625 | domain-acc  0.844 | lr 0.01000 l 0.10000\n",
      "epoch  6/10 240 | mnist-acc  1.000 mnistm-acc  0.469 | domain-acc  0.891 | lr 0.01000 l 0.10000\n",
      "epoch  6/10 250 | mnist-acc  0.969 mnistm-acc  0.656 | domain-acc  0.891 | lr 0.01000 l 0.10000\n",
      "epoch  6/10 260 | mnist-acc  1.000 mnistm-acc  0.500 | domain-acc  0.859 | lr 0.01000 l 0.10000\n",
      "epoch  6/10 270 | mnist-acc  0.969 mnistm-acc  0.656 | domain-acc  0.859 | lr 0.01000 l 0.10000\n",
      "epoch  6/10 280 | mnist-acc  0.969 mnistm-acc  0.562 | domain-acc  0.891 | lr 0.01000 l 0.10000\n",
      "epoch  6/10 290 | mnist-acc  1.000 mnistm-acc  0.594 | domain-acc  0.969 | lr 0.01000 l 0.10000\n",
      "epoch  6/10 300 | mnist-acc  1.000 mnistm-acc  0.625 | domain-acc  0.859 | lr 0.01000 l 0.10000\n",
      "epoch  6/10 310 | mnist-acc  1.000 mnistm-acc  0.594 | domain-acc  0.922 | lr 0.01000 l 0.10000\n",
      "epoch  6/10 320 | mnist-acc  1.000 mnistm-acc  0.688 | domain-acc  0.812 | lr 0.01000 l 0.10000\n",
      "epoch  6/10 330 | mnist-acc  0.938 mnistm-acc  0.656 | domain-acc  0.875 | lr 0.01000 l 0.10000\n",
      "epoch  6/10 340 | mnist-acc  0.969 mnistm-acc  0.719 | domain-acc  0.922 | lr 0.01000 l 0.10000\n",
      "epoch  6/10 350 | mnist-acc  1.000 mnistm-acc  0.594 | domain-acc  0.875 | lr 0.01000 l 0.10000\n",
      "epoch  6/10 360 | mnist-acc  1.000 mnistm-acc  0.500 | domain-acc  0.875 | lr 0.01000 l 0.10000\n",
      "epoch  6/10 370 | mnist-acc  0.938 mnistm-acc  0.594 | domain-acc  0.875 | lr 0.01000 l 0.10000\n",
      "epoch  6/10 380 | mnist-acc  0.969 mnistm-acc  0.375 | domain-acc  0.812 | lr 0.01000 l 0.10000\n",
      "epoch  6/10 390 | mnist-acc  0.938 mnistm-acc  0.625 | domain-acc  0.922 | lr 0.01000 l 0.10000\n",
      "epoch  6/10 400 | mnist-acc  0.938 mnistm-acc  0.781 | domain-acc  0.859 | lr 0.01000 l 0.10000\n",
      "epoch  6/10 410 | mnist-acc  0.969 mnistm-acc  0.531 | domain-acc  0.859 | lr 0.01000 l 0.10000\n",
      "epoch  6/10 420 | mnist-acc  0.969 mnistm-acc  0.562 | domain-acc  0.875 | lr 0.01000 l 0.10000\n",
      "epoch  6/10 430 | mnist-acc  0.969 mnistm-acc  0.531 | domain-acc  0.891 | lr 0.01000 l 0.10000\n",
      "epoch  6/10 440 | mnist-acc  0.969 mnistm-acc  0.719 | domain-acc  0.812 | lr 0.01000 l 0.10000\n",
      "epoch  6/10 450 | mnist-acc  0.969 mnistm-acc  0.625 | domain-acc  0.859 | lr 0.01000 l 0.10000\n",
      "epoch  6/10 460 | mnist-acc  1.000 mnistm-acc  0.500 | domain-acc  0.859 | lr 0.01000 l 0.10000\n",
      "epoch  6/10 470 | mnist-acc  0.938 mnistm-acc  0.531 | domain-acc  0.891 | lr 0.01000 l 0.10000\n",
      "epoch  6/10 480 | mnist-acc  0.938 mnistm-acc  0.531 | domain-acc  0.844 | lr 0.01000 l 0.10000\n",
      "epoch  6/10 490 | mnist-acc  1.000 mnistm-acc  0.719 | domain-acc  0.906 | lr 0.01000 l 0.10000\n",
      "epoch  6/10 500 | mnist-acc  1.000 mnistm-acc  0.469 | domain-acc  0.859 | lr 0.01000 l 0.10000\n",
      "epoch  6/10 510 | mnist-acc  0.969 mnistm-acc  0.656 | domain-acc  0.844 | lr 0.01000 l 0.10000\n",
      "epoch  6/10 520 | mnist-acc  0.969 mnistm-acc  0.656 | domain-acc  0.906 | lr 0.01000 l 0.10000\n",
      "epoch  6/10 530 | mnist-acc  1.000 mnistm-acc  0.406 | domain-acc  0.953 | lr 0.01000 l 0.10000\n",
      "epoch  6/10 540 | mnist-acc  1.000 mnistm-acc  0.594 | domain-acc  0.875 | lr 0.01000 l 0.10000\n",
      "epoch  6/10 550 | mnist-acc  0.969 mnistm-acc  0.625 | domain-acc  0.844 | lr 0.01000 l 0.10000\n",
      "epoch  6/10 560 | mnist-acc  0.969 mnistm-acc  0.562 | domain-acc  0.891 | lr 0.01000 l 0.10000\n",
      "epoch  6/10 570 | mnist-acc  0.969 mnistm-acc  0.844 | domain-acc  0.875 | lr 0.01000 l 0.10000\n",
      "epoch  6/10 580 | mnist-acc  1.000 mnistm-acc  0.500 | domain-acc  0.953 | lr 0.01000 l 0.10000\n",
      "epoch  6/10 590 | mnist-acc  1.000 mnistm-acc  0.625 | domain-acc  0.859 | lr 0.01000 l 0.10000\n",
      "epoch  6/10 600 | mnist-acc  1.000 mnistm-acc  0.531 | domain-acc  0.844 | lr 0.01000 l 0.10000\n",
      "epoch  6/10 610 | mnist-acc  0.969 mnistm-acc  0.500 | domain-acc  0.859 | lr 0.01000 l 0.10000\n",
      "epoch  6/10 620 | mnist-acc  1.000 mnistm-acc  0.531 | domain-acc  0.906 | lr 0.01000 l 0.10000\n",
      "epoch  6/10 630 | mnist-acc  0.969 mnistm-acc  0.531 | domain-acc  0.906 | lr 0.01000 l 0.10000\n",
      "epoch  6/10 640 | mnist-acc  0.969 mnistm-acc  0.688 | domain-acc  0.875 | lr 0.01000 l 0.10000\n",
      "epoch  6/10 650 | mnist-acc  1.000 mnistm-acc  0.562 | domain-acc  0.891 | lr 0.01000 l 0.10000\n",
      "epoch  6/10 660 | mnist-acc  1.000 mnistm-acc  0.469 | domain-acc  0.953 | lr 0.01000 l 0.10000\n",
      "epoch  6/10 670 | mnist-acc  1.000 mnistm-acc  0.594 | domain-acc  0.875 | lr 0.01000 l 0.10000\n",
      "epoch  6/10 680 | mnist-acc  1.000 mnistm-acc  0.562 | domain-acc  0.859 | lr 0.01000 l 0.10000\n",
      "epoch  6/10 690 | mnist-acc  0.969 mnistm-acc  0.594 | domain-acc  0.797 | lr 0.01000 l 0.10000\n",
      "epoch  6/10 700 | mnist-acc  1.000 mnistm-acc  0.688 | domain-acc  0.812 | lr 0.01000 l 0.10000\n",
      "epoch  6/10 710 | mnist-acc  0.938 mnistm-acc  0.625 | domain-acc  0.828 | lr 0.01000 l 0.10000\n",
      "epoch  6/10 720 | mnist-acc  0.969 mnistm-acc  0.531 | domain-acc  0.922 | lr 0.01000 l 0.10000\n"
     ]
    },
    {
     "name": "stdout",
     "output_type": "stream",
     "text": [
      "epoch  6/10 730 | mnist-acc  0.969 mnistm-acc  0.688 | domain-acc  0.906 | lr 0.01000 l 0.10000\n",
      "epoch  6/10 740 | mnist-acc  0.969 mnistm-acc  0.688 | domain-acc  0.875 | lr 0.01000 l 0.10000\n",
      "epoch  6/10 750 | mnist-acc  0.969 mnistm-acc  0.781 | domain-acc  0.875 | lr 0.01000 l 0.10000\n",
      "epoch  6/10 760 | mnist-acc  0.938 mnistm-acc  0.625 | domain-acc  0.891 | lr 0.01000 l 0.10000\n",
      "epoch  6/10 770 | mnist-acc  0.906 mnistm-acc  0.531 | domain-acc  0.891 | lr 0.01000 l 0.10000\n",
      "epoch  6/10 780 | mnist-acc  0.969 mnistm-acc  0.594 | domain-acc  0.875 | lr 0.01000 l 0.10000\n",
      "epoch  6/10 790 | mnist-acc  0.969 mnistm-acc  0.500 | domain-acc  0.906 | lr 0.01000 l 0.10000\n",
      "epoch  6/10 800 | mnist-acc  1.000 mnistm-acc  0.531 | domain-acc  0.953 | lr 0.01000 l 0.10000\n",
      "epoch  6/10 810 | mnist-acc  0.969 mnistm-acc  0.469 | domain-acc  0.906 | lr 0.01000 l 0.10000\n",
      "epoch  6/10 820 | mnist-acc  0.969 mnistm-acc  0.656 | domain-acc  0.906 | lr 0.01000 l 0.10000\n",
      "epoch  6/10 830 | mnist-acc  0.938 mnistm-acc  0.594 | domain-acc  0.859 | lr 0.01000 l 0.10000\n",
      "epoch  6/10 840 | mnist-acc  0.938 mnistm-acc  0.594 | domain-acc  0.766 | lr 0.01000 l 0.10000\n",
      "epoch  6/10 850 | mnist-acc  1.000 mnistm-acc  0.656 | domain-acc  0.844 | lr 0.01000 l 0.10000\n",
      "[Validation] mnist acc: 0.975 | mnistm acc: 0.598 | domain acc 0.879\n",
      "epoch  7/10   0 | mnist-acc  0.938 mnistm-acc  0.469 | domain-acc  0.922 | lr 0.01000 l 0.10000\n",
      "epoch  7/10  10 | mnist-acc  1.000 mnistm-acc  0.719 | domain-acc  0.859 | lr 0.01000 l 0.10000\n",
      "epoch  7/10  20 | mnist-acc  0.938 mnistm-acc  0.594 | domain-acc  0.891 | lr 0.01000 l 0.10000\n",
      "epoch  7/10  30 | mnist-acc  1.000 mnistm-acc  0.656 | domain-acc  0.922 | lr 0.01000 l 0.10000\n",
      "epoch  7/10  40 | mnist-acc  0.969 mnistm-acc  0.531 | domain-acc  0.953 | lr 0.01000 l 0.10000\n",
      "epoch  7/10  50 | mnist-acc  1.000 mnistm-acc  0.562 | domain-acc  0.875 | lr 0.01000 l 0.10000\n",
      "epoch  7/10  60 | mnist-acc  1.000 mnistm-acc  0.625 | domain-acc  0.859 | lr 0.01000 l 0.10000\n",
      "epoch  7/10  70 | mnist-acc  1.000 mnistm-acc  0.531 | domain-acc  0.891 | lr 0.01000 l 0.10000\n",
      "epoch  7/10  80 | mnist-acc  1.000 mnistm-acc  0.500 | domain-acc  0.859 | lr 0.01000 l 0.10000\n",
      "epoch  7/10  90 | mnist-acc  0.969 mnistm-acc  0.656 | domain-acc  0.906 | lr 0.01000 l 0.10000\n",
      "epoch  7/10 100 | mnist-acc  0.969 mnistm-acc  0.688 | domain-acc  0.859 | lr 0.01000 l 0.10000\n",
      "epoch  7/10 110 | mnist-acc  1.000 mnistm-acc  0.500 | domain-acc  0.875 | lr 0.01000 l 0.10000\n",
      "epoch  7/10 120 | mnist-acc  1.000 mnistm-acc  0.562 | domain-acc  0.859 | lr 0.01000 l 0.10000\n",
      "epoch  7/10 130 | mnist-acc  1.000 mnistm-acc  0.594 | domain-acc  0.875 | lr 0.01000 l 0.10000\n",
      "epoch  7/10 140 | mnist-acc  1.000 mnistm-acc  0.781 | domain-acc  0.922 | lr 0.01000 l 0.10000\n",
      "epoch  7/10 150 | mnist-acc  0.938 mnistm-acc  0.594 | domain-acc  0.812 | lr 0.01000 l 0.10000\n",
      "epoch  7/10 160 | mnist-acc  0.906 mnistm-acc  0.656 | domain-acc  0.875 | lr 0.01000 l 0.10000\n",
      "epoch  7/10 170 | mnist-acc  0.969 mnistm-acc  0.656 | domain-acc  0.766 | lr 0.01000 l 0.10000\n",
      "epoch  7/10 180 | mnist-acc  1.000 mnistm-acc  0.688 | domain-acc  0.844 | lr 0.01000 l 0.10000\n",
      "epoch  7/10 190 | mnist-acc  1.000 mnistm-acc  0.531 | domain-acc  0.875 | lr 0.01000 l 0.10000\n",
      "epoch  7/10 200 | mnist-acc  1.000 mnistm-acc  0.531 | domain-acc  0.875 | lr 0.01000 l 0.10000\n",
      "epoch  7/10 210 | mnist-acc  1.000 mnistm-acc  0.594 | domain-acc  0.844 | lr 0.01000 l 0.10000\n",
      "epoch  7/10 220 | mnist-acc  0.906 mnistm-acc  0.625 | domain-acc  0.859 | lr 0.01000 l 0.10000\n",
      "epoch  7/10 230 | mnist-acc  1.000 mnistm-acc  0.562 | domain-acc  0.906 | lr 0.01000 l 0.10000\n",
      "epoch  7/10 240 | mnist-acc  1.000 mnistm-acc  0.812 | domain-acc  0.891 | lr 0.01000 l 0.10000\n",
      "epoch  7/10 250 | mnist-acc  0.969 mnistm-acc  0.438 | domain-acc  0.891 | lr 0.01000 l 0.10000\n",
      "epoch  7/10 260 | mnist-acc  1.000 mnistm-acc  0.562 | domain-acc  0.922 | lr 0.01000 l 0.10000\n",
      "epoch  7/10 270 | mnist-acc  1.000 mnistm-acc  0.656 | domain-acc  0.859 | lr 0.01000 l 0.10000\n",
      "epoch  7/10 280 | mnist-acc  0.938 mnistm-acc  0.781 | domain-acc  0.844 | lr 0.01000 l 0.10000\n",
      "epoch  7/10 290 | mnist-acc  1.000 mnistm-acc  0.656 | domain-acc  0.875 | lr 0.01000 l 0.10000\n",
      "epoch  7/10 300 | mnist-acc  0.969 mnistm-acc  0.438 | domain-acc  0.938 | lr 0.01000 l 0.10000\n",
      "epoch  7/10 310 | mnist-acc  0.938 mnistm-acc  0.562 | domain-acc  0.906 | lr 0.01000 l 0.10000\n",
      "epoch  7/10 320 | mnist-acc  0.969 mnistm-acc  0.688 | domain-acc  0.906 | lr 0.01000 l 0.10000\n",
      "epoch  7/10 330 | mnist-acc  0.969 mnistm-acc  0.562 | domain-acc  0.906 | lr 0.01000 l 0.10000\n",
      "epoch  7/10 340 | mnist-acc  1.000 mnistm-acc  0.688 | domain-acc  0.859 | lr 0.01000 l 0.10000\n",
      "epoch  7/10 350 | mnist-acc  0.938 mnistm-acc  0.781 | domain-acc  0.797 | lr 0.01000 l 0.10000\n",
      "epoch  7/10 360 | mnist-acc  0.969 mnistm-acc  0.594 | domain-acc  0.859 | lr 0.01000 l 0.10000\n",
      "epoch  7/10 370 | mnist-acc  0.969 mnistm-acc  0.531 | domain-acc  0.875 | lr 0.01000 l 0.10000\n",
      "epoch  7/10 380 | mnist-acc  1.000 mnistm-acc  0.656 | domain-acc  0.891 | lr 0.01000 l 0.10000\n",
      "epoch  7/10 390 | mnist-acc  1.000 mnistm-acc  0.656 | domain-acc  0.828 | lr 0.01000 l 0.10000\n",
      "epoch  7/10 400 | mnist-acc  1.000 mnistm-acc  0.594 | domain-acc  0.781 | lr 0.01000 l 0.10000\n",
      "epoch  7/10 410 | mnist-acc  0.969 mnistm-acc  0.562 | domain-acc  0.781 | lr 0.01000 l 0.10000\n",
      "epoch  7/10 420 | mnist-acc  1.000 mnistm-acc  0.531 | domain-acc  0.844 | lr 0.01000 l 0.10000\n",
      "epoch  7/10 430 | mnist-acc  0.969 mnistm-acc  0.531 | domain-acc  0.906 | lr 0.01000 l 0.10000\n",
      "epoch  7/10 440 | mnist-acc  0.906 mnistm-acc  0.688 | domain-acc  0.891 | lr 0.01000 l 0.10000\n",
      "epoch  7/10 450 | mnist-acc  0.969 mnistm-acc  0.531 | domain-acc  0.906 | lr 0.01000 l 0.10000\n",
      "epoch  7/10 460 | mnist-acc  1.000 mnistm-acc  0.594 | domain-acc  0.922 | lr 0.01000 l 0.10000\n",
      "epoch  7/10 470 | mnist-acc  1.000 mnistm-acc  0.656 | domain-acc  0.922 | lr 0.01000 l 0.10000\n",
      "epoch  7/10 480 | mnist-acc  0.969 mnistm-acc  0.625 | domain-acc  0.891 | lr 0.01000 l 0.10000\n",
      "epoch  7/10 490 | mnist-acc  1.000 mnistm-acc  0.719 | domain-acc  0.859 | lr 0.01000 l 0.10000\n",
      "epoch  7/10 500 | mnist-acc  0.969 mnistm-acc  0.625 | domain-acc  0.891 | lr 0.01000 l 0.10000\n",
      "epoch  7/10 510 | mnist-acc  0.969 mnistm-acc  0.531 | domain-acc  0.828 | lr 0.01000 l 0.10000\n",
      "epoch  7/10 520 | mnist-acc  1.000 mnistm-acc  0.750 | domain-acc  0.812 | lr 0.01000 l 0.10000\n",
      "epoch  7/10 530 | mnist-acc  0.969 mnistm-acc  0.656 | domain-acc  0.828 | lr 0.01000 l 0.10000\n",
      "epoch  7/10 540 | mnist-acc  1.000 mnistm-acc  0.500 | domain-acc  0.906 | lr 0.01000 l 0.10000\n",
      "epoch  7/10 550 | mnist-acc  1.000 mnistm-acc  0.469 | domain-acc  0.859 | lr 0.01000 l 0.10000\n",
      "epoch  7/10 560 | mnist-acc  1.000 mnistm-acc  0.562 | domain-acc  0.828 | lr 0.01000 l 0.10000\n",
      "epoch  7/10 570 | mnist-acc  1.000 mnistm-acc  0.656 | domain-acc  0.844 | lr 0.01000 l 0.10000\n",
      "epoch  7/10 580 | mnist-acc  0.969 mnistm-acc  0.469 | domain-acc  0.875 | lr 0.01000 l 0.10000\n",
      "epoch  7/10 590 | mnist-acc  0.969 mnistm-acc  0.500 | domain-acc  0.781 | lr 0.01000 l 0.10000\n",
      "epoch  7/10 600 | mnist-acc  0.969 mnistm-acc  0.500 | domain-acc  0.859 | lr 0.01000 l 0.10000\n",
      "epoch  7/10 610 | mnist-acc  1.000 mnistm-acc  0.594 | domain-acc  0.922 | lr 0.01000 l 0.10000\n",
      "epoch  7/10 620 | mnist-acc  0.969 mnistm-acc  0.594 | domain-acc  0.922 | lr 0.01000 l 0.10000\n",
      "epoch  7/10 630 | mnist-acc  0.969 mnistm-acc  0.625 | domain-acc  0.844 | lr 0.01000 l 0.10000\n",
      "epoch  7/10 640 | mnist-acc  1.000 mnistm-acc  0.656 | domain-acc  0.875 | lr 0.01000 l 0.10000\n",
      "epoch  7/10 650 | mnist-acc  1.000 mnistm-acc  0.719 | domain-acc  0.734 | lr 0.01000 l 0.10000\n",
      "epoch  7/10 660 | mnist-acc  1.000 mnistm-acc  0.719 | domain-acc  0.844 | lr 0.01000 l 0.10000\n",
      "epoch  7/10 670 | mnist-acc  0.969 mnistm-acc  0.625 | domain-acc  0.859 | lr 0.01000 l 0.10000\n",
      "epoch  7/10 680 | mnist-acc  1.000 mnistm-acc  0.469 | domain-acc  0.828 | lr 0.01000 l 0.10000\n",
      "epoch  7/10 690 | mnist-acc  1.000 mnistm-acc  0.500 | domain-acc  0.797 | lr 0.01000 l 0.10000\n",
      "epoch  7/10 700 | mnist-acc  1.000 mnistm-acc  0.625 | domain-acc  0.859 | lr 0.01000 l 0.10000\n",
      "epoch  7/10 710 | mnist-acc  1.000 mnistm-acc  0.688 | domain-acc  0.812 | lr 0.01000 l 0.10000\n"
     ]
    },
    {
     "name": "stdout",
     "output_type": "stream",
     "text": [
      "epoch  7/10 720 | mnist-acc  0.969 mnistm-acc  0.500 | domain-acc  0.906 | lr 0.01000 l 0.10000\n",
      "epoch  7/10 730 | mnist-acc  0.969 mnistm-acc  0.656 | domain-acc  0.906 | lr 0.01000 l 0.10000\n",
      "epoch  7/10 740 | mnist-acc  0.969 mnistm-acc  0.562 | domain-acc  0.859 | lr 0.01000 l 0.10000\n",
      "epoch  7/10 750 | mnist-acc  0.938 mnistm-acc  0.594 | domain-acc  0.812 | lr 0.01000 l 0.10000\n",
      "epoch  7/10 760 | mnist-acc  1.000 mnistm-acc  0.625 | domain-acc  0.859 | lr 0.01000 l 0.10000\n",
      "epoch  7/10 770 | mnist-acc  0.938 mnistm-acc  0.438 | domain-acc  0.875 | lr 0.01000 l 0.10000\n",
      "epoch  7/10 780 | mnist-acc  1.000 mnistm-acc  0.531 | domain-acc  0.859 | lr 0.01000 l 0.10000\n",
      "epoch  7/10 790 | mnist-acc  1.000 mnistm-acc  0.688 | domain-acc  0.828 | lr 0.01000 l 0.10000\n",
      "epoch  7/10 800 | mnist-acc  1.000 mnistm-acc  0.750 | domain-acc  0.844 | lr 0.01000 l 0.10000\n",
      "epoch  7/10 810 | mnist-acc  1.000 mnistm-acc  0.531 | domain-acc  0.891 | lr 0.01000 l 0.10000\n",
      "epoch  7/10 820 | mnist-acc  1.000 mnistm-acc  0.656 | domain-acc  0.922 | lr 0.01000 l 0.10000\n",
      "epoch  7/10 830 | mnist-acc  1.000 mnistm-acc  0.625 | domain-acc  0.859 | lr 0.01000 l 0.10000\n",
      "epoch  7/10 840 | mnist-acc  0.906 mnistm-acc  0.438 | domain-acc  0.922 | lr 0.01000 l 0.10000\n",
      "epoch  7/10 850 | mnist-acc  0.938 mnistm-acc  0.688 | domain-acc  0.859 | lr 0.01000 l 0.10000\n",
      "[Validation] mnist acc: 0.977 | mnistm acc: 0.596 | domain acc 0.853\n",
      "epoch  8/10   0 | mnist-acc  0.969 mnistm-acc  0.844 | domain-acc  0.781 | lr 0.01000 l 0.10000\n",
      "epoch  8/10  10 | mnist-acc  1.000 mnistm-acc  0.531 | domain-acc  0.891 | lr 0.01000 l 0.10000\n",
      "epoch  8/10  20 | mnist-acc  0.969 mnistm-acc  0.500 | domain-acc  0.906 | lr 0.01000 l 0.10000\n",
      "epoch  8/10  30 | mnist-acc  0.969 mnistm-acc  0.625 | domain-acc  0.781 | lr 0.01000 l 0.10000\n",
      "epoch  8/10  40 | mnist-acc  1.000 mnistm-acc  0.562 | domain-acc  0.891 | lr 0.01000 l 0.10000\n",
      "epoch  8/10  50 | mnist-acc  0.906 mnistm-acc  0.531 | domain-acc  0.812 | lr 0.01000 l 0.10000\n",
      "epoch  8/10  60 | mnist-acc  1.000 mnistm-acc  0.625 | domain-acc  0.875 | lr 0.01000 l 0.10000\n",
      "epoch  8/10  70 | mnist-acc  1.000 mnistm-acc  0.781 | domain-acc  0.734 | lr 0.01000 l 0.10000\n",
      "epoch  8/10  80 | mnist-acc  1.000 mnistm-acc  0.625 | domain-acc  0.797 | lr 0.01000 l 0.10000\n",
      "epoch  8/10  90 | mnist-acc  1.000 mnistm-acc  0.719 | domain-acc  0.766 | lr 0.01000 l 0.10000\n",
      "epoch  8/10 100 | mnist-acc  0.969 mnistm-acc  0.438 | domain-acc  0.906 | lr 0.01000 l 0.10000\n",
      "epoch  8/10 110 | mnist-acc  0.938 mnistm-acc  0.594 | domain-acc  0.781 | lr 0.01000 l 0.10000\n",
      "epoch  8/10 120 | mnist-acc  0.938 mnistm-acc  0.750 | domain-acc  0.891 | lr 0.01000 l 0.10000\n",
      "epoch  8/10 130 | mnist-acc  1.000 mnistm-acc  0.625 | domain-acc  0.891 | lr 0.01000 l 0.10000\n",
      "epoch  8/10 140 | mnist-acc  0.969 mnistm-acc  0.625 | domain-acc  0.766 | lr 0.01000 l 0.10000\n",
      "epoch  8/10 150 | mnist-acc  1.000 mnistm-acc  0.594 | domain-acc  0.844 | lr 0.01000 l 0.10000\n",
      "epoch  8/10 160 | mnist-acc  0.938 mnistm-acc  0.562 | domain-acc  0.797 | lr 0.01000 l 0.10000\n",
      "epoch  8/10 170 | mnist-acc  0.938 mnistm-acc  0.625 | domain-acc  0.906 | lr 0.01000 l 0.10000\n",
      "epoch  8/10 180 | mnist-acc  1.000 mnistm-acc  0.594 | domain-acc  0.922 | lr 0.01000 l 0.10000\n",
      "epoch  8/10 190 | mnist-acc  0.969 mnistm-acc  0.594 | domain-acc  0.844 | lr 0.01000 l 0.10000\n",
      "epoch  8/10 200 | mnist-acc  0.938 mnistm-acc  0.625 | domain-acc  0.828 | lr 0.01000 l 0.10000\n",
      "epoch  8/10 210 | mnist-acc  0.906 mnistm-acc  0.625 | domain-acc  0.734 | lr 0.01000 l 0.10000\n",
      "epoch  8/10 220 | mnist-acc  0.969 mnistm-acc  0.656 | domain-acc  0.859 | lr 0.01000 l 0.10000\n",
      "epoch  8/10 230 | mnist-acc  1.000 mnistm-acc  0.656 | domain-acc  0.828 | lr 0.01000 l 0.10000\n",
      "epoch  8/10 240 | mnist-acc  1.000 mnistm-acc  0.562 | domain-acc  0.844 | lr 0.01000 l 0.10000\n",
      "epoch  8/10 250 | mnist-acc  0.969 mnistm-acc  0.781 | domain-acc  0.828 | lr 0.01000 l 0.10000\n",
      "epoch  8/10 260 | mnist-acc  1.000 mnistm-acc  0.594 | domain-acc  0.906 | lr 0.01000 l 0.10000\n",
      "epoch  8/10 270 | mnist-acc  1.000 mnistm-acc  0.688 | domain-acc  0.781 | lr 0.01000 l 0.10000\n",
      "epoch  8/10 280 | mnist-acc  1.000 mnistm-acc  0.656 | domain-acc  0.891 | lr 0.01000 l 0.10000\n",
      "epoch  8/10 290 | mnist-acc  1.000 mnistm-acc  0.406 | domain-acc  0.875 | lr 0.01000 l 0.10000\n",
      "epoch  8/10 300 | mnist-acc  0.969 mnistm-acc  0.594 | domain-acc  0.750 | lr 0.01000 l 0.10000\n",
      "epoch  8/10 310 | mnist-acc  0.969 mnistm-acc  0.625 | domain-acc  0.875 | lr 0.01000 l 0.10000\n",
      "epoch  8/10 320 | mnist-acc  1.000 mnistm-acc  0.656 | domain-acc  0.797 | lr 0.01000 l 0.10000\n",
      "epoch  8/10 330 | mnist-acc  1.000 mnistm-acc  0.594 | domain-acc  0.891 | lr 0.01000 l 0.10000\n",
      "epoch  8/10 340 | mnist-acc  0.969 mnistm-acc  0.656 | domain-acc  0.828 | lr 0.01000 l 0.10000\n",
      "epoch  8/10 350 | mnist-acc  1.000 mnistm-acc  0.625 | domain-acc  0.875 | lr 0.01000 l 0.10000\n",
      "epoch  8/10 360 | mnist-acc  1.000 mnistm-acc  0.656 | domain-acc  0.828 | lr 0.01000 l 0.10000\n",
      "epoch  8/10 370 | mnist-acc  1.000 mnistm-acc  0.594 | domain-acc  0.891 | lr 0.01000 l 0.10000\n",
      "epoch  8/10 380 | mnist-acc  0.969 mnistm-acc  0.500 | domain-acc  0.797 | lr 0.01000 l 0.10000\n",
      "epoch  8/10 390 | mnist-acc  1.000 mnistm-acc  0.594 | domain-acc  0.859 | lr 0.01000 l 0.10000\n",
      "epoch  8/10 400 | mnist-acc  1.000 mnistm-acc  0.594 | domain-acc  0.875 | lr 0.01000 l 0.10000\n",
      "epoch  8/10 410 | mnist-acc  0.969 mnistm-acc  0.625 | domain-acc  0.875 | lr 0.01000 l 0.10000\n",
      "epoch  8/10 420 | mnist-acc  0.938 mnistm-acc  0.594 | domain-acc  0.906 | lr 0.01000 l 0.10000\n",
      "epoch  8/10 430 | mnist-acc  1.000 mnistm-acc  0.500 | domain-acc  0.844 | lr 0.01000 l 0.10000\n",
      "epoch  8/10 440 | mnist-acc  1.000 mnistm-acc  0.750 | domain-acc  0.812 | lr 0.01000 l 0.10000\n",
      "epoch  8/10 450 | mnist-acc  1.000 mnistm-acc  0.688 | domain-acc  0.750 | lr 0.01000 l 0.10000\n",
      "epoch  8/10 460 | mnist-acc  1.000 mnistm-acc  0.469 | domain-acc  0.797 | lr 0.01000 l 0.10000\n",
      "epoch  8/10 470 | mnist-acc  1.000 mnistm-acc  0.562 | domain-acc  0.750 | lr 0.01000 l 0.10000\n",
      "epoch  8/10 480 | mnist-acc  1.000 mnistm-acc  0.469 | domain-acc  0.812 | lr 0.01000 l 0.10000\n",
      "epoch  8/10 490 | mnist-acc  1.000 mnistm-acc  0.625 | domain-acc  0.875 | lr 0.01000 l 0.10000\n",
      "epoch  8/10 500 | mnist-acc  0.969 mnistm-acc  0.406 | domain-acc  0.891 | lr 0.01000 l 0.10000\n",
      "epoch  8/10 510 | mnist-acc  1.000 mnistm-acc  0.562 | domain-acc  0.875 | lr 0.01000 l 0.10000\n",
      "epoch  8/10 520 | mnist-acc  1.000 mnistm-acc  0.719 | domain-acc  0.797 | lr 0.01000 l 0.10000\n",
      "epoch  8/10 530 | mnist-acc  0.969 mnistm-acc  0.656 | domain-acc  0.828 | lr 0.01000 l 0.10000\n",
      "epoch  8/10 540 | mnist-acc  0.969 mnistm-acc  0.719 | domain-acc  0.859 | lr 0.01000 l 0.10000\n",
      "epoch  8/10 550 | mnist-acc  0.938 mnistm-acc  0.625 | domain-acc  0.906 | lr 0.01000 l 0.10000\n",
      "epoch  8/10 560 | mnist-acc  0.906 mnistm-acc  0.594 | domain-acc  0.859 | lr 0.01000 l 0.10000\n",
      "epoch  8/10 570 | mnist-acc  1.000 mnistm-acc  0.625 | domain-acc  0.891 | lr 0.01000 l 0.10000\n",
      "epoch  8/10 580 | mnist-acc  1.000 mnistm-acc  0.531 | domain-acc  0.812 | lr 0.01000 l 0.10000\n",
      "epoch  8/10 590 | mnist-acc  1.000 mnistm-acc  0.688 | domain-acc  0.844 | lr 0.01000 l 0.10000\n",
      "epoch  8/10 600 | mnist-acc  0.969 mnistm-acc  0.656 | domain-acc  0.844 | lr 0.01000 l 0.10000\n",
      "epoch  8/10 610 | mnist-acc  1.000 mnistm-acc  0.594 | domain-acc  0.906 | lr 0.01000 l 0.10000\n",
      "epoch  8/10 620 | mnist-acc  0.969 mnistm-acc  0.750 | domain-acc  0.875 | lr 0.01000 l 0.10000\n",
      "epoch  8/10 630 | mnist-acc  1.000 mnistm-acc  0.500 | domain-acc  0.844 | lr 0.01000 l 0.10000\n",
      "epoch  8/10 640 | mnist-acc  0.969 mnistm-acc  0.750 | domain-acc  0.812 | lr 0.01000 l 0.10000\n",
      "epoch  8/10 650 | mnist-acc  1.000 mnistm-acc  0.656 | domain-acc  0.859 | lr 0.01000 l 0.10000\n",
      "epoch  8/10 660 | mnist-acc  1.000 mnistm-acc  0.656 | domain-acc  0.812 | lr 0.01000 l 0.10000\n",
      "epoch  8/10 670 | mnist-acc  0.969 mnistm-acc  0.625 | domain-acc  0.828 | lr 0.01000 l 0.10000\n",
      "epoch  8/10 680 | mnist-acc  0.969 mnistm-acc  0.625 | domain-acc  0.875 | lr 0.01000 l 0.10000\n",
      "epoch  8/10 690 | mnist-acc  1.000 mnistm-acc  0.594 | domain-acc  0.828 | lr 0.01000 l 0.10000\n",
      "epoch  8/10 700 | mnist-acc  1.000 mnistm-acc  0.500 | domain-acc  0.875 | lr 0.01000 l 0.10000\n"
     ]
    },
    {
     "name": "stdout",
     "output_type": "stream",
     "text": [
      "epoch  8/10 710 | mnist-acc  1.000 mnistm-acc  0.781 | domain-acc  0.844 | lr 0.01000 l 0.10000\n",
      "epoch  8/10 720 | mnist-acc  0.938 mnistm-acc  0.656 | domain-acc  0.859 | lr 0.01000 l 0.10000\n",
      "epoch  8/10 730 | mnist-acc  0.969 mnistm-acc  0.688 | domain-acc  0.797 | lr 0.01000 l 0.10000\n",
      "epoch  8/10 740 | mnist-acc  0.969 mnistm-acc  0.531 | domain-acc  0.828 | lr 0.01000 l 0.10000\n",
      "epoch  8/10 750 | mnist-acc  1.000 mnistm-acc  0.531 | domain-acc  0.891 | lr 0.01000 l 0.10000\n",
      "epoch  8/10 760 | mnist-acc  0.969 mnistm-acc  0.562 | domain-acc  0.859 | lr 0.01000 l 0.10000\n",
      "epoch  8/10 770 | mnist-acc  1.000 mnistm-acc  0.656 | domain-acc  0.859 | lr 0.01000 l 0.10000\n",
      "epoch  8/10 780 | mnist-acc  0.938 mnistm-acc  0.500 | domain-acc  0.891 | lr 0.01000 l 0.10000\n",
      "epoch  8/10 790 | mnist-acc  0.969 mnistm-acc  0.750 | domain-acc  0.781 | lr 0.01000 l 0.10000\n",
      "epoch  8/10 800 | mnist-acc  0.938 mnistm-acc  0.562 | domain-acc  0.812 | lr 0.01000 l 0.10000\n",
      "epoch  8/10 810 | mnist-acc  0.938 mnistm-acc  0.656 | domain-acc  0.828 | lr 0.01000 l 0.10000\n",
      "epoch  8/10 820 | mnist-acc  0.969 mnistm-acc  0.781 | domain-acc  0.844 | lr 0.01000 l 0.10000\n",
      "epoch  8/10 830 | mnist-acc  1.000 mnistm-acc  0.594 | domain-acc  0.906 | lr 0.01000 l 0.10000\n",
      "epoch  8/10 840 | mnist-acc  1.000 mnistm-acc  0.625 | domain-acc  0.812 | lr 0.01000 l 0.10000\n",
      "epoch  8/10 850 | mnist-acc  0.969 mnistm-acc  0.719 | domain-acc  0.844 | lr 0.01000 l 0.10000\n",
      "[Validation] mnist acc: 0.977 | mnistm acc: 0.624 | domain acc 0.830\n",
      "epoch  9/10   0 | mnist-acc  1.000 mnistm-acc  0.594 | domain-acc  0.875 | lr 0.01000 l 0.10000\n",
      "epoch  9/10  10 | mnist-acc  1.000 mnistm-acc  0.688 | domain-acc  0.828 | lr 0.01000 l 0.10000\n",
      "epoch  9/10  20 | mnist-acc  1.000 mnistm-acc  0.656 | domain-acc  0.734 | lr 0.01000 l 0.10000\n",
      "epoch  9/10  30 | mnist-acc  0.969 mnistm-acc  0.531 | domain-acc  0.875 | lr 0.01000 l 0.10000\n",
      "epoch  9/10  40 | mnist-acc  1.000 mnistm-acc  0.562 | domain-acc  0.875 | lr 0.01000 l 0.10000\n",
      "epoch  9/10  50 | mnist-acc  0.969 mnistm-acc  0.562 | domain-acc  0.844 | lr 0.01000 l 0.10000\n",
      "epoch  9/10  60 | mnist-acc  0.938 mnistm-acc  0.688 | domain-acc  0.750 | lr 0.01000 l 0.10000\n",
      "epoch  9/10  70 | mnist-acc  1.000 mnistm-acc  0.500 | domain-acc  0.906 | lr 0.01000 l 0.10000\n",
      "epoch  9/10  80 | mnist-acc  1.000 mnistm-acc  0.656 | domain-acc  0.859 | lr 0.01000 l 0.10000\n",
      "epoch  9/10  90 | mnist-acc  0.969 mnistm-acc  0.469 | domain-acc  0.844 | lr 0.01000 l 0.10000\n",
      "epoch  9/10 100 | mnist-acc  1.000 mnistm-acc  0.500 | domain-acc  0.828 | lr 0.01000 l 0.10000\n",
      "epoch  9/10 110 | mnist-acc  0.969 mnistm-acc  0.594 | domain-acc  0.938 | lr 0.01000 l 0.10000\n",
      "epoch  9/10 120 | mnist-acc  1.000 mnistm-acc  0.750 | domain-acc  0.891 | lr 0.01000 l 0.10000\n",
      "epoch  9/10 130 | mnist-acc  1.000 mnistm-acc  0.625 | domain-acc  0.766 | lr 0.01000 l 0.10000\n",
      "epoch  9/10 140 | mnist-acc  1.000 mnistm-acc  0.719 | domain-acc  0.797 | lr 0.01000 l 0.10000\n",
      "epoch  9/10 150 | mnist-acc  0.969 mnistm-acc  0.594 | domain-acc  0.875 | lr 0.01000 l 0.10000\n",
      "epoch  9/10 160 | mnist-acc  1.000 mnistm-acc  0.500 | domain-acc  0.922 | lr 0.01000 l 0.10000\n",
      "epoch  9/10 170 | mnist-acc  1.000 mnistm-acc  0.719 | domain-acc  0.875 | lr 0.01000 l 0.10000\n",
      "epoch  9/10 180 | mnist-acc  0.938 mnistm-acc  0.688 | domain-acc  0.766 | lr 0.01000 l 0.10000\n",
      "epoch  9/10 190 | mnist-acc  1.000 mnistm-acc  0.625 | domain-acc  0.828 | lr 0.01000 l 0.10000\n",
      "epoch  9/10 200 | mnist-acc  0.969 mnistm-acc  0.719 | domain-acc  0.812 | lr 0.01000 l 0.10000\n",
      "epoch  9/10 210 | mnist-acc  0.938 mnistm-acc  0.594 | domain-acc  0.906 | lr 0.01000 l 0.10000\n",
      "epoch  9/10 220 | mnist-acc  0.969 mnistm-acc  0.719 | domain-acc  0.859 | lr 0.01000 l 0.10000\n",
      "epoch  9/10 230 | mnist-acc  1.000 mnistm-acc  0.688 | domain-acc  0.859 | lr 0.01000 l 0.10000\n",
      "epoch  9/10 240 | mnist-acc  0.906 mnistm-acc  0.688 | domain-acc  0.812 | lr 0.01000 l 0.10000\n",
      "epoch  9/10 250 | mnist-acc  1.000 mnistm-acc  0.469 | domain-acc  0.891 | lr 0.01000 l 0.10000\n",
      "epoch  9/10 260 | mnist-acc  1.000 mnistm-acc  0.625 | domain-acc  0.891 | lr 0.01000 l 0.10000\n",
      "epoch  9/10 270 | mnist-acc  1.000 mnistm-acc  0.625 | domain-acc  0.859 | lr 0.01000 l 0.10000\n",
      "epoch  9/10 280 | mnist-acc  0.969 mnistm-acc  0.781 | domain-acc  0.922 | lr 0.01000 l 0.10000\n",
      "epoch  9/10 290 | mnist-acc  1.000 mnistm-acc  0.656 | domain-acc  0.812 | lr 0.01000 l 0.10000\n",
      "epoch  9/10 300 | mnist-acc  1.000 mnistm-acc  0.625 | domain-acc  0.844 | lr 0.01000 l 0.10000\n",
      "epoch  9/10 310 | mnist-acc  0.969 mnistm-acc  0.531 | domain-acc  0.938 | lr 0.01000 l 0.10000\n",
      "epoch  9/10 320 | mnist-acc  1.000 mnistm-acc  0.562 | domain-acc  0.875 | lr 0.01000 l 0.10000\n",
      "epoch  9/10 330 | mnist-acc  1.000 mnistm-acc  0.625 | domain-acc  0.828 | lr 0.01000 l 0.10000\n",
      "epoch  9/10 340 | mnist-acc  1.000 mnistm-acc  0.688 | domain-acc  0.875 | lr 0.01000 l 0.10000\n",
      "epoch  9/10 350 | mnist-acc  1.000 mnistm-acc  0.562 | domain-acc  0.812 | lr 0.01000 l 0.10000\n",
      "epoch  9/10 360 | mnist-acc  0.969 mnistm-acc  0.594 | domain-acc  0.844 | lr 0.01000 l 0.10000\n",
      "epoch  9/10 370 | mnist-acc  0.969 mnistm-acc  0.719 | domain-acc  0.891 | lr 0.01000 l 0.10000\n",
      "epoch  9/10 380 | mnist-acc  1.000 mnistm-acc  0.656 | domain-acc  0.844 | lr 0.01000 l 0.10000\n",
      "epoch  9/10 390 | mnist-acc  1.000 mnistm-acc  0.656 | domain-acc  0.859 | lr 0.01000 l 0.10000\n",
      "epoch  9/10 400 | mnist-acc  0.969 mnistm-acc  0.562 | domain-acc  0.828 | lr 0.01000 l 0.10000\n",
      "epoch  9/10 410 | mnist-acc  0.969 mnistm-acc  0.656 | domain-acc  0.797 | lr 0.01000 l 0.10000\n",
      "epoch  9/10 420 | mnist-acc  0.938 mnistm-acc  0.531 | domain-acc  0.859 | lr 0.01000 l 0.10000\n",
      "epoch  9/10 430 | mnist-acc  1.000 mnistm-acc  0.656 | domain-acc  0.875 | lr 0.01000 l 0.10000\n",
      "epoch  9/10 440 | mnist-acc  1.000 mnistm-acc  0.469 | domain-acc  0.828 | lr 0.01000 l 0.10000\n",
      "epoch  9/10 450 | mnist-acc  1.000 mnistm-acc  0.656 | domain-acc  0.812 | lr 0.01000 l 0.10000\n",
      "epoch  9/10 460 | mnist-acc  0.938 mnistm-acc  0.469 | domain-acc  0.844 | lr 0.01000 l 0.10000\n",
      "epoch  9/10 470 | mnist-acc  1.000 mnistm-acc  0.812 | domain-acc  0.750 | lr 0.01000 l 0.10000\n",
      "epoch  9/10 480 | mnist-acc  0.969 mnistm-acc  0.750 | domain-acc  0.828 | lr 0.01000 l 0.10000\n",
      "epoch  9/10 490 | mnist-acc  1.000 mnistm-acc  0.844 | domain-acc  0.750 | lr 0.01000 l 0.10000\n",
      "epoch  9/10 500 | mnist-acc  1.000 mnistm-acc  0.656 | domain-acc  0.859 | lr 0.01000 l 0.10000\n",
      "epoch  9/10 510 | mnist-acc  0.969 mnistm-acc  0.688 | domain-acc  0.766 | lr 0.01000 l 0.10000\n",
      "epoch  9/10 520 | mnist-acc  1.000 mnistm-acc  0.688 | domain-acc  0.906 | lr 0.01000 l 0.10000\n",
      "epoch  9/10 530 | mnist-acc  0.906 mnistm-acc  0.562 | domain-acc  0.812 | lr 0.01000 l 0.10000\n",
      "epoch  9/10 540 | mnist-acc  1.000 mnistm-acc  0.719 | domain-acc  0.812 | lr 0.01000 l 0.10000\n",
      "epoch  9/10 550 | mnist-acc  0.969 mnistm-acc  0.625 | domain-acc  0.859 | lr 0.01000 l 0.10000\n",
      "epoch  9/10 560 | mnist-acc  1.000 mnistm-acc  0.688 | domain-acc  0.891 | lr 0.01000 l 0.10000\n",
      "epoch  9/10 570 | mnist-acc  1.000 mnistm-acc  0.500 | domain-acc  0.906 | lr 0.01000 l 0.10000\n",
      "epoch  9/10 580 | mnist-acc  1.000 mnistm-acc  0.750 | domain-acc  0.781 | lr 0.01000 l 0.10000\n",
      "epoch  9/10 590 | mnist-acc  0.938 mnistm-acc  0.625 | domain-acc  0.844 | lr 0.01000 l 0.10000\n",
      "epoch  9/10 600 | mnist-acc  0.969 mnistm-acc  0.625 | domain-acc  0.938 | lr 0.01000 l 0.10000\n",
      "epoch  9/10 610 | mnist-acc  1.000 mnistm-acc  0.625 | domain-acc  0.828 | lr 0.01000 l 0.10000\n",
      "epoch  9/10 620 | mnist-acc  0.969 mnistm-acc  0.625 | domain-acc  0.703 | lr 0.01000 l 0.10000\n",
      "epoch  9/10 630 | mnist-acc  0.969 mnistm-acc  0.656 | domain-acc  0.766 | lr 0.01000 l 0.10000\n",
      "epoch  9/10 640 | mnist-acc  0.969 mnistm-acc  0.812 | domain-acc  0.812 | lr 0.01000 l 0.10000\n",
      "epoch  9/10 650 | mnist-acc  1.000 mnistm-acc  0.750 | domain-acc  0.906 | lr 0.01000 l 0.10000\n",
      "epoch  9/10 660 | mnist-acc  0.969 mnistm-acc  0.344 | domain-acc  0.891 | lr 0.01000 l 0.10000\n",
      "epoch  9/10 670 | mnist-acc  1.000 mnistm-acc  0.656 | domain-acc  0.906 | lr 0.01000 l 0.10000\n",
      "epoch  9/10 680 | mnist-acc  1.000 mnistm-acc  0.562 | domain-acc  0.766 | lr 0.01000 l 0.10000\n",
      "epoch  9/10 690 | mnist-acc  1.000 mnistm-acc  0.656 | domain-acc  0.828 | lr 0.01000 l 0.10000\n"
     ]
    },
    {
     "name": "stdout",
     "output_type": "stream",
     "text": [
      "epoch  9/10 700 | mnist-acc  0.969 mnistm-acc  0.469 | domain-acc  0.781 | lr 0.01000 l 0.10000\n",
      "epoch  9/10 710 | mnist-acc  1.000 mnistm-acc  0.531 | domain-acc  0.844 | lr 0.01000 l 0.10000\n",
      "epoch  9/10 720 | mnist-acc  1.000 mnistm-acc  0.625 | domain-acc  0.875 | lr 0.01000 l 0.10000\n",
      "epoch  9/10 730 | mnist-acc  0.969 mnistm-acc  0.844 | domain-acc  0.844 | lr 0.01000 l 0.10000\n",
      "epoch  9/10 740 | mnist-acc  0.969 mnistm-acc  0.688 | domain-acc  0.797 | lr 0.01000 l 0.10000\n",
      "epoch  9/10 750 | mnist-acc  1.000 mnistm-acc  0.750 | domain-acc  0.781 | lr 0.01000 l 0.10000\n",
      "epoch  9/10 760 | mnist-acc  1.000 mnistm-acc  0.594 | domain-acc  0.875 | lr 0.01000 l 0.10000\n",
      "epoch  9/10 770 | mnist-acc  1.000 mnistm-acc  0.656 | domain-acc  0.875 | lr 0.01000 l 0.10000\n",
      "epoch  9/10 780 | mnist-acc  1.000 mnistm-acc  0.750 | domain-acc  0.828 | lr 0.01000 l 0.10000\n",
      "epoch  9/10 790 | mnist-acc  1.000 mnistm-acc  0.688 | domain-acc  0.844 | lr 0.01000 l 0.10000\n",
      "epoch  9/10 800 | mnist-acc  0.969 mnistm-acc  0.562 | domain-acc  0.875 | lr 0.01000 l 0.10000\n",
      "epoch  9/10 810 | mnist-acc  0.969 mnistm-acc  0.594 | domain-acc  0.750 | lr 0.01000 l 0.10000\n",
      "epoch  9/10 820 | mnist-acc  1.000 mnistm-acc  0.500 | domain-acc  0.844 | lr 0.01000 l 0.10000\n",
      "epoch  9/10 830 | mnist-acc  0.938 mnistm-acc  0.625 | domain-acc  0.828 | lr 0.01000 l 0.10000\n",
      "epoch  9/10 840 | mnist-acc  1.000 mnistm-acc  0.656 | domain-acc  0.859 | lr 0.01000 l 0.10000\n",
      "epoch  9/10 850 | mnist-acc  0.969 mnistm-acc  0.688 | domain-acc  0.875 | lr 0.01000 l 0.10000\n",
      "[Validation] mnist acc: 0.969 | mnistm acc: 0.637 | domain acc 0.842\n",
      "56112_train.csv is saved at /Users/yangzhihan/Desktop/projects/domain_transfer/dann/training_csvs/new_training_scheme.\n",
      "56112_valid.csv is saved at /Users/yangzhihan/Desktop/projects/domain_transfer/dann/training_csvs/new_training_scheme.\n",
      "56112_fe.pth is saved at /Users/yangzhihan/Desktop/projects/domain_transfer/dann/trained_models/new_training_scheme.\n",
      "56112_lc.pth is saved at /Users/yangzhihan/Desktop/projects/domain_transfer/dann/trained_models/new_training_scheme.\n"
     ]
    }
   ],
   "source": [
    "train('56112')"
   ]
  },
  {
   "cell_type": "markdown",
   "metadata": {},
   "source": [
    "## Inference on MNIST-M"
   ]
  },
  {
   "cell_type": "code",
   "execution_count": 38,
   "metadata": {
    "ExecuteTime": {
     "end_time": "2019-08-08T20:52:24.575331Z",
     "start_time": "2019-08-08T20:52:23.892749Z"
    }
   },
   "outputs": [],
   "source": [
    "def load_fe(save_path, save_name, device='cpu'):\n",
    "    model = FeatureExtractor().to(device)\n",
    "    model.load_state_dict(torch.load(os.path.join(save_path, save_name), map_location=device))\n",
    "    return model.double()"
   ]
  },
  {
   "cell_type": "code",
   "execution_count": 39,
   "metadata": {
    "ExecuteTime": {
     "end_time": "2019-08-08T20:52:24.673580Z",
     "start_time": "2019-08-08T20:52:24.580020Z"
    }
   },
   "outputs": [],
   "source": [
    "def load_lc(save_path, save_name, device='cpu'):\n",
    "    model = LabelClassifier().to(device)\n",
    "    model.load_state_dict(torch.load(os.path.join(save_path, save_name), map_location=device))\n",
    "    return model.double()"
   ]
  },
  {
   "cell_type": "code",
   "execution_count": 40,
   "metadata": {
    "ExecuteTime": {
     "end_time": "2019-08-08T20:52:24.899183Z",
     "start_time": "2019-08-08T20:52:24.715725Z"
    }
   },
   "outputs": [
    {
     "name": "stdout",
     "output_type": "stream",
     "text": [
      "========== Model Summary ==========\n",
      "* Input shape: (3, 28, 28) -> Conv2d -> Output shape:  (32, 26, 26)\n",
      "* Input shape: (32, 26, 26) -> MaxPool2d -> Output shape:  (32, 13, 13)\n",
      "* Input shape: (32, 13, 13) -> Conv2d -> Output shape:  (64, 11, 11)\n",
      "* Input shape: (64, 11, 11) -> MaxPool2d -> Output shape:  (64, 5, 5)\n",
      "* Input shape: (64, 5, 5) -> Conv2d -> Output shape:  (64, 3, 3)\n"
     ]
    }
   ],
   "source": [
    "fe_basic = load_fe(pth_save_path, f'{model_name}_fe.pth')"
   ]
  },
  {
   "cell_type": "code",
   "execution_count": 41,
   "metadata": {
    "ExecuteTime": {
     "end_time": "2019-08-08T20:52:25.364666Z",
     "start_time": "2019-08-08T20:52:25.289299Z"
    }
   },
   "outputs": [
    {
     "name": "stdout",
     "output_type": "stream",
     "text": [
      "========== Model Summary ==========\n",
      "* Input shape: 576 -> Linear -> Output shape: 64\n",
      "* Input shape: 64 -> Linear -> Output shape: 10\n"
     ]
    }
   ],
   "source": [
    "lc_basic = load_lc(pth_save_path, f'{model_name}_lc.pth')"
   ]
  },
  {
   "cell_type": "code",
   "execution_count": 42,
   "metadata": {
    "ExecuteTime": {
     "end_time": "2019-08-08T20:52:25.920446Z",
     "start_time": "2019-08-08T20:52:25.861151Z"
    }
   },
   "outputs": [],
   "source": [
    "def inference(fe, lc, data, labels):\n",
    "    \n",
    "    test_ds = TensorDataset(torch.from_numpy(data).double(), torch.from_numpy(labels).long())\n",
    "    test_dl = DataLoader(test_ds, batch_size=64, shuffle=False)\n",
    "    # random shuffle & sample => random sample\n",
    "    \n",
    "    # feed-forward\n",
    "    fe.eval(); lc.eval()\n",
    "    accs = []\n",
    "    for data, labels in test_dl: \n",
    "        feats = fe(data)\n",
    "        preds = lc(feats)\n",
    "        acc = accuracy(preds, labels).detach().item()  # compute metric\n",
    "        accs.append(acc)\n",
    "    \n",
    "    return np.mean(accs)"
   ]
  },
  {
   "cell_type": "code",
   "execution_count": 43,
   "metadata": {
    "ExecuteTime": {
     "end_time": "2019-08-08T20:52:31.033994Z",
     "start_time": "2019-08-08T20:52:26.261207Z"
    }
   },
   "outputs": [
    {
     "name": "stdout",
     "output_type": "stream",
     "text": [
      "Inference accuracy is 96.88% on MNIST test.\n"
     ]
    }
   ],
   "source": [
    "mnist_test_acc = inference(fe_basic, lc_basic, mnist_test, mnist_test_labels)\n",
    "print('Inference accuracy is {0:4.2f}% on MNIST test.'.format(mnist_test_acc * 100))"
   ]
  },
  {
   "cell_type": "code",
   "execution_count": 44,
   "metadata": {
    "ExecuteTime": {
     "end_time": "2019-08-08T20:52:35.383896Z",
     "start_time": "2019-08-08T20:52:31.038075Z"
    }
   },
   "outputs": [
    {
     "name": "stdout",
     "output_type": "stream",
     "text": [
      "Inference accuracy is 63.67% on MNIST-M test.\n"
     ]
    }
   ],
   "source": [
    "mnistm_test_acc = inference(fe_basic, lc_basic, mnistm_test, mnist_test_labels)\n",
    "print('Inference accuracy is {0:4.2f}% on MNIST-M test.'.format(mnistm_test_acc * 100))"
   ]
  },
  {
   "cell_type": "markdown",
   "metadata": {},
   "source": [
    "## Trend of `fw-loss`"
   ]
  },
  {
   "cell_type": "code",
   "execution_count": 45,
   "metadata": {
    "ExecuteTime": {
     "end_time": "2019-08-08T20:52:38.038684Z",
     "start_time": "2019-08-08T20:52:37.913825Z"
    }
   },
   "outputs": [],
   "source": [
    "training_csv = pd.read_csv(os.path.join(csv_save_path, f'{model_name}_train.csv'))"
   ]
  },
  {
   "cell_type": "code",
   "execution_count": 46,
   "metadata": {
    "ExecuteTime": {
     "end_time": "2019-08-08T20:52:38.440426Z",
     "start_time": "2019-08-08T20:52:38.348533Z"
    }
   },
   "outputs": [
    {
     "data": {
      "text/html": [
       "<div>\n",
       "<style scoped>\n",
       "    .dataframe tbody tr th:only-of-type {\n",
       "        vertical-align: middle;\n",
       "    }\n",
       "\n",
       "    .dataframe tbody tr th {\n",
       "        vertical-align: top;\n",
       "    }\n",
       "\n",
       "    .dataframe thead th {\n",
       "        text-align: right;\n",
       "    }\n",
       "</style>\n",
       "<table border=\"1\" class=\"dataframe\">\n",
       "  <thead>\n",
       "    <tr style=\"text-align: right;\">\n",
       "      <th></th>\n",
       "      <th>Unnamed: 0</th>\n",
       "      <th>step</th>\n",
       "      <th>mnist-acc</th>\n",
       "      <th>mnistm-acc</th>\n",
       "      <th>domain-acc</th>\n",
       "    </tr>\n",
       "  </thead>\n",
       "  <tbody>\n",
       "    <tr>\n",
       "      <th>0</th>\n",
       "      <td>0</td>\n",
       "      <td>0.0</td>\n",
       "      <td>0.12500</td>\n",
       "      <td>0.00000</td>\n",
       "      <td>0.484375</td>\n",
       "    </tr>\n",
       "    <tr>\n",
       "      <th>1</th>\n",
       "      <td>1</td>\n",
       "      <td>10.0</td>\n",
       "      <td>0.09375</td>\n",
       "      <td>0.18750</td>\n",
       "      <td>0.500000</td>\n",
       "    </tr>\n",
       "    <tr>\n",
       "      <th>2</th>\n",
       "      <td>2</td>\n",
       "      <td>20.0</td>\n",
       "      <td>0.06250</td>\n",
       "      <td>0.03125</td>\n",
       "      <td>0.500000</td>\n",
       "    </tr>\n",
       "    <tr>\n",
       "      <th>3</th>\n",
       "      <td>3</td>\n",
       "      <td>30.0</td>\n",
       "      <td>0.09375</td>\n",
       "      <td>0.12500</td>\n",
       "      <td>0.500000</td>\n",
       "    </tr>\n",
       "    <tr>\n",
       "      <th>4</th>\n",
       "      <td>4</td>\n",
       "      <td>40.0</td>\n",
       "      <td>0.09375</td>\n",
       "      <td>0.18750</td>\n",
       "      <td>0.656250</td>\n",
       "    </tr>\n",
       "  </tbody>\n",
       "</table>\n",
       "</div>"
      ],
      "text/plain": [
       "   Unnamed: 0  step  mnist-acc  mnistm-acc  domain-acc\n",
       "0           0   0.0    0.12500     0.00000    0.484375\n",
       "1           1  10.0    0.09375     0.18750    0.500000\n",
       "2           2  20.0    0.06250     0.03125    0.500000\n",
       "3           3  30.0    0.09375     0.12500    0.500000\n",
       "4           4  40.0    0.09375     0.18750    0.656250"
      ]
     },
     "execution_count": 46,
     "metadata": {},
     "output_type": "execute_result"
    }
   ],
   "source": [
    "training_csv.head()"
   ]
  },
  {
   "cell_type": "code",
   "execution_count": 47,
   "metadata": {
    "ExecuteTime": {
     "end_time": "2019-08-08T20:52:38.973342Z",
     "start_time": "2019-08-08T20:52:38.913663Z"
    }
   },
   "outputs": [],
   "source": [
    "def moving_mean(array, lookback=50):\n",
    "    means = []\n",
    "    for i in range(len(array) - lookback):\n",
    "        means.append(np.mean(array[i:i+lookback]))\n",
    "    return np.array(means)"
   ]
  },
  {
   "cell_type": "code",
   "execution_count": 48,
   "metadata": {
    "ExecuteTime": {
     "end_time": "2019-08-08T20:52:40.343821Z",
     "start_time": "2019-08-08T20:52:39.412324Z"
    }
   },
   "outputs": [
    {
     "data": {
      "image/png": "[encoded data removed]",
      "text/plain": [
       "<Figure size 1224x360 with 1 Axes>"
      ]
     },
     "metadata": {
      "needs_background": "light"
     },
     "output_type": "display_data"
    }
   ],
   "source": [
    "plt.figure(figsize=(17, 5))\n",
    "steps = np.arange(0, 8600, 10)\n",
    "plt.plot(steps[50:], moving_mean(training_csv['mnist-acc']), label='MNIST')\n",
    "plt.plot(steps[50:], moving_mean(training_csv['mnistm-acc']), label='MNIST-M')\n",
    "plt.plot(steps[50:], moving_mean(training_csv['domain-acc']), label='Domain')\n",
    "plt.legend()\n",
    "plt.show()"
   ]
  },
  {
   "cell_type": "code",
   "execution_count": null,
   "metadata": {},
   "outputs": [],
   "source": []
  }
 ],
 "metadata": {
  "kernelspec": {
   "display_name": "Python 3",
   "language": "python",
   "name": "python3"
  },
  "language_info": {
   "codemirror_mode": {
    "name": "ipython",
    "version": 3
   },
   "file_extension": ".py",
   "mimetype": "text/x-python",
   "name": "python",
   "nbconvert_exporter": "python",
   "pygments_lexer": "ipython3",
   "version": "3.6.8"
  },
  "toc": {
   "base_numbering": 1,
   "nav_menu": {},
   "number_sections": false,
   "sideBar": true,
   "skip_h1_title": false,
   "title_cell": "Table of Contents",
   "title_sidebar": "Contents",
   "toc_cell": false,
   "toc_position": {},
   "toc_section_display": true,
   "toc_window_display": false
  }
 },
 "nbformat": 4,
 "nbformat_minor": 2
}
