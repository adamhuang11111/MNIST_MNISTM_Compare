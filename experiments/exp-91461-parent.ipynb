{
 "cells": [
  {
   "cell_type": "markdown",
   "metadata": {},
   "source": [
    "# Experiment 3: a new training scheme"
   ]
  },
  {
   "cell_type": "markdown",
   "metadata": {},
   "source": [
    "## Settings"
   ]
  },
  {
   "cell_type": "code",
   "execution_count": 27,
   "metadata": {
    "ExecuteTime": {
     "end_time": "2019-08-07T02:22:13.957050Z",
     "start_time": "2019-08-07T02:22:13.896689Z"
    }
   },
   "outputs": [],
   "source": [
    "python_modules_path = '/Users/yangzhihan/code/python_modules/'\n",
    "notebook_name = 'new-training-scheme.ipynb'\n",
    "\n",
    "# settings\n",
    "csv_save_path = '/Users/yangzhihan/Desktop/dann/training_csvs/new_training_scheme'\n",
    "pth_save_path = '/Users/yangzhihan/Desktop/dann/trained_models/new_training_scheme'"
   ]
  },
  {
   "cell_type": "markdown",
   "metadata": {},
   "source": [
    "## Imports"
   ]
  },
  {
   "cell_type": "code",
   "execution_count": 28,
   "metadata": {
    "ExecuteTime": {
     "end_time": "2019-08-07T02:22:14.347173Z",
     "start_time": "2019-08-07T02:22:14.209491Z"
    }
   },
   "outputs": [],
   "source": [
    "%reload_ext autoreload\n",
    "%autoreload 2\n",
    "%matplotlib inline"
   ]
  },
  {
   "cell_type": "code",
   "execution_count": 29,
   "metadata": {
    "ExecuteTime": {
     "end_time": "2019-08-07T02:22:14.477727Z",
     "start_time": "2019-08-07T02:22:14.369258Z"
    }
   },
   "outputs": [
    {
     "name": "stdout",
     "output_type": "stream",
     "text": [
      "Message: /Users/yangzhihan/Desktop/dann/experiments/../model_defs added to sys.path\n",
      "Contains: ['exp1.py', 'exp3.py']\n",
      "Message: /Users/yangzhihan/Desktop/dann/experiments/../scripts added to sys.path\n",
      "Contains: ['create_mnistm.py', 'utils.py', 'default_path.py', 'load_data.py', 'flip_gradient.py']\n"
     ]
    }
   ],
   "source": [
    "import sys\n",
    "sys.path.insert(0, python_modules_path)\n",
    "from path_magic import path_magic\n",
    "\n",
    "import os\n",
    "path_magic.make_dir_importable_relative(current_fname=os.path.realpath(notebook_name), \n",
    "                                        nup=1,\n",
    "                                        target_dir_name='model_defs',\n",
    "                                        show=True,\n",
    "                                        show_with_suffix='py')\n",
    "path_magic.make_dir_importable_relative(current_fname=os.path.realpath(notebook_name), \n",
    "                                        nup=1,\n",
    "                                        target_dir_name='scripts',\n",
    "                                        show=True,\n",
    "                                        show_with_suffix='py')"
   ]
  },
  {
   "cell_type": "code",
   "execution_count": 30,
   "metadata": {
    "ExecuteTime": {
     "end_time": "2019-08-07T02:22:14.674210Z",
     "start_time": "2019-08-07T02:22:14.545929Z"
    }
   },
   "outputs": [],
   "source": [
    "import numpy as np\n",
    "import pandas as pd\n",
    "from matplotlib import pyplot as plt\n",
    "\n",
    "# standard imports for pytorch\n",
    "import torch\n",
    "from torch import nn, optim\n",
    "from torch.utils.data import TensorDataset, DataLoader\n",
    "import torch.nn.functional as F\n",
    "\n",
    "from exp3 import FeatureExtractor, LabelClassifier, Dis  # import model classes\n",
    "from load_data import load_data_org, edge_detect  # import functions for getting and preprocessing data\n",
    "from ndarray_info.ndarray_info import get_info"
   ]
  },
  {
   "cell_type": "markdown",
   "metadata": {},
   "source": [
    "## Define model"
   ]
  },
  {
   "cell_type": "code",
   "execution_count": 31,
   "metadata": {
    "ExecuteTime": {
     "end_time": "2019-08-07T02:22:15.069780Z",
     "start_time": "2019-08-07T02:22:14.969419Z"
    }
   },
   "outputs": [
    {
     "name": "stdout",
     "output_type": "stream",
     "text": [
      "========== Model Summary ==========\n",
      "* Input shape: (3, 28, 28) -> Conv2d -> Output shape:  (32, 26, 26)\n",
      "* Input shape: (32, 26, 26) -> MaxPool2d -> Output shape:  (32, 13, 13)\n",
      "* Input shape: (32, 13, 13) -> Conv2d -> Output shape:  (64, 11, 11)\n",
      "* Input shape: (64, 11, 11) -> MaxPool2d -> Output shape:  (64, 5, 5)\n",
      "* Input shape: (64, 5, 5) -> Conv2d -> Output shape:  (64, 3, 3)\n"
     ]
    }
   ],
   "source": [
    "feature_extractor = FeatureExtractor()"
   ]
  },
  {
   "cell_type": "code",
   "execution_count": 32,
   "metadata": {
    "ExecuteTime": {
     "end_time": "2019-08-07T02:22:15.349845Z",
     "start_time": "2019-08-07T02:22:15.247781Z"
    }
   },
   "outputs": [
    {
     "name": "stdout",
     "output_type": "stream",
     "text": [
      "========== Model Summary ==========\n",
      "* Input shape: 576 -> Linear -> Output shape: 64\n",
      "* Input shape: 64 -> Linear -> Output shape: 10\n"
     ]
    }
   ],
   "source": [
    "label_classifier = LabelClassifier()"
   ]
  },
  {
   "cell_type": "code",
   "execution_count": 33,
   "metadata": {
    "ExecuteTime": {
     "end_time": "2019-08-07T02:22:15.569998Z",
     "start_time": "2019-08-07T02:22:15.457776Z"
    }
   },
   "outputs": [],
   "source": [
    "def get_models(lr=0.01):\n",
    "    \"\"\"Return models and their corresponding optimizers.\"\"\"\n",
    "    \n",
    "    fe = FeatureExtractor().double()\n",
    "    fe_opt = optim.SGD(fe.parameters(), lr=lr, momentum=0.9)\n",
    "    \n",
    "    lc = LabelClassifier().double()\n",
    "    lc_opt = optim.SGD(lc.parameters(), lr=lr, momentum=0.9)\n",
    "    \n",
    "    dis = Dis().double()\n",
    "    dis_opt = optim.SGD(dis.parameters(), lr=lr, momentum=0.9)\n",
    "    \n",
    "    return (fe, fe_opt), (lc, lc_opt), (dis, dis_opt)"
   ]
  },
  {
   "cell_type": "markdown",
   "metadata": {},
   "source": [
    "\n",
    "## Load data"
   ]
  },
  {
   "cell_type": "code",
   "execution_count": 34,
   "metadata": {
    "ExecuteTime": {
     "end_time": "2019-08-07T02:22:16.117546Z",
     "start_time": "2019-08-07T02:22:16.019027Z"
    }
   },
   "outputs": [],
   "source": [
    "mnist_path = '../data/MNIST_data'\n",
    "mnistm_path = '../data/mnistm_data.pkl'"
   ]
  },
  {
   "cell_type": "code",
   "execution_count": 35,
   "metadata": {
    "ExecuteTime": {
     "end_time": "2019-08-07T02:22:23.804039Z",
     "start_time": "2019-08-07T02:22:16.519879Z"
    }
   },
   "outputs": [
    {
     "name": "stdout",
     "output_type": "stream",
     "text": [
      "WARNING:tensorflow:From /Users/yangzhihan/Desktop/dann/experiments/../scripts/load_data.py:28: read_data_sets (from tensorflow.contrib.learn.python.learn.datasets.mnist) is deprecated and will be removed in a future version.\n",
      "Instructions for updating:\n",
      "Please use alternatives such as official/mnist/dataset.py from tensorflow/models.\n",
      "WARNING:tensorflow:From /Users/yangzhihan/anaconda/envs/deeplearning_googlecloud/lib/python3.6/site-packages/tensorflow/contrib/learn/python/learn/datasets/mnist.py:260: maybe_download (from tensorflow.contrib.learn.python.learn.datasets.base) is deprecated and will be removed in a future version.\n",
      "Instructions for updating:\n",
      "Please write your own downloading logic.\n",
      "WARNING:tensorflow:From /Users/yangzhihan/anaconda/envs/deeplearning_googlecloud/lib/python3.6/site-packages/tensorflow/contrib/learn/python/learn/datasets/mnist.py:262: extract_images (from tensorflow.contrib.learn.python.learn.datasets.mnist) is deprecated and will be removed in a future version.\n",
      "Instructions for updating:\n",
      "Please use tf.data to implement this functionality.\n",
      "Extracting ../data/MNIST_data/train-images-idx3-ubyte.gz\n",
      "WARNING:tensorflow:From /Users/yangzhihan/anaconda/envs/deeplearning_googlecloud/lib/python3.6/site-packages/tensorflow/contrib/learn/python/learn/datasets/mnist.py:267: extract_labels (from tensorflow.contrib.learn.python.learn.datasets.mnist) is deprecated and will be removed in a future version.\n",
      "Instructions for updating:\n",
      "Please use tf.data to implement this functionality.\n",
      "Extracting ../data/MNIST_data/train-labels-idx1-ubyte.gz\n",
      "WARNING:tensorflow:From /Users/yangzhihan/anaconda/envs/deeplearning_googlecloud/lib/python3.6/site-packages/tensorflow/contrib/learn/python/learn/datasets/mnist.py:110: dense_to_one_hot (from tensorflow.contrib.learn.python.learn.datasets.mnist) is deprecated and will be removed in a future version.\n",
      "Instructions for updating:\n",
      "Please use tf.one_hot on tensors.\n",
      "Extracting ../data/MNIST_data/t10k-images-idx3-ubyte.gz\n",
      "Extracting ../data/MNIST_data/t10k-labels-idx1-ubyte.gz\n",
      "WARNING:tensorflow:From /Users/yangzhihan/anaconda/envs/deeplearning_googlecloud/lib/python3.6/site-packages/tensorflow/contrib/learn/python/learn/datasets/mnist.py:290: DataSet.__init__ (from tensorflow.contrib.learn.python.learn.datasets.mnist) is deprecated and will be removed in a future version.\n",
      "Instructions for updating:\n",
      "Please use alternatives such as official/mnist/dataset.py from tensorflow/models.\n"
     ]
    }
   ],
   "source": [
    "(mnist_train, mnist_train_labels), (mnist_test, mnist_test_labels), (mnistm_train, mnistm_test), (combined_test_imgs, combined_test_labels, combined_test_domain) = load_data_org(mnist_path, mnistm_path)"
   ]
  },
  {
   "cell_type": "code",
   "execution_count": 36,
   "metadata": {
    "ExecuteTime": {
     "end_time": "2019-08-07T02:22:23.933676Z",
     "start_time": "2019-08-07T02:22:23.806451Z"
    }
   },
   "outputs": [],
   "source": [
    "info = get_info(shape=True, dtype=True, mean=True, min=True, max=True)"
   ]
  },
  {
   "cell_type": "code",
   "execution_count": 37,
   "metadata": {
    "ExecuteTime": {
     "end_time": "2019-08-07T02:22:24.820882Z",
     "start_time": "2019-08-07T02:22:23.941229Z"
    }
   },
   "outputs": [
    {
     "name": "stdout",
     "output_type": "stream",
     "text": [
      "Array Summary:\n",
      "* Shape: (55000, 3, 28, 28)\n",
      "* dtype: float64\n",
      "* Mean: -0.12921006657207923\n",
      "* Max: 0.6947281977791117\n",
      "* Min: -0.328982357306559\n",
      "Array Summary:\n",
      "* Shape: (55000,)\n",
      "* dtype: int64\n",
      "* Mean: 4.452745454545455\n",
      "* Max: 9\n",
      "* Min: 0\n",
      "Array Summary:\n",
      "* Shape: (55000, 3, 28, 28)\n",
      "* dtype: float64\n",
      "* Mean: 0.1292100665720834\n",
      "* Max: 0.6947281977791117\n",
      "* Min: -0.328982357306559\n",
      "Array Summary:\n",
      "* Shape: (10000, 3, 28, 28)\n",
      "* dtype: float64\n",
      "* Mean: -0.1276862377223613\n",
      "* Max: 0.6947281977791117\n",
      "* Min: -0.328982357306559\n",
      "Array Summary:\n",
      "* Shape: (10000,)\n",
      "* dtype: int64\n",
      "* Mean: 4.4434\n",
      "* Max: 9\n",
      "* Min: 0\n",
      "Array Summary:\n",
      "* Shape: (10000, 3, 28, 28)\n",
      "* dtype: float64\n",
      "* Mean: 0.1308327517067431\n",
      "* Max: 0.6947281977791117\n",
      "* Min: -0.328982357306559\n",
      "Array Summary:\n",
      "* Shape: (1000, 3, 28, 28)\n",
      "* dtype: float64\n",
      "* Mean: -0.008705471249105723\n",
      "* Max: 0.6947281977791117\n",
      "* Min: -0.328982357306559\n",
      "Array Summary:\n",
      "* Shape: (1000,)\n",
      "* dtype: int64\n",
      "* Mean: 4.378\n",
      "* Max: 9\n",
      "* Min: 0\n",
      "Array Summary:\n",
      "* Shape: (1000,)\n",
      "* dtype: int64\n",
      "* Mean: 0.5\n",
      "* Max: 1\n",
      "* Min: 0\n"
     ]
    }
   ],
   "source": [
    "for array in [mnist_train, \n",
    "              mnist_train_labels, \n",
    "              mnistm_train,\n",
    "              mnist_test, \n",
    "              mnist_test_labels,\n",
    "              mnistm_test, \n",
    "              combined_test_imgs,\n",
    "              combined_test_labels, \n",
    "              combined_test_domain]:\n",
    "    info(array)"
   ]
  },
  {
   "cell_type": "markdown",
   "metadata": {},
   "source": [
    "## Define training loop function"
   ]
  },
  {
   "cell_type": "markdown",
   "metadata": {},
   "source": [
    "### Metrics"
   ]
  },
  {
   "cell_type": "code",
   "execution_count": 128,
   "metadata": {
    "ExecuteTime": {
     "end_time": "2019-08-06T21:58:04.582324Z",
     "start_time": "2019-08-06T21:58:04.416892Z"
    }
   },
   "outputs": [],
   "source": [
    "loss_func = F.cross_entropy"
   ]
  },
  {
   "cell_type": "code",
   "execution_count": 46,
   "metadata": {
    "ExecuteTime": {
     "end_time": "2019-08-07T02:23:45.388892Z",
     "start_time": "2019-08-07T02:23:43.832628Z"
    }
   },
   "outputs": [],
   "source": [
    "def accuracy(logits : torch.DoubleTensor, truth : torch.LongTensor):\n",
    "    preds = torch.argmax(logits, dim=1)\n",
    "    return (preds == truth).float().mean()"
   ]
  },
  {
   "cell_type": "markdown",
   "metadata": {},
   "source": [
    "### Class for accummulating metric values"
   ]
  },
  {
   "cell_type": "code",
   "execution_count": 24,
   "metadata": {
    "ExecuteTime": {
     "end_time": "2019-08-04T20:19:52.397545Z",
     "start_time": "2019-08-04T20:19:52.255042Z"
    }
   },
   "outputs": [],
   "source": [
    "class MetricAccumulator:\n",
    "    \n",
    "    def __init__(self, nmetric=1):\n",
    "        self.metrics = [[] for i in range(nmetric)]\n",
    "        \n",
    "    def accumulate(self, values):\n",
    "        for i, value in enumerate(values):\n",
    "            self.metrics[i].append(value)\n",
    "            \n",
    "    def output(self):\n",
    "        return self.metrics"
   ]
  },
  {
   "cell_type": "markdown",
   "metadata": {},
   "source": [
    "### Functions for saving metric values as csvs and models as pths"
   ]
  },
  {
   "cell_type": "code",
   "execution_count": 157,
   "metadata": {
    "ExecuteTime": {
     "end_time": "2019-08-07T01:50:28.538894Z",
     "start_time": "2019-08-07T01:50:28.294850Z"
    }
   },
   "outputs": [],
   "source": [
    "def save_metrics_as_csv(metrics, metric_names, save_path, save_name):\n",
    "    \"\"\"\n",
    "    Save a list of list of metric values (recorded during training) as one csv file.\n",
    "    \n",
    "    metrics: a list of list of metric values, e.g. [[1, 2, 3], [7.8, 5.6, 3.4], [50.0, 71.7, 99.9]]\n",
    "    metric_names: corresponding names of metrics, e.g. ['epoch', 'loss', 'acc']\n",
    "    param: save_path: e.g. \"/Users/username/project_name/training_csvs\"\n",
    "    param: save_name: e.g. \"vgg16_training.csv\"\n",
    "    \"\"\"\n",
    "    loss_df = pd.DataFrame(np.array(list(zip(*metrics))))\n",
    "    loss_df.columns = metric_names\n",
    "    loss_df.to_csv(os.path.join(save_path, save_name))\n",
    "    print('{} is saved at {}.'.format(save_name, save_path))"
   ]
  },
  {
   "cell_type": "code",
   "execution_count": 158,
   "metadata": {
    "ExecuteTime": {
     "end_time": "2019-08-07T01:50:28.802605Z",
     "start_time": "2019-08-07T01:50:28.541289Z"
    }
   },
   "outputs": [],
   "source": [
    "def save_model_as_pth(model, save_path, save_name):\n",
    "    \"\"\"\n",
    "    Save weights of a PyTorch model as a pth file.\n",
    "    \n",
    "    param: model: e.g. a convolutional neural network\n",
    "    param: save_path: e.g. \"/Users/username/project_name/trained_models\"\n",
    "    param: save_name: e.g. \"vgg16.pth\"\n",
    "    \"\"\"\n",
    "    torch.save(model.state_dict(), os.path.join(save_path, save_name))\n",
    "    print('{} is saved at {}.'.format(save_name, save_path))"
   ]
  },
  {
   "cell_type": "markdown",
   "metadata": {},
   "source": [
    "### Sampling function"
   ]
  },
  {
   "cell_type": "code",
   "execution_count": 135,
   "metadata": {
    "ExecuteTime": {
     "end_time": "2019-08-06T22:06:58.710815Z",
     "start_time": "2019-08-06T22:06:58.556062Z"
    }
   },
   "outputs": [],
   "source": [
    "def random_sample(data, labels, batch_size, return_numpy=False):\n",
    "    \"\"\"\n",
    "    Randomly sample a fixed number of data and labels.\n",
    "    \n",
    "    param: data: e.g. images\n",
    "    param: labels: e.g. image classes\n",
    "    param: batch_size\n",
    "    param: return_numpy: whether to return \n",
    "        (data_batch, label_batch), (data_tensor, label_tensor) or\n",
    "        (data_tensor, label_tensor)\n",
    "    \"\"\"\n",
    "    indices = np.random.randint(data.shape[0], size=batch_size)  # generate random indices\n",
    "    data_batch, label_batch = mnist_train[indices], mnist_train_labels[indices]\n",
    "    data_tensor, label_tensor = torch.from_numpy(data_batch).double(), torch.from_numpy(label_batch).long()\n",
    "    \n",
    "    if return_numpy:\n",
    "        return (data_batch, label_batch), (data_tensor, label_tensor)\n",
    "    else:\n",
    "        return (data_tensor, label_tensor)"
   ]
  },
  {
   "cell_type": "markdown",
   "metadata": {},
   "source": [
    "### Function for getting different data with the same label or different labels"
   ]
  },
  {
   "cell_type": "code",
   "execution_count": 140,
   "metadata": {
    "ExecuteTime": {
     "end_time": "2019-08-06T22:08:37.154739Z",
     "start_time": "2019-08-06T22:08:37.012128Z"
    }
   },
   "outputs": [],
   "source": [
    "def get_data_same_labels(label_batch, all_labels, all_data):\n",
    "    new_data = []\n",
    "    for label in label_batch:\n",
    "        indices_of_same_label = np.where(all_labels == label)[0]\n",
    "        index_of_same_label = np.random.choice(indices_of_same_label)\n",
    "        new_data.append(all_data[index_of_same_label])\n",
    "    new_data = np.array(new_data)\n",
    "    new_data = torch.from_numpy(new_data)\n",
    "    return new_data"
   ]
  },
  {
   "cell_type": "code",
   "execution_count": 141,
   "metadata": {
    "ExecuteTime": {
     "end_time": "2019-08-06T22:08:37.398948Z",
     "start_time": "2019-08-06T22:08:37.245129Z"
    }
   },
   "outputs": [],
   "source": [
    "def get_data_different_labels(label_batch, all_labels, all_data):\n",
    "    new_data = []\n",
    "    for label in label_batch:\n",
    "        indices_of_same_label = np.where(all_labels != label)[0]\n",
    "        index_of_same_label = np.random.choice(indices_of_same_label)\n",
    "        new_data.append(all_data[index_of_same_label])\n",
    "    new_data = np.array(new_data)\n",
    "    new_data = torch.from_numpy(new_data)\n",
    "    return new_data"
   ]
  },
  {
   "cell_type": "markdown",
   "metadata": {},
   "source": [
    "### Training loop"
   ]
  },
  {
   "cell_type": "code",
   "execution_count": 154,
   "metadata": {
    "ExecuteTime": {
     "end_time": "2019-08-07T01:42:09.344193Z",
     "start_time": "2019-08-07T01:42:09.094606Z"
    }
   },
   "outputs": [],
   "source": [
    "def train(mode='basic'):\n",
    "    \n",
    "    if mode == 'basic':\n",
    "    \n",
    "        nepoch = 3\n",
    "        steps_per_epoch = 860\n",
    "        bs = 64\n",
    "        \n",
    "        (fe, fe_opt), (lc, lc_opt), (_, _) = get_models(lr=0.01)\n",
    "        accum_train = MetricAccumulator(nmetric=5)  # step, loss, acc, fw-loss-wc, fw-loss-ac \n",
    "        accum_valid = MetricAccumulator(nmetric=3)\n",
    "\n",
    "        print('========== Training ========')\n",
    "        \n",
    "        for i in range(nepoch):\n",
    "        \n",
    "            fe.train(); lc.train()  # training mode\n",
    "            for j in range(steps_per_epoch):\n",
    "\n",
    "                (data_batch, label_batch), (data_tensor, label_tensor) = random_sample(mnist_train, mnist_train_labels, 64, return_numpy=True)  # get data\n",
    "                feats = fe(data_tensor); preds = lc(feats)  # feed-forward\n",
    "                loss = loss_func(preds, label_tensor)  # compute metric: loss\n",
    "                loss.backward()  # compute gradients\n",
    "                \n",
    "                # gradient descent and clear gradients\n",
    "                fe_opt.step(); fe_opt.zero_grad()  \n",
    "                lc_opt.step(); lc_opt.zero_grad()\n",
    "                \n",
    "                # evaluate metrics\n",
    "                if j % 10 == 0: \n",
    "                    \n",
    "                    # compute metric: acc\n",
    "                    acc = accuracy(preds, label_tensor)\n",
    "                    \n",
    "                    ##### for mnist #####\n",
    "                    \n",
    "                    # debug: \n",
    "                    # - get_data_different_labels\n",
    "                    # - mnistm_train\n",
    "                    # - featurewise_loss_ac\n",
    "                    \n",
    "                    # compute metric: featurewise-loss (within class) for mnist\n",
    "                    new_data = get_data_same_labels(label_batch, mnist_train_labels, mnist_train)\n",
    "                    feats_new = fe(new_data)\n",
    "                    featurewise_loss_wc = ((feats_new - feats)**2).mean()\n",
    "                    \n",
    "                    # compute metric: featurewise-loss (among classes) for mnist\n",
    "                    new_data = get_data_different_labels(label_batch, mnist_train_labels, mnist_train)\n",
    "                    feats_new = fe(new_data)\n",
    "                    featurewise_loss_ac = ((feats_new - feats)**2).mean()\n",
    "                    \n",
    "                    # accumulate metric values\n",
    "                    accum_train.accumulate([i * steps_per_epoch + j, \n",
    "                                            loss.detach().item(), \n",
    "                                            acc.detach().item(),\n",
    "                                            featurewise_loss_wc.detach().item(),\n",
    "                                            featurewise_loss_ac.detach().item()])\n",
    "                    \n",
    "                    print('epoch {0:2}/10 {1:3} | acc: {2:5.3f} | MNIST fw-loss-wc {3:6.3f} fw-loss-ac {4:6.3f}'.format(i, j, acc.item(), featurewise_loss_wc.item(), featurewise_loss_ac.item()))\n",
    "                    \n",
    "            ##########\n",
    "                    \n",
    "            fe.eval(); lc.eval()  # validation mode\n",
    "                \n",
    "            data_entire, label_entire = torch.from_numpy(mnist_test).double(), torch.from_numpy(mnist_test_labels).long()\n",
    "\n",
    "            # feed-forward\n",
    "            feats = fe(data_entire)\n",
    "            preds = lc(feats)\n",
    "\n",
    "            # compute metrics\n",
    "            loss = loss_func(preds, label_entire)\n",
    "            acc = accuracy(preds, label_entire)\n",
    "\n",
    "            # accumulate metric values\n",
    "            accum_valid.accumulate([(i + 1) * steps_per_epoch, \n",
    "                                    loss.detach().item(), \n",
    "                                    acc.detach().item()])\n",
    "\n",
    "            print('[Validation] Label loss: {0:3.3f} | Accuracy: {1:5.3f}'.format(loss.item(), acc.item()))\n",
    "                   \n",
    "            ##########\n",
    "\n",
    "        save_metrics_as_csv(accum_train.output(), ['step', 'loss', 'acc', 'fw_loss_wc', 'fw_loss_ac'], csv_save_path, f'{mode}_train.csv')\n",
    "        save_metrics_as_csv(accum_valid.output(), ['step', 'loss', 'acc'], csv_save_path, f'{mode}_valid.csv')\n",
    " \n",
    "        save_model_as_pth(fe, pth_save_path, f'{mode}_fe.pth')\n",
    "        save_model_as_pth(lc, pth_save_path, f'{mode}_lc.pth')"
   ]
  },
  {
   "cell_type": "code",
   "execution_count": 155,
   "metadata": {
    "ExecuteTime": {
     "end_time": "2019-08-07T01:48:26.831518Z",
     "start_time": "2019-08-07T01:42:10.824723Z"
    }
   },
   "outputs": [
    {
     "name": "stdout",
     "output_type": "stream",
     "text": [
      "========== Model Summary ==========\n",
      "* Input shape: (3, 28, 28) -> Conv2d -> Output shape:  (32, 26, 26)\n",
      "* Input shape: (32, 26, 26) -> MaxPool2d -> Output shape:  (32, 13, 13)\n",
      "* Input shape: (32, 13, 13) -> Conv2d -> Output shape:  (64, 11, 11)\n",
      "* Input shape: (64, 11, 11) -> MaxPool2d -> Output shape:  (64, 5, 5)\n",
      "* Input shape: (64, 5, 5) -> Conv2d -> Output shape:  (64, 3, 3)\n",
      "========== Model Summary ==========\n",
      "* Input shape: 576 -> Linear -> Output shape: 64\n",
      "* Input shape: 64 -> Linear -> Output shape: 10\n",
      "========== Model Summary ==========\n",
      "* Input shape: 576 -> Linear -> Output shape: 64\n",
      "* Input shape: 64 -> Linear -> Output shape: 2\n",
      "========== Training ========\n",
      "epoch  0/10   0 | acc: 0.156 | MNIST fw-loss-wc  0.001 fw-loss-ac  0.002\n",
      "epoch  0/10  10 | acc: 0.062 | MNIST fw-loss-wc  0.001 fw-loss-ac  0.002\n",
      "epoch  0/10  20 | acc: 0.109 | MNIST fw-loss-wc  0.001 fw-loss-ac  0.002\n",
      "epoch  0/10  30 | acc: 0.234 | MNIST fw-loss-wc  0.002 fw-loss-ac  0.003\n",
      "epoch  0/10  40 | acc: 0.297 | MNIST fw-loss-wc  0.002 fw-loss-ac  0.004\n",
      "epoch  0/10  50 | acc: 0.547 | MNIST fw-loss-wc  0.004 fw-loss-ac  0.007\n",
      "epoch  0/10  60 | acc: 0.422 | MNIST fw-loss-wc  0.008 fw-loss-ac  0.014\n",
      "epoch  0/10  70 | acc: 0.422 | MNIST fw-loss-wc  0.020 fw-loss-ac  0.040\n",
      "epoch  0/10  80 | acc: 0.562 | MNIST fw-loss-wc  0.096 fw-loss-ac  0.146\n",
      "epoch  0/10  90 | acc: 0.547 | MNIST fw-loss-wc  0.384 fw-loss-ac  0.719\n",
      "epoch  0/10 100 | acc: 0.656 | MNIST fw-loss-wc  0.818 fw-loss-ac  1.386\n",
      "epoch  0/10 110 | acc: 0.734 | MNIST fw-loss-wc  0.657 fw-loss-ac  1.171\n",
      "epoch  0/10 120 | acc: 0.750 | MNIST fw-loss-wc  0.852 fw-loss-ac  1.529\n",
      "epoch  0/10 130 | acc: 0.859 | MNIST fw-loss-wc  0.849 fw-loss-ac  1.699\n",
      "epoch  0/10 140 | acc: 0.797 | MNIST fw-loss-wc  0.662 fw-loss-ac  1.424\n",
      "epoch  0/10 150 | acc: 0.797 | MNIST fw-loss-wc  0.714 fw-loss-ac  1.365\n",
      "epoch  0/10 160 | acc: 0.812 | MNIST fw-loss-wc  0.844 fw-loss-ac  1.512\n",
      "epoch  0/10 170 | acc: 0.859 | MNIST fw-loss-wc  0.732 fw-loss-ac  1.481\n",
      "epoch  0/10 180 | acc: 0.875 | MNIST fw-loss-wc  0.930 fw-loss-ac  1.645\n",
      "epoch  0/10 190 | acc: 0.812 | MNIST fw-loss-wc  0.960 fw-loss-ac  1.789\n",
      "epoch  0/10 200 | acc: 0.828 | MNIST fw-loss-wc  0.815 fw-loss-ac  1.441\n",
      "epoch  0/10 210 | acc: 0.875 | MNIST fw-loss-wc  0.805 fw-loss-ac  1.550\n",
      "epoch  0/10 220 | acc: 0.844 | MNIST fw-loss-wc  0.892 fw-loss-ac  1.563\n",
      "epoch  0/10 230 | acc: 0.906 | MNIST fw-loss-wc  0.931 fw-loss-ac  1.816\n",
      "epoch  0/10 240 | acc: 0.922 | MNIST fw-loss-wc  0.984 fw-loss-ac  1.935\n",
      "epoch  0/10 250 | acc: 0.875 | MNIST fw-loss-wc  0.961 fw-loss-ac  1.780\n",
      "epoch  0/10 260 | acc: 0.875 | MNIST fw-loss-wc  1.043 fw-loss-ac  1.990\n",
      "epoch  0/10 270 | acc: 0.906 | MNIST fw-loss-wc  1.076 fw-loss-ac  1.719\n",
      "epoch  0/10 280 | acc: 0.922 | MNIST fw-loss-wc  0.891 fw-loss-ac  1.666\n",
      "epoch  0/10 290 | acc: 0.984 | MNIST fw-loss-wc  0.994 fw-loss-ac  1.923\n",
      "epoch  0/10 300 | acc: 0.875 | MNIST fw-loss-wc  0.849 fw-loss-ac  1.596\n",
      "epoch  0/10 310 | acc: 0.938 | MNIST fw-loss-wc  0.857 fw-loss-ac  1.565\n",
      "epoch  0/10 320 | acc: 0.875 | MNIST fw-loss-wc  0.985 fw-loss-ac  1.732\n",
      "epoch  0/10 330 | acc: 0.969 | MNIST fw-loss-wc  0.851 fw-loss-ac  1.873\n",
      "epoch  0/10 340 | acc: 0.922 | MNIST fw-loss-wc  1.012 fw-loss-ac  1.923\n",
      "epoch  0/10 350 | acc: 0.953 | MNIST fw-loss-wc  1.053 fw-loss-ac  1.863\n",
      "epoch  0/10 360 | acc: 0.953 | MNIST fw-loss-wc  0.989 fw-loss-ac  1.774\n",
      "epoch  0/10 370 | acc: 0.906 | MNIST fw-loss-wc  0.929 fw-loss-ac  1.768\n",
      "epoch  0/10 380 | acc: 0.938 | MNIST fw-loss-wc  1.015 fw-loss-ac  2.006\n",
      "epoch  0/10 390 | acc: 0.984 | MNIST fw-loss-wc  0.912 fw-loss-ac  1.888\n",
      "epoch  0/10 400 | acc: 0.984 | MNIST fw-loss-wc  0.857 fw-loss-ac  1.761\n",
      "epoch  0/10 410 | acc: 0.906 | MNIST fw-loss-wc  0.805 fw-loss-ac  1.621\n",
      "epoch  0/10 420 | acc: 0.938 | MNIST fw-loss-wc  0.787 fw-loss-ac  1.551\n",
      "epoch  0/10 430 | acc: 0.938 | MNIST fw-loss-wc  1.002 fw-loss-ac  1.816\n",
      "epoch  0/10 440 | acc: 0.922 | MNIST fw-loss-wc  0.919 fw-loss-ac  1.813\n",
      "epoch  0/10 450 | acc: 0.969 | MNIST fw-loss-wc  0.898 fw-loss-ac  1.715\n",
      "epoch  0/10 460 | acc: 1.000 | MNIST fw-loss-wc  0.938 fw-loss-ac  1.817\n",
      "epoch  0/10 470 | acc: 0.984 | MNIST fw-loss-wc  1.031 fw-loss-ac  1.891\n",
      "epoch  0/10 480 | acc: 0.984 | MNIST fw-loss-wc  0.903 fw-loss-ac  1.895\n",
      "epoch  0/10 490 | acc: 0.938 | MNIST fw-loss-wc  1.209 fw-loss-ac  2.139\n",
      "epoch  0/10 500 | acc: 0.953 | MNIST fw-loss-wc  1.029 fw-loss-ac  1.731\n",
      "epoch  0/10 510 | acc: 0.938 | MNIST fw-loss-wc  0.880 fw-loss-ac  1.754\n",
      "epoch  0/10 520 | acc: 0.953 | MNIST fw-loss-wc  0.843 fw-loss-ac  1.806\n",
      "epoch  0/10 530 | acc: 0.938 | MNIST fw-loss-wc  1.062 fw-loss-ac  2.074\n",
      "epoch  0/10 540 | acc: 0.984 | MNIST fw-loss-wc  1.020 fw-loss-ac  1.780\n",
      "epoch  0/10 550 | acc: 0.906 | MNIST fw-loss-wc  1.009 fw-loss-ac  2.021\n",
      "epoch  0/10 560 | acc: 0.953 | MNIST fw-loss-wc  0.939 fw-loss-ac  1.790\n",
      "epoch  0/10 570 | acc: 0.969 | MNIST fw-loss-wc  0.953 fw-loss-ac  2.035\n",
      "epoch  0/10 580 | acc: 0.984 | MNIST fw-loss-wc  1.009 fw-loss-ac  2.065\n",
      "epoch  0/10 590 | acc: 0.984 | MNIST fw-loss-wc  0.936 fw-loss-ac  2.125\n",
      "epoch  0/10 600 | acc: 0.984 | MNIST fw-loss-wc  1.092 fw-loss-ac  1.997\n",
      "epoch  0/10 610 | acc: 0.953 | MNIST fw-loss-wc  1.170 fw-loss-ac  2.145\n",
      "epoch  0/10 620 | acc: 0.938 | MNIST fw-loss-wc  1.128 fw-loss-ac  1.964\n",
      "epoch  0/10 630 | acc: 0.938 | MNIST fw-loss-wc  1.039 fw-loss-ac  1.944\n",
      "epoch  0/10 640 | acc: 0.906 | MNIST fw-loss-wc  0.997 fw-loss-ac  1.951\n",
      "epoch  0/10 650 | acc: 0.953 | MNIST fw-loss-wc  0.914 fw-loss-ac  1.833\n",
      "epoch  0/10 660 | acc: 0.969 | MNIST fw-loss-wc  0.874 fw-loss-ac  1.738\n",
      "epoch  0/10 670 | acc: 0.953 | MNIST fw-loss-wc  0.958 fw-loss-ac  1.715\n",
      "epoch  0/10 680 | acc: 0.922 | MNIST fw-loss-wc  0.970 fw-loss-ac  2.055\n",
      "epoch  0/10 690 | acc: 0.953 | MNIST fw-loss-wc  1.148 fw-loss-ac  1.991\n",
      "epoch  0/10 700 | acc: 0.969 | MNIST fw-loss-wc  0.944 fw-loss-ac  1.922\n",
      "epoch  0/10 710 | acc: 0.969 | MNIST fw-loss-wc  0.990 fw-loss-ac  1.934\n",
      "epoch  0/10 720 | acc: 0.953 | MNIST fw-loss-wc  0.995 fw-loss-ac  1.840\n",
      "epoch  0/10 730 | acc: 0.984 | MNIST fw-loss-wc  1.014 fw-loss-ac  1.845\n",
      "epoch  0/10 740 | acc: 0.969 | MNIST fw-loss-wc  0.915 fw-loss-ac  1.797\n",
      "epoch  0/10 750 | acc: 0.984 | MNIST fw-loss-wc  0.939 fw-loss-ac  1.892\n",
      "epoch  0/10 760 | acc: 0.922 | MNIST fw-loss-wc  1.073 fw-loss-ac  1.877\n",
      "epoch  0/10 770 | acc: 0.938 | MNIST fw-loss-wc  1.046 fw-loss-ac  1.779\n",
      "epoch  0/10 780 | acc: 1.000 | MNIST fw-loss-wc  1.018 fw-loss-ac  1.866\n",
      "epoch  0/10 790 | acc: 0.953 | MNIST fw-loss-wc  0.856 fw-loss-ac  1.855\n",
      "epoch  0/10 800 | acc: 0.938 | MNIST fw-loss-wc  1.047 fw-loss-ac  2.118\n",
      "epoch  0/10 810 | acc: 0.938 | MNIST fw-loss-wc  1.134 fw-loss-ac  1.972\n",
      "epoch  0/10 820 | acc: 0.891 | MNIST fw-loss-wc  1.003 fw-loss-ac  1.751\n",
      "epoch  0/10 830 | acc: 1.000 | MNIST fw-loss-wc  0.879 fw-loss-ac  1.748\n",
      "epoch  0/10 840 | acc: 0.984 | MNIST fw-loss-wc  0.949 fw-loss-ac  2.020\n",
      "epoch  0/10 850 | acc: 0.953 | MNIST fw-loss-wc  1.070 fw-loss-ac  2.098\n",
      "[Validation] Label loss: 0.116 | Accuracy: 0.964\n",
      "epoch  1/10   0 | acc: 0.969 | MNIST fw-loss-wc  1.127 fw-loss-ac  2.093\n",
      "epoch  1/10  10 | acc: 0.969 | MNIST fw-loss-wc  1.010 fw-loss-ac  2.176\n",
      "epoch  1/10  20 | acc: 0.953 | MNIST fw-loss-wc  1.226 fw-loss-ac  2.157\n",
      "epoch  1/10  30 | acc: 0.969 | MNIST fw-loss-wc  1.113 fw-loss-ac  2.172\n",
      "epoch  1/10  40 | acc: 0.953 | MNIST fw-loss-wc  1.004 fw-loss-ac  2.006\n",
      "epoch  1/10  50 | acc: 1.000 | MNIST fw-loss-wc  0.904 fw-loss-ac  1.806\n",
      "epoch  1/10  60 | acc: 0.922 | MNIST fw-loss-wc  1.118 fw-loss-ac  2.169\n",
      "epoch  1/10  70 | acc: 0.969 | MNIST fw-loss-wc  1.221 fw-loss-ac  2.272\n",
      "epoch  1/10  80 | acc: 0.922 | MNIST fw-loss-wc  1.186 fw-loss-ac  2.339\n",
      "epoch  1/10  90 | acc: 0.984 | MNIST fw-loss-wc  1.196 fw-loss-ac  2.335\n",
      "epoch  1/10 100 | acc: 0.953 | MNIST fw-loss-wc  1.085 fw-loss-ac  2.042\n",
      "epoch  1/10 110 | acc: 0.969 | MNIST fw-loss-wc  1.153 fw-loss-ac  2.102\n",
      "epoch  1/10 120 | acc: 0.984 | MNIST fw-loss-wc  1.081 fw-loss-ac  1.940\n",
      "epoch  1/10 130 | acc: 0.984 | MNIST fw-loss-wc  0.995 fw-loss-ac  1.902\n",
      "epoch  1/10 140 | acc: 0.984 | MNIST fw-loss-wc  1.076 fw-loss-ac  1.911\n",
      "epoch  1/10 150 | acc: 0.969 | MNIST fw-loss-wc  1.143 fw-loss-ac  2.384\n",
      "epoch  1/10 160 | acc: 0.953 | MNIST fw-loss-wc  1.208 fw-loss-ac  2.210\n"
     ]
    },
    {
     "name": "stdout",
     "output_type": "stream",
     "text": [
      "epoch  1/10 170 | acc: 0.969 | MNIST fw-loss-wc  1.153 fw-loss-ac  2.162\n",
      "epoch  1/10 180 | acc: 0.969 | MNIST fw-loss-wc  1.247 fw-loss-ac  2.148\n",
      "epoch  1/10 190 | acc: 1.000 | MNIST fw-loss-wc  1.151 fw-loss-ac  1.921\n",
      "epoch  1/10 200 | acc: 0.969 | MNIST fw-loss-wc  0.992 fw-loss-ac  1.816\n",
      "epoch  1/10 210 | acc: 0.984 | MNIST fw-loss-wc  1.201 fw-loss-ac  2.114\n",
      "epoch  1/10 220 | acc: 0.984 | MNIST fw-loss-wc  1.123 fw-loss-ac  2.162\n",
      "epoch  1/10 230 | acc: 0.984 | MNIST fw-loss-wc  1.147 fw-loss-ac  2.075\n",
      "epoch  1/10 240 | acc: 0.953 | MNIST fw-loss-wc  1.076 fw-loss-ac  2.091\n",
      "epoch  1/10 250 | acc: 0.984 | MNIST fw-loss-wc  1.202 fw-loss-ac  2.261\n",
      "epoch  1/10 260 | acc: 0.938 | MNIST fw-loss-wc  1.148 fw-loss-ac  2.249\n",
      "epoch  1/10 270 | acc: 0.953 | MNIST fw-loss-wc  1.118 fw-loss-ac  1.883\n",
      "epoch  1/10 280 | acc: 0.984 | MNIST fw-loss-wc  0.970 fw-loss-ac  1.938\n",
      "epoch  1/10 290 | acc: 0.984 | MNIST fw-loss-wc  1.135 fw-loss-ac  1.918\n",
      "epoch  1/10 300 | acc: 0.953 | MNIST fw-loss-wc  1.044 fw-loss-ac  1.898\n",
      "epoch  1/10 310 | acc: 0.969 | MNIST fw-loss-wc  1.000 fw-loss-ac  1.960\n",
      "epoch  1/10 320 | acc: 0.984 | MNIST fw-loss-wc  0.964 fw-loss-ac  1.976\n",
      "epoch  1/10 330 | acc: 0.969 | MNIST fw-loss-wc  1.129 fw-loss-ac  2.055\n",
      "epoch  1/10 340 | acc: 0.969 | MNIST fw-loss-wc  1.125 fw-loss-ac  1.943\n",
      "epoch  1/10 350 | acc: 0.984 | MNIST fw-loss-wc  0.934 fw-loss-ac  1.814\n",
      "epoch  1/10 360 | acc: 1.000 | MNIST fw-loss-wc  1.033 fw-loss-ac  1.861\n",
      "epoch  1/10 370 | acc: 1.000 | MNIST fw-loss-wc  0.976 fw-loss-ac  2.069\n",
      "epoch  1/10 380 | acc: 0.953 | MNIST fw-loss-wc  1.157 fw-loss-ac  2.240\n",
      "epoch  1/10 390 | acc: 0.938 | MNIST fw-loss-wc  1.346 fw-loss-ac  2.289\n",
      "epoch  1/10 400 | acc: 0.953 | MNIST fw-loss-wc  1.280 fw-loss-ac  2.365\n",
      "epoch  1/10 410 | acc: 1.000 | MNIST fw-loss-wc  1.310 fw-loss-ac  2.364\n",
      "epoch  1/10 420 | acc: 1.000 | MNIST fw-loss-wc  1.395 fw-loss-ac  2.542\n",
      "epoch  1/10 430 | acc: 0.984 | MNIST fw-loss-wc  1.301 fw-loss-ac  2.405\n",
      "epoch  1/10 440 | acc: 0.969 | MNIST fw-loss-wc  1.259 fw-loss-ac  2.631\n",
      "epoch  1/10 450 | acc: 0.984 | MNIST fw-loss-wc  1.207 fw-loss-ac  2.166\n",
      "epoch  1/10 460 | acc: 0.984 | MNIST fw-loss-wc  1.172 fw-loss-ac  2.177\n",
      "epoch  1/10 470 | acc: 0.969 | MNIST fw-loss-wc  1.123 fw-loss-ac  2.261\n",
      "epoch  1/10 480 | acc: 1.000 | MNIST fw-loss-wc  1.260 fw-loss-ac  2.123\n",
      "epoch  1/10 490 | acc: 0.953 | MNIST fw-loss-wc  1.068 fw-loss-ac  2.217\n",
      "epoch  1/10 500 | acc: 0.984 | MNIST fw-loss-wc  1.168 fw-loss-ac  2.426\n",
      "epoch  1/10 510 | acc: 0.969 | MNIST fw-loss-wc  1.265 fw-loss-ac  2.136\n",
      "epoch  1/10 520 | acc: 0.984 | MNIST fw-loss-wc  1.216 fw-loss-ac  2.148\n",
      "epoch  1/10 530 | acc: 0.984 | MNIST fw-loss-wc  1.110 fw-loss-ac  2.291\n",
      "epoch  1/10 540 | acc: 0.969 | MNIST fw-loss-wc  1.047 fw-loss-ac  2.097\n",
      "epoch  1/10 550 | acc: 1.000 | MNIST fw-loss-wc  1.171 fw-loss-ac  2.138\n",
      "epoch  1/10 560 | acc: 0.984 | MNIST fw-loss-wc  1.123 fw-loss-ac  2.086\n",
      "epoch  1/10 570 | acc: 0.984 | MNIST fw-loss-wc  1.190 fw-loss-ac  2.048\n",
      "epoch  1/10 580 | acc: 0.984 | MNIST fw-loss-wc  1.181 fw-loss-ac  2.095\n",
      "epoch  1/10 590 | acc: 0.984 | MNIST fw-loss-wc  1.172 fw-loss-ac  2.057\n",
      "epoch  1/10 600 | acc: 0.984 | MNIST fw-loss-wc  1.250 fw-loss-ac  1.941\n",
      "epoch  1/10 610 | acc: 0.969 | MNIST fw-loss-wc  1.068 fw-loss-ac  2.150\n",
      "epoch  1/10 620 | acc: 0.984 | MNIST fw-loss-wc  1.280 fw-loss-ac  2.079\n",
      "epoch  1/10 630 | acc: 0.938 | MNIST fw-loss-wc  1.201 fw-loss-ac  2.227\n",
      "epoch  1/10 640 | acc: 0.984 | MNIST fw-loss-wc  1.125 fw-loss-ac  2.246\n",
      "epoch  1/10 650 | acc: 1.000 | MNIST fw-loss-wc  1.286 fw-loss-ac  2.287\n",
      "epoch  1/10 660 | acc: 0.984 | MNIST fw-loss-wc  1.367 fw-loss-ac  2.434\n",
      "epoch  1/10 670 | acc: 0.969 | MNIST fw-loss-wc  1.373 fw-loss-ac  2.510\n",
      "epoch  1/10 680 | acc: 1.000 | MNIST fw-loss-wc  1.097 fw-loss-ac  2.488\n",
      "epoch  1/10 690 | acc: 1.000 | MNIST fw-loss-wc  1.233 fw-loss-ac  2.406\n",
      "epoch  1/10 700 | acc: 0.953 | MNIST fw-loss-wc  1.287 fw-loss-ac  2.436\n",
      "epoch  1/10 710 | acc: 0.984 | MNIST fw-loss-wc  1.330 fw-loss-ac  2.353\n",
      "epoch  1/10 720 | acc: 0.984 | MNIST fw-loss-wc  1.376 fw-loss-ac  2.299\n",
      "epoch  1/10 730 | acc: 0.984 | MNIST fw-loss-wc  1.173 fw-loss-ac  2.222\n",
      "epoch  1/10 740 | acc: 0.969 | MNIST fw-loss-wc  1.246 fw-loss-ac  2.373\n",
      "epoch  1/10 750 | acc: 0.953 | MNIST fw-loss-wc  1.231 fw-loss-ac  2.228\n",
      "epoch  1/10 760 | acc: 0.984 | MNIST fw-loss-wc  1.088 fw-loss-ac  2.253\n",
      "epoch  1/10 770 | acc: 0.984 | MNIST fw-loss-wc  1.188 fw-loss-ac  2.277\n",
      "epoch  1/10 780 | acc: 0.984 | MNIST fw-loss-wc  1.006 fw-loss-ac  2.256\n",
      "epoch  1/10 790 | acc: 0.969 | MNIST fw-loss-wc  1.136 fw-loss-ac  2.212\n",
      "epoch  1/10 800 | acc: 0.969 | MNIST fw-loss-wc  1.131 fw-loss-ac  2.164\n",
      "epoch  1/10 810 | acc: 0.969 | MNIST fw-loss-wc  1.154 fw-loss-ac  2.166\n",
      "epoch  1/10 820 | acc: 0.984 | MNIST fw-loss-wc  1.255 fw-loss-ac  2.292\n",
      "epoch  1/10 830 | acc: 1.000 | MNIST fw-loss-wc  1.129 fw-loss-ac  2.149\n",
      "epoch  1/10 840 | acc: 0.969 | MNIST fw-loss-wc  1.022 fw-loss-ac  2.060\n",
      "epoch  1/10 850 | acc: 1.000 | MNIST fw-loss-wc  1.125 fw-loss-ac  2.180\n",
      "[Validation] Label loss: 0.063 | Accuracy: 0.979\n",
      "epoch  2/10   0 | acc: 0.984 | MNIST fw-loss-wc  1.191 fw-loss-ac  2.206\n",
      "epoch  2/10  10 | acc: 0.984 | MNIST fw-loss-wc  1.201 fw-loss-ac  2.010\n",
      "epoch  2/10  20 | acc: 1.000 | MNIST fw-loss-wc  1.063 fw-loss-ac  2.051\n",
      "epoch  2/10  30 | acc: 0.984 | MNIST fw-loss-wc  1.236 fw-loss-ac  2.179\n",
      "epoch  2/10  40 | acc: 0.969 | MNIST fw-loss-wc  1.153 fw-loss-ac  2.452\n",
      "epoch  2/10  50 | acc: 0.984 | MNIST fw-loss-wc  1.314 fw-loss-ac  2.293\n",
      "epoch  2/10  60 | acc: 0.984 | MNIST fw-loss-wc  1.086 fw-loss-ac  2.154\n",
      "epoch  2/10  70 | acc: 0.969 | MNIST fw-loss-wc  1.156 fw-loss-ac  2.034\n",
      "epoch  2/10  80 | acc: 1.000 | MNIST fw-loss-wc  1.086 fw-loss-ac  2.133\n",
      "epoch  2/10  90 | acc: 0.984 | MNIST fw-loss-wc  1.181 fw-loss-ac  2.260\n",
      "epoch  2/10 100 | acc: 0.953 | MNIST fw-loss-wc  1.126 fw-loss-ac  2.144\n",
      "epoch  2/10 110 | acc: 0.984 | MNIST fw-loss-wc  1.135 fw-loss-ac  2.134\n",
      "epoch  2/10 120 | acc: 0.984 | MNIST fw-loss-wc  1.258 fw-loss-ac  2.374\n",
      "epoch  2/10 130 | acc: 0.984 | MNIST fw-loss-wc  1.222 fw-loss-ac  2.321\n",
      "epoch  2/10 140 | acc: 1.000 | MNIST fw-loss-wc  1.155 fw-loss-ac  2.193\n",
      "epoch  2/10 150 | acc: 1.000 | MNIST fw-loss-wc  1.319 fw-loss-ac  2.331\n",
      "epoch  2/10 160 | acc: 0.984 | MNIST fw-loss-wc  1.433 fw-loss-ac  2.486\n",
      "epoch  2/10 170 | acc: 0.984 | MNIST fw-loss-wc  1.114 fw-loss-ac  2.381\n",
      "epoch  2/10 180 | acc: 1.000 | MNIST fw-loss-wc  1.364 fw-loss-ac  2.379\n",
      "epoch  2/10 190 | acc: 0.953 | MNIST fw-loss-wc  1.334 fw-loss-ac  2.387\n",
      "epoch  2/10 200 | acc: 0.969 | MNIST fw-loss-wc  1.271 fw-loss-ac  2.352\n",
      "epoch  2/10 210 | acc: 1.000 | MNIST fw-loss-wc  1.406 fw-loss-ac  2.347\n",
      "epoch  2/10 220 | acc: 0.984 | MNIST fw-loss-wc  1.503 fw-loss-ac  2.534\n",
      "epoch  2/10 230 | acc: 0.984 | MNIST fw-loss-wc  1.288 fw-loss-ac  2.390\n",
      "epoch  2/10 240 | acc: 0.984 | MNIST fw-loss-wc  1.317 fw-loss-ac  2.231\n",
      "epoch  2/10 250 | acc: 0.969 | MNIST fw-loss-wc  1.211 fw-loss-ac  2.273\n",
      "epoch  2/10 260 | acc: 0.953 | MNIST fw-loss-wc  1.134 fw-loss-ac  2.097\n",
      "epoch  2/10 270 | acc: 0.969 | MNIST fw-loss-wc  1.105 fw-loss-ac  1.926\n",
      "epoch  2/10 280 | acc: 0.969 | MNIST fw-loss-wc  0.986 fw-loss-ac  2.087\n",
      "epoch  2/10 290 | acc: 0.984 | MNIST fw-loss-wc  0.984 fw-loss-ac  1.962\n",
      "epoch  2/10 300 | acc: 1.000 | MNIST fw-loss-wc  1.104 fw-loss-ac  1.942\n",
      "epoch  2/10 310 | acc: 1.000 | MNIST fw-loss-wc  1.006 fw-loss-ac  2.130\n",
      "epoch  2/10 320 | acc: 0.969 | MNIST fw-loss-wc  1.103 fw-loss-ac  1.978\n",
      "epoch  2/10 330 | acc: 0.953 | MNIST fw-loss-wc  1.031 fw-loss-ac  2.075\n",
      "epoch  2/10 340 | acc: 0.969 | MNIST fw-loss-wc  1.040 fw-loss-ac  1.925\n",
      "epoch  2/10 350 | acc: 1.000 | MNIST fw-loss-wc  1.267 fw-loss-ac  2.079\n",
      "epoch  2/10 360 | acc: 1.000 | MNIST fw-loss-wc  1.194 fw-loss-ac  2.109\n",
      "epoch  2/10 370 | acc: 1.000 | MNIST fw-loss-wc  1.045 fw-loss-ac  2.111\n",
      "epoch  2/10 380 | acc: 0.984 | MNIST fw-loss-wc  1.030 fw-loss-ac  1.895\n",
      "epoch  2/10 390 | acc: 0.984 | MNIST fw-loss-wc  1.105 fw-loss-ac  1.945\n",
      "epoch  2/10 400 | acc: 0.969 | MNIST fw-loss-wc  1.080 fw-loss-ac  2.158\n",
      "epoch  2/10 410 | acc: 0.984 | MNIST fw-loss-wc  1.181 fw-loss-ac  1.984\n",
      "epoch  2/10 420 | acc: 1.000 | MNIST fw-loss-wc  0.989 fw-loss-ac  2.074\n"
     ]
    },
    {
     "name": "stdout",
     "output_type": "stream",
     "text": [
      "epoch  2/10 430 | acc: 0.984 | MNIST fw-loss-wc  1.275 fw-loss-ac  2.356\n",
      "epoch  2/10 440 | acc: 0.938 | MNIST fw-loss-wc  1.332 fw-loss-ac  2.432\n",
      "epoch  2/10 450 | acc: 1.000 | MNIST fw-loss-wc  1.227 fw-loss-ac  2.249\n",
      "epoch  2/10 460 | acc: 1.000 | MNIST fw-loss-wc  1.345 fw-loss-ac  2.211\n",
      "epoch  2/10 470 | acc: 0.984 | MNIST fw-loss-wc  1.278 fw-loss-ac  2.257\n",
      "epoch  2/10 480 | acc: 1.000 | MNIST fw-loss-wc  1.210 fw-loss-ac  2.361\n",
      "epoch  2/10 490 | acc: 0.969 | MNIST fw-loss-wc  1.186 fw-loss-ac  2.275\n",
      "epoch  2/10 500 | acc: 0.969 | MNIST fw-loss-wc  1.173 fw-loss-ac  2.142\n",
      "epoch  2/10 510 | acc: 1.000 | MNIST fw-loss-wc  1.023 fw-loss-ac  1.943\n",
      "epoch  2/10 520 | acc: 1.000 | MNIST fw-loss-wc  1.012 fw-loss-ac  1.845\n",
      "epoch  2/10 530 | acc: 0.969 | MNIST fw-loss-wc  1.156 fw-loss-ac  1.958\n",
      "epoch  2/10 540 | acc: 0.969 | MNIST fw-loss-wc  1.148 fw-loss-ac  2.159\n",
      "epoch  2/10 550 | acc: 0.969 | MNIST fw-loss-wc  1.210 fw-loss-ac  2.244\n",
      "epoch  2/10 560 | acc: 1.000 | MNIST fw-loss-wc  1.219 fw-loss-ac  2.096\n",
      "epoch  2/10 570 | acc: 1.000 | MNIST fw-loss-wc  1.258 fw-loss-ac  2.307\n",
      "epoch  2/10 580 | acc: 1.000 | MNIST fw-loss-wc  1.286 fw-loss-ac  2.223\n",
      "epoch  2/10 590 | acc: 1.000 | MNIST fw-loss-wc  1.277 fw-loss-ac  2.216\n",
      "epoch  2/10 600 | acc: 0.984 | MNIST fw-loss-wc  1.113 fw-loss-ac  2.112\n",
      "epoch  2/10 610 | acc: 0.953 | MNIST fw-loss-wc  1.088 fw-loss-ac  1.912\n",
      "epoch  2/10 620 | acc: 0.969 | MNIST fw-loss-wc  1.000 fw-loss-ac  2.004\n",
      "epoch  2/10 630 | acc: 0.984 | MNIST fw-loss-wc  1.039 fw-loss-ac  2.108\n",
      "epoch  2/10 640 | acc: 1.000 | MNIST fw-loss-wc  1.190 fw-loss-ac  2.238\n",
      "epoch  2/10 650 | acc: 0.984 | MNIST fw-loss-wc  1.258 fw-loss-ac  2.267\n",
      "epoch  2/10 660 | acc: 0.984 | MNIST fw-loss-wc  1.324 fw-loss-ac  2.320\n",
      "epoch  2/10 670 | acc: 0.984 | MNIST fw-loss-wc  1.284 fw-loss-ac  2.250\n",
      "epoch  2/10 680 | acc: 1.000 | MNIST fw-loss-wc  1.189 fw-loss-ac  2.355\n",
      "epoch  2/10 690 | acc: 0.984 | MNIST fw-loss-wc  1.297 fw-loss-ac  2.279\n",
      "epoch  2/10 700 | acc: 0.984 | MNIST fw-loss-wc  1.058 fw-loss-ac  2.218\n",
      "epoch  2/10 710 | acc: 0.984 | MNIST fw-loss-wc  1.107 fw-loss-ac  2.125\n",
      "epoch  2/10 720 | acc: 1.000 | MNIST fw-loss-wc  1.253 fw-loss-ac  2.108\n",
      "epoch  2/10 730 | acc: 1.000 | MNIST fw-loss-wc  1.208 fw-loss-ac  2.167\n",
      "epoch  2/10 740 | acc: 0.984 | MNIST fw-loss-wc  1.221 fw-loss-ac  2.285\n",
      "epoch  2/10 750 | acc: 0.984 | MNIST fw-loss-wc  1.119 fw-loss-ac  2.284\n",
      "epoch  2/10 760 | acc: 0.984 | MNIST fw-loss-wc  1.207 fw-loss-ac  2.308\n",
      "epoch  2/10 770 | acc: 1.000 | MNIST fw-loss-wc  1.251 fw-loss-ac  2.391\n",
      "epoch  2/10 780 | acc: 1.000 | MNIST fw-loss-wc  1.253 fw-loss-ac  2.379\n",
      "epoch  2/10 790 | acc: 1.000 | MNIST fw-loss-wc  1.212 fw-loss-ac  2.409\n",
      "epoch  2/10 800 | acc: 0.969 | MNIST fw-loss-wc  1.244 fw-loss-ac  2.227\n",
      "epoch  2/10 810 | acc: 1.000 | MNIST fw-loss-wc  1.221 fw-loss-ac  2.248\n",
      "epoch  2/10 820 | acc: 1.000 | MNIST fw-loss-wc  1.401 fw-loss-ac  2.454\n",
      "epoch  2/10 830 | acc: 0.953 | MNIST fw-loss-wc  1.237 fw-loss-ac  2.439\n",
      "epoch  2/10 840 | acc: 0.969 | MNIST fw-loss-wc  1.379 fw-loss-ac  2.401\n",
      "epoch  2/10 850 | acc: 0.984 | MNIST fw-loss-wc  1.458 fw-loss-ac  2.492\n",
      "[Validation] Label loss: 0.051 | Accuracy: 0.985\n",
      "csv saved.\n",
      "pth saved.\n"
     ]
    }
   ],
   "source": [
    "train('basic')"
   ]
  },
  {
   "cell_type": "markdown",
   "metadata": {},
   "source": [
    "## Inference on MNIST-M"
   ]
  },
  {
   "cell_type": "code",
   "execution_count": 38,
   "metadata": {
    "ExecuteTime": {
     "end_time": "2019-08-07T02:22:24.963100Z",
     "start_time": "2019-08-07T02:22:24.830813Z"
    }
   },
   "outputs": [],
   "source": [
    "def load_fe(save_path, save_name, device='cpu'):\n",
    "    model = FeatureExtractor().to(device)\n",
    "    model.load_state_dict(torch.load(os.path.join(save_path, save_name), map_location=device))\n",
    "    return model.double()"
   ]
  },
  {
   "cell_type": "code",
   "execution_count": 39,
   "metadata": {
    "ExecuteTime": {
     "end_time": "2019-08-07T02:22:25.080073Z",
     "start_time": "2019-08-07T02:22:24.964797Z"
    }
   },
   "outputs": [],
   "source": [
    "def load_lc(save_path, save_name, device='cpu'):\n",
    "    model = LabelClassifier().to(device)\n",
    "    model.load_state_dict(torch.load(os.path.join(save_path, save_name), map_location=device))\n",
    "    return model.double()"
   ]
  },
  {
   "cell_type": "code",
   "execution_count": 40,
   "metadata": {
    "ExecuteTime": {
     "end_time": "2019-08-07T02:22:25.219650Z",
     "start_time": "2019-08-07T02:22:25.085532Z"
    }
   },
   "outputs": [
    {
     "name": "stdout",
     "output_type": "stream",
     "text": [
      "========== Model Summary ==========\n",
      "* Input shape: (3, 28, 28) -> Conv2d -> Output shape:  (32, 26, 26)\n",
      "* Input shape: (32, 26, 26) -> MaxPool2d -> Output shape:  (32, 13, 13)\n",
      "* Input shape: (32, 13, 13) -> Conv2d -> Output shape:  (64, 11, 11)\n",
      "* Input shape: (64, 11, 11) -> MaxPool2d -> Output shape:  (64, 5, 5)\n",
      "* Input shape: (64, 5, 5) -> Conv2d -> Output shape:  (64, 3, 3)\n"
     ]
    }
   ],
   "source": [
    "fe_basic = load_fe(pth_save_path, 'basic_fe.pth')"
   ]
  },
  {
   "cell_type": "code",
   "execution_count": 41,
   "metadata": {
    "ExecuteTime": {
     "end_time": "2019-08-07T02:22:25.368885Z",
     "start_time": "2019-08-07T02:22:25.223627Z"
    }
   },
   "outputs": [
    {
     "name": "stdout",
     "output_type": "stream",
     "text": [
      "========== Model Summary ==========\n",
      "* Input shape: 576 -> Linear -> Output shape: 64\n",
      "* Input shape: 64 -> Linear -> Output shape: 10\n"
     ]
    }
   ],
   "source": [
    "lc_basic = load_lc(pth_save_path, 'basic_lc.pth')"
   ]
  },
  {
   "cell_type": "code",
   "execution_count": 57,
   "metadata": {
    "ExecuteTime": {
     "end_time": "2019-08-07T02:34:31.750531Z",
     "start_time": "2019-08-07T02:34:31.451925Z"
    }
   },
   "outputs": [],
   "source": [
    "def inference(fe, lc, data, labels):\n",
    "    \n",
    "    test_ds = TensorDataset(torch.from_numpy(data).double(), torch.from_numpy(labels).long())\n",
    "    test_dl = DataLoader(test_ds, batch_size=64, shuffle=False)\n",
    "    # random shuffle & sample => random sample\n",
    "    \n",
    "    # feed-forward\n",
    "    fe.eval(); lc.eval()\n",
    "    accs = []\n",
    "    for data, labels in test_dl: \n",
    "        feats = fe(data)\n",
    "        preds = lc(feats)\n",
    "        acc = accuracy(preds, labels).detach().item()  # compute metric\n",
    "        accs.append(acc)\n",
    "    \n",
    "    return np.mean(accs)"
   ]
  },
  {
   "cell_type": "code",
   "execution_count": 58,
   "metadata": {
    "ExecuteTime": {
     "end_time": "2019-08-07T02:34:41.184626Z",
     "start_time": "2019-08-07T02:34:35.107447Z"
    }
   },
   "outputs": [
    {
     "name": "stdout",
     "output_type": "stream",
     "text": [
      "Inference accuracy is 98.56% on MNIST test.\n"
     ]
    }
   ],
   "source": [
    "mnist_test_acc = inference(fe_basic, lc_basic, mnist_test, mnist_test_labels)\n",
    "print('Inference accuracy is {0:4.2f}% on MNIST test.'.format(mnist_test_acc * 100))"
   ]
  },
  {
   "cell_type": "code",
   "execution_count": 59,
   "metadata": {
    "ExecuteTime": {
     "end_time": "2019-08-07T02:34:47.602694Z",
     "start_time": "2019-08-07T02:34:41.189014Z"
    }
   },
   "outputs": [
    {
     "name": "stdout",
     "output_type": "stream",
     "text": [
      "Inference accuracy is 59.93% on MNIST-M test.\n"
     ]
    }
   ],
   "source": [
    "mnistm_test_acc = inference(fe_basic, lc_basic, mnistm_test, mnist_test_labels)\n",
    "print('Inference accuracy is {0:4.2f}% on MNIST-M test.'.format(mnistm_test_acc * 100))"
   ]
  },
  {
   "cell_type": "markdown",
   "metadata": {},
   "source": [
    "## Trend of `fw-loss`"
   ]
  },
  {
   "cell_type": "code",
   "execution_count": 60,
   "metadata": {
    "ExecuteTime": {
     "end_time": "2019-08-07T02:34:56.240587Z",
     "start_time": "2019-08-07T02:34:55.893827Z"
    }
   },
   "outputs": [],
   "source": [
    "training_csv = pd.read_csv(os.path.join(csv_save_path, 'basic_train.csv'))"
   ]
  },
  {
   "cell_type": "code",
   "execution_count": 61,
   "metadata": {
    "ExecuteTime": {
     "end_time": "2019-08-07T02:34:56.761550Z",
     "start_time": "2019-08-07T02:34:56.576937Z"
    }
   },
   "outputs": [
    {
     "data": {
      "text/html": [
       "<div>\n",
       "<style scoped>\n",
       "    .dataframe tbody tr th:only-of-type {\n",
       "        vertical-align: middle;\n",
       "    }\n",
       "\n",
       "    .dataframe tbody tr th {\n",
       "        vertical-align: top;\n",
       "    }\n",
       "\n",
       "    .dataframe thead th {\n",
       "        text-align: right;\n",
       "    }\n",
       "</style>\n",
       "<table border=\"1\" class=\"dataframe\">\n",
       "  <thead>\n",
       "    <tr style=\"text-align: right;\">\n",
       "      <th></th>\n",
       "      <th>Unnamed: 0</th>\n",
       "      <th>step</th>\n",
       "      <th>loss</th>\n",
       "      <th>acc</th>\n",
       "      <th>fw_loss_wc</th>\n",
       "      <th>fw_loss_ac</th>\n",
       "    </tr>\n",
       "  </thead>\n",
       "  <tbody>\n",
       "    <tr>\n",
       "      <th>0</th>\n",
       "      <td>0</td>\n",
       "      <td>0.0</td>\n",
       "      <td>2.300528</td>\n",
       "      <td>0.156250</td>\n",
       "      <td>0.001215</td>\n",
       "      <td>0.001570</td>\n",
       "    </tr>\n",
       "    <tr>\n",
       "      <th>1</th>\n",
       "      <td>1</td>\n",
       "      <td>10.0</td>\n",
       "      <td>2.306125</td>\n",
       "      <td>0.062500</td>\n",
       "      <td>0.001197</td>\n",
       "      <td>0.001849</td>\n",
       "    </tr>\n",
       "    <tr>\n",
       "      <th>2</th>\n",
       "      <td>2</td>\n",
       "      <td>20.0</td>\n",
       "      <td>2.289416</td>\n",
       "      <td>0.109375</td>\n",
       "      <td>0.001313</td>\n",
       "      <td>0.002035</td>\n",
       "    </tr>\n",
       "    <tr>\n",
       "      <th>3</th>\n",
       "      <td>3</td>\n",
       "      <td>30.0</td>\n",
       "      <td>2.282065</td>\n",
       "      <td>0.234375</td>\n",
       "      <td>0.001895</td>\n",
       "      <td>0.002681</td>\n",
       "    </tr>\n",
       "    <tr>\n",
       "      <th>4</th>\n",
       "      <td>4</td>\n",
       "      <td>40.0</td>\n",
       "      <td>2.273516</td>\n",
       "      <td>0.296875</td>\n",
       "      <td>0.002230</td>\n",
       "      <td>0.004257</td>\n",
       "    </tr>\n",
       "  </tbody>\n",
       "</table>\n",
       "</div>"
      ],
      "text/plain": [
       "   Unnamed: 0  step      loss       acc  fw_loss_wc  fw_loss_ac\n",
       "0           0   0.0  2.300528  0.156250    0.001215    0.001570\n",
       "1           1  10.0  2.306125  0.062500    0.001197    0.001849\n",
       "2           2  20.0  2.289416  0.109375    0.001313    0.002035\n",
       "3           3  30.0  2.282065  0.234375    0.001895    0.002681\n",
       "4           4  40.0  2.273516  0.296875    0.002230    0.004257"
      ]
     },
     "execution_count": 61,
     "metadata": {},
     "output_type": "execute_result"
    }
   ],
   "source": [
    "training_csv.head()"
   ]
  },
  {
   "cell_type": "code",
   "execution_count": 62,
   "metadata": {
    "ExecuteTime": {
     "end_time": "2019-08-07T02:34:58.125811Z",
     "start_time": "2019-08-07T02:34:57.378596Z"
    }
   },
   "outputs": [
    {
     "data": {
      "image/png": "[encoded data removed]",
      "text/plain": [
       "<Figure size 1224x360 with 1 Axes>"
      ]
     },
     "metadata": {
      "needs_background": "light"
     },
     "output_type": "display_data"
    }
   ],
   "source": [
    "plt.figure(figsize=(17, 5))\n",
    "steps = np.arange(0, 2580, 10)\n",
    "plt.plot(steps, training_csv['fw_loss_wc'], label='MSE Within Class')\n",
    "plt.plot(steps, training_csv['fw_loss_ac'], label='MSE Among Classes')\n",
    "plt.legend()\n",
    "plt.xlabel('Steps (860 steps per epoch; 3 epochs in total)')\n",
    "plt.ylabel('Feature-wise Mean Squared Error (MSE)')\n",
    "plt.title('Feature-wise Mean Squared Error VS. Steps')\n",
    "plt.show()"
   ]
  },
  {
   "cell_type": "code",
   "execution_count": 63,
   "metadata": {
    "ExecuteTime": {
     "end_time": "2019-08-07T02:34:59.314577Z",
     "start_time": "2019-08-07T02:34:59.187766Z"
    }
   },
   "outputs": [
    {
     "data": {
      "text/plain": [
       "1.8711994251709014"
      ]
     },
     "execution_count": 63,
     "metadata": {},
     "output_type": "execute_result"
    }
   ],
   "source": [
    "np.mean(training_csv['fw_loss_ac'] / training_csv['fw_loss_wc'])"
   ]
  },
  {
   "cell_type": "code",
   "execution_count": 14,
   "metadata": {
    "ExecuteTime": {
     "end_time": "2019-08-07T02:18:39.780820Z",
     "start_time": "2019-08-07T02:18:39.282718Z"
    }
   },
   "outputs": [
    {
     "data": {
      "image/png": "[encoded data removed]",
      "text/plain": [
       "<Figure size 1224x360 with 1 Axes>"
      ]
     },
     "metadata": {
      "needs_background": "light"
     },
     "output_type": "display_data"
    }
   ],
   "source": [
    "plt.figure(figsize=(17, 5))\n",
    "plt.plot(steps, training_csv['fw_loss_ac'] / training_csv['fw_loss_wc'])\n",
    "plt.xlabel('Steps (860 steps per epoch; 3 epochs in total)')\n",
    "plt.ylabel('Ratio of Among-classes loss to Within-class loss')\n",
    "plt.show()"
   ]
  },
  {
   "cell_type": "code",
   "execution_count": null,
   "metadata": {},
   "outputs": [],
   "source": []
  }
 ],
 "metadata": {
  "kernelspec": {
   "display_name": "Python 3",
   "language": "python",
   "name": "python3"
  },
  "language_info": {
   "codemirror_mode": {
    "name": "ipython",
    "version": 3
   },
   "file_extension": ".py",
   "mimetype": "text/x-python",
   "name": "python",
   "nbconvert_exporter": "python",
   "pygments_lexer": "ipython3",
   "version": "3.6.5"
  },
  "toc": {
   "base_numbering": 1,
   "nav_menu": {},
   "number_sections": false,
   "sideBar": true,
   "skip_h1_title": false,
   "title_cell": "Table of Contents",
   "title_sidebar": "Contents",
   "toc_cell": false,
   "toc_position": {},
   "toc_section_display": true,
   "toc_window_display": false
  }
 },
 "nbformat": 4,
 "nbformat_minor": 2
}
